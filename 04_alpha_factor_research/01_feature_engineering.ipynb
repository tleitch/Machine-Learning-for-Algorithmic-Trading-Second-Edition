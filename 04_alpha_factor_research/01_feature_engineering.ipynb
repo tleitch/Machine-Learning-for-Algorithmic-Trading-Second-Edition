{
  "nbformat": 4,
  "nbformat_minor": 0,
  "metadata": {
    "kernelspec": {
      "display_name": "Python 3",
      "language": "python",
      "name": "python3"
    },
    "language_info": {
      "codemirror_mode": {
        "name": "ipython",
        "version": 3
      },
      "file_extension": ".py",
      "mimetype": "text/x-python",
      "name": "python",
      "nbconvert_exporter": "python",
      "pygments_lexer": "ipython3",
      "version": "3.8.8"
    },
    "toc": {
      "base_numbering": 1,
      "nav_menu": {},
      "number_sections": true,
      "sideBar": true,
      "skip_h1_title": true,
      "title_cell": "Table of Contents",
      "title_sidebar": "Contents",
      "toc_cell": false,
      "toc_position": {
        "height": "calc(100% - 180px)",
        "left": "10px",
        "top": "150px",
        "width": "230.355px"
      },
      "toc_section_display": true,
      "toc_window_display": true
    },
    "colab": {
      "name": "01_feature_engineering.ipynb",
      "provenance": [],
      "include_colab_link": true
    }
  },
  "cells": [
    {
      "cell_type": "markdown",
      "metadata": {
        "id": "view-in-github",
        "colab_type": "text"
      },
      "source": [
        "<a href=\"https://colab.research.google.com/github/tleitch/Machine-Learning-for-Algorithmic-Trading-Second-Edition/blob/master/04_alpha_factor_research/01_feature_engineering.ipynb\" target=\"_parent\"><img src=\"https://colab.research.google.com/assets/colab-badge.svg\" alt=\"Open In Colab\"/></a>"
      ]
    },
    {
      "cell_type": "markdown",
      "metadata": {
        "id": "yKe9mowxa6tu"
      },
      "source": [
        "# How to transform data into factors"
      ]
    },
    {
      "cell_type": "markdown",
      "metadata": {
        "id": "0ERc5PbRa6tw"
      },
      "source": [
        "Based on a conceptual understanding of key factor categories, their rationale and popular metrics, a key task is to identify new factors that may better capture the risks embodied by the return drivers laid out previously, or to find new ones. \n",
        "\n",
        "In either case, it will be important to compare the performance of innovative factors to that of known factors to identify incremental signal gains."
      ]
    },
    {
      "cell_type": "markdown",
      "metadata": {
        "id": "Jj0vuR_Sa6tw"
      },
      "source": [
        "We create the dataset here and store it in our [data](../data) folder to facilitate reuse in later chapters."
      ]
    },
    {
      "cell_type": "markdown",
      "metadata": {
        "id": "u4MBUS0Fa6tx"
      },
      "source": [
        "## Imports & Settings"
      ]
    },
    {
      "cell_type": "code",
      "metadata": {
        "ExecuteTime": {
          "end_time": "2021-04-15T19:41:03.495850Z",
          "start_time": "2021-04-15T19:41:03.491885Z"
        },
        "id": "Epi1cH2oa6tx"
      },
      "source": [
        "import warnings\n",
        "warnings.filterwarnings('ignore')"
      ],
      "execution_count": 1,
      "outputs": []
    },
    {
      "cell_type": "code",
      "metadata": {
        "ExecuteTime": {
          "end_time": "2021-04-15T19:41:04.376337Z",
          "start_time": "2021-04-15T19:41:03.779408Z"
        },
        "colab": {
          "base_uri": "https://localhost:8080/"
        },
        "id": "o7k0JI39a6tx",
        "outputId": "53f19af9-3577-4672-fee7-e5d5109d49a1"
      },
      "source": [
        "!pip install \"statsmodels==0.11.1\"\n",
        "%matplotlib inline\n",
        "\n",
        "from datetime import datetime\n",
        "import pandas as pd\n",
        "import pandas_datareader.data as web\n",
        "\n",
        "# replaces pyfinance.ols.PandasRollingOLS (no longer maintained)\n",
        "from statsmodels.regression.rolling import RollingOLS\n",
        "import statsmodels.api as sm\n",
        "\n",
        "import matplotlib.pyplot as plt\n",
        "import seaborn as sns"
      ],
      "execution_count": 2,
      "outputs": [
        {
          "output_type": "stream",
          "text": [
            "Requirement already satisfied: statsmodels==0.11.1 in /usr/local/lib/python3.7/dist-packages (0.11.1)\n",
            "Requirement already satisfied: scipy>=1.0 in /usr/local/lib/python3.7/dist-packages (from statsmodels==0.11.1) (1.4.1)\n",
            "Requirement already satisfied: pandas>=0.21 in /usr/local/lib/python3.7/dist-packages (from statsmodels==0.11.1) (1.1.5)\n",
            "Requirement already satisfied: patsy>=0.5 in /usr/local/lib/python3.7/dist-packages (from statsmodels==0.11.1) (0.5.1)\n",
            "Requirement already satisfied: numpy>=1.14 in /usr/local/lib/python3.7/dist-packages (from statsmodels==0.11.1) (1.19.5)\n",
            "Requirement already satisfied: pytz>=2017.2 in /usr/local/lib/python3.7/dist-packages (from pandas>=0.21->statsmodels==0.11.1) (2018.9)\n",
            "Requirement already satisfied: python-dateutil>=2.7.3 in /usr/local/lib/python3.7/dist-packages (from pandas>=0.21->statsmodels==0.11.1) (2.8.1)\n",
            "Requirement already satisfied: six in /usr/local/lib/python3.7/dist-packages (from patsy>=0.5->statsmodels==0.11.1) (1.15.0)\n"
          ],
          "name": "stdout"
        }
      ]
    },
    {
      "cell_type": "code",
      "metadata": {
        "ExecuteTime": {
          "end_time": "2021-04-15T19:41:04.513447Z",
          "start_time": "2021-04-15T19:41:04.510049Z"
        },
        "id": "xQSSi71Ea6ty"
      },
      "source": [
        "sns.set_style('whitegrid')\n",
        "idx = pd.IndexSlice"
      ],
      "execution_count": 4,
      "outputs": []
    },
    {
      "cell_type": "markdown",
      "metadata": {
        "id": "DuVWraLma6ty"
      },
      "source": [
        "## Get Data"
      ]
    },
    {
      "cell_type": "markdown",
      "metadata": {
        "id": "iKg377DZa6ty"
      },
      "source": [
        "The `assets.h5` store can be generated using the the notebook [create_datasets](../data/create_datasets.ipynb) in the [data](../data) directory in the root directory of this repo for instruction to download the following dataset."
      ]
    },
    {
      "cell_type": "markdown",
      "metadata": {
        "id": "y1iv-Fz_a6t0"
      },
      "source": [
        "We load the Quandl stock price datasets covering the US equity markets 2000-18 using `pd.IndexSlice` to perform a slice operation on the `pd.MultiIndex`, select the adjusted close price and unpivot the column to convert the DataFrame to wide format with tickers in the columns and timestamps in the rows:"
      ]
    },
    {
      "cell_type": "markdown",
      "metadata": {
        "id": "3VS2VXhka6t0"
      },
      "source": [
        "Set data store location:"
      ]
    },
    {
      "cell_type": "code",
      "metadata": {
        "ExecuteTime": {
          "end_time": "2021-04-15T19:42:15.894855Z",
          "start_time": "2021-04-15T19:42:15.892460Z"
        },
        "id": "sqnDa-2Xa6t0"
      },
      "source": [
        "!mkdir ../data\n",
        "DATA_STORE = '../data/assets.h5'"
      ],
      "execution_count": 8,
      "outputs": []
    },
    {
      "cell_type": "code",
      "metadata": {
        "ExecuteTime": {
          "end_time": "2021-04-15T19:42:15.908751Z",
          "start_time": "2021-04-15T19:42:15.898676Z"
        },
        "id": "xNe7jbQ8a6t0"
      },
      "source": [
        "START = 2000\n",
        "END = 2018"
      ],
      "execution_count": 9,
      "outputs": []
    },
    {
      "cell_type": "code",
      "metadata": {
        "ExecuteTime": {
          "end_time": "2021-04-15T19:42:22.923496Z",
          "start_time": "2021-04-15T19:42:15.909916Z"
        },
        "colab": {
          "base_uri": "https://localhost:8080/",
          "height": 371
        },
        "id": "mvurUqaHa6t1",
        "outputId": "9dd5f758-4f54-4bcd-f685-c882a2a31914"
      },
      "source": [
        "with pd.HDFStore(DATA_STORE) as store:\n",
        "    prices = (store['quandl/wiki/prices']\n",
        "              .loc[idx[str(START):str(END), :], 'adj_close']\n",
        "              .unstack('ticker'))\n",
        "    stocks = store['us_equities/stocks'].loc[:, ['marketcap', 'ipoyear', 'sector']]"
      ],
      "execution_count": 10,
      "outputs": [
        {
          "output_type": "error",
          "ename": "KeyError",
          "evalue": "ignored",
          "traceback": [
            "\u001b[0;31m---------------------------------------------------------------------------\u001b[0m",
            "\u001b[0;31mKeyError\u001b[0m                                  Traceback (most recent call last)",
            "\u001b[0;32m<ipython-input-10-70579e58876a>\u001b[0m in \u001b[0;36m<module>\u001b[0;34m()\u001b[0m\n\u001b[1;32m      1\u001b[0m \u001b[0;32mwith\u001b[0m \u001b[0mpd\u001b[0m\u001b[0;34m.\u001b[0m\u001b[0mHDFStore\u001b[0m\u001b[0;34m(\u001b[0m\u001b[0mDATA_STORE\u001b[0m\u001b[0;34m)\u001b[0m \u001b[0;32mas\u001b[0m \u001b[0mstore\u001b[0m\u001b[0;34m:\u001b[0m\u001b[0;34m\u001b[0m\u001b[0;34m\u001b[0m\u001b[0m\n\u001b[0;32m----> 2\u001b[0;31m     prices = (store['quandl/wiki/prices']\n\u001b[0m\u001b[1;32m      3\u001b[0m               \u001b[0;34m.\u001b[0m\u001b[0mloc\u001b[0m\u001b[0;34m[\u001b[0m\u001b[0midx\u001b[0m\u001b[0;34m[\u001b[0m\u001b[0mstr\u001b[0m\u001b[0;34m(\u001b[0m\u001b[0mSTART\u001b[0m\u001b[0;34m)\u001b[0m\u001b[0;34m:\u001b[0m\u001b[0mstr\u001b[0m\u001b[0;34m(\u001b[0m\u001b[0mEND\u001b[0m\u001b[0;34m)\u001b[0m\u001b[0;34m,\u001b[0m \u001b[0;34m:\u001b[0m\u001b[0;34m]\u001b[0m\u001b[0;34m,\u001b[0m \u001b[0;34m'adj_close'\u001b[0m\u001b[0;34m]\u001b[0m\u001b[0;34m\u001b[0m\u001b[0;34m\u001b[0m\u001b[0m\n\u001b[1;32m      4\u001b[0m               .unstack('ticker'))\n\u001b[1;32m      5\u001b[0m     \u001b[0mstocks\u001b[0m \u001b[0;34m=\u001b[0m \u001b[0mstore\u001b[0m\u001b[0;34m[\u001b[0m\u001b[0;34m'us_equities/stocks'\u001b[0m\u001b[0;34m]\u001b[0m\u001b[0;34m.\u001b[0m\u001b[0mloc\u001b[0m\u001b[0;34m[\u001b[0m\u001b[0;34m:\u001b[0m\u001b[0;34m,\u001b[0m \u001b[0;34m[\u001b[0m\u001b[0;34m'marketcap'\u001b[0m\u001b[0;34m,\u001b[0m \u001b[0;34m'ipoyear'\u001b[0m\u001b[0;34m,\u001b[0m \u001b[0;34m'sector'\u001b[0m\u001b[0;34m]\u001b[0m\u001b[0;34m]\u001b[0m\u001b[0;34m\u001b[0m\u001b[0;34m\u001b[0m\u001b[0m\n",
            "\u001b[0;32m/usr/local/lib/python3.7/dist-packages/pandas/io/pytables.py\u001b[0m in \u001b[0;36m__getitem__\u001b[0;34m(self, key)\u001b[0m\n\u001b[1;32m    567\u001b[0m \u001b[0;34m\u001b[0m\u001b[0m\n\u001b[1;32m    568\u001b[0m     \u001b[0;32mdef\u001b[0m \u001b[0m__getitem__\u001b[0m\u001b[0;34m(\u001b[0m\u001b[0mself\u001b[0m\u001b[0;34m,\u001b[0m \u001b[0mkey\u001b[0m\u001b[0;34m:\u001b[0m \u001b[0mstr\u001b[0m\u001b[0;34m)\u001b[0m\u001b[0;34m:\u001b[0m\u001b[0;34m\u001b[0m\u001b[0;34m\u001b[0m\u001b[0m\n\u001b[0;32m--> 569\u001b[0;31m         \u001b[0;32mreturn\u001b[0m \u001b[0mself\u001b[0m\u001b[0;34m.\u001b[0m\u001b[0mget\u001b[0m\u001b[0;34m(\u001b[0m\u001b[0mkey\u001b[0m\u001b[0;34m)\u001b[0m\u001b[0;34m\u001b[0m\u001b[0;34m\u001b[0m\u001b[0m\n\u001b[0m\u001b[1;32m    570\u001b[0m \u001b[0;34m\u001b[0m\u001b[0m\n\u001b[1;32m    571\u001b[0m     \u001b[0;32mdef\u001b[0m \u001b[0m__setitem__\u001b[0m\u001b[0;34m(\u001b[0m\u001b[0mself\u001b[0m\u001b[0;34m,\u001b[0m \u001b[0mkey\u001b[0m\u001b[0;34m:\u001b[0m \u001b[0mstr\u001b[0m\u001b[0;34m,\u001b[0m \u001b[0mvalue\u001b[0m\u001b[0;34m)\u001b[0m\u001b[0;34m:\u001b[0m\u001b[0;34m\u001b[0m\u001b[0;34m\u001b[0m\u001b[0m\n",
            "\u001b[0;32m/usr/local/lib/python3.7/dist-packages/pandas/io/pytables.py\u001b[0m in \u001b[0;36mget\u001b[0;34m(self, key)\u001b[0m\n\u001b[1;32m    789\u001b[0m             \u001b[0mgroup\u001b[0m \u001b[0;34m=\u001b[0m \u001b[0mself\u001b[0m\u001b[0;34m.\u001b[0m\u001b[0mget_node\u001b[0m\u001b[0;34m(\u001b[0m\u001b[0mkey\u001b[0m\u001b[0;34m)\u001b[0m\u001b[0;34m\u001b[0m\u001b[0;34m\u001b[0m\u001b[0m\n\u001b[1;32m    790\u001b[0m             \u001b[0;32mif\u001b[0m \u001b[0mgroup\u001b[0m \u001b[0;32mis\u001b[0m \u001b[0;32mNone\u001b[0m\u001b[0;34m:\u001b[0m\u001b[0;34m\u001b[0m\u001b[0;34m\u001b[0m\u001b[0m\n\u001b[0;32m--> 791\u001b[0;31m                 \u001b[0;32mraise\u001b[0m \u001b[0mKeyError\u001b[0m\u001b[0;34m(\u001b[0m\u001b[0;34mf\"No object named {key} in the file\"\u001b[0m\u001b[0;34m)\u001b[0m\u001b[0;34m\u001b[0m\u001b[0;34m\u001b[0m\u001b[0m\n\u001b[0m\u001b[1;32m    792\u001b[0m             \u001b[0;32mreturn\u001b[0m \u001b[0mself\u001b[0m\u001b[0;34m.\u001b[0m\u001b[0m_read_group\u001b[0m\u001b[0;34m(\u001b[0m\u001b[0mgroup\u001b[0m\u001b[0;34m)\u001b[0m\u001b[0;34m\u001b[0m\u001b[0;34m\u001b[0m\u001b[0m\n\u001b[1;32m    793\u001b[0m \u001b[0;34m\u001b[0m\u001b[0m\n",
            "\u001b[0;31mKeyError\u001b[0m: 'No object named quandl/wiki/prices in the file'"
          ]
        }
      ]
    },
    {
      "cell_type": "code",
      "metadata": {
        "ExecuteTime": {
          "end_time": "2021-04-15T19:42:23.001008Z",
          "start_time": "2021-04-15T19:42:22.924508Z"
        },
        "id": "pfoHO-3Ea6t1"
      },
      "source": [
        "prices.info()"
      ],
      "execution_count": null,
      "outputs": []
    },
    {
      "cell_type": "code",
      "metadata": {
        "ExecuteTime": {
          "end_time": "2021-04-15T19:42:23.008893Z",
          "start_time": "2021-04-15T19:42:23.002047Z"
        },
        "id": "kTf83zHia6t2"
      },
      "source": [
        "stocks.info()"
      ],
      "execution_count": null,
      "outputs": []
    },
    {
      "cell_type": "markdown",
      "metadata": {
        "id": "jjcUFMq0a6t2"
      },
      "source": [
        "### Keep data with stock info"
      ]
    },
    {
      "cell_type": "markdown",
      "metadata": {
        "id": "dn3_g8e2a6t3"
      },
      "source": [
        "Remove `stocks` duplicates and align index names for later joining."
      ]
    },
    {
      "cell_type": "code",
      "metadata": {
        "ExecuteTime": {
          "end_time": "2021-04-15T19:42:23.018069Z",
          "start_time": "2021-04-15T19:42:23.009732Z"
        },
        "id": "6E5RQS3qa6t3"
      },
      "source": [
        "stocks = stocks[~stocks.index.duplicated()]\n",
        "stocks.index.name = 'ticker'"
      ],
      "execution_count": null,
      "outputs": []
    },
    {
      "cell_type": "markdown",
      "metadata": {
        "id": "Ry9TBQMba6t3"
      },
      "source": [
        "Get tickers with both price information and metdata"
      ]
    },
    {
      "cell_type": "code",
      "metadata": {
        "ExecuteTime": {
          "end_time": "2021-04-15T19:42:23.027293Z",
          "start_time": "2021-04-15T19:42:23.018895Z"
        },
        "id": "PmkKhMNma6t3"
      },
      "source": [
        "shared = prices.columns.intersection(stocks.index)"
      ],
      "execution_count": null,
      "outputs": []
    },
    {
      "cell_type": "code",
      "metadata": {
        "ExecuteTime": {
          "end_time": "2021-04-15T19:42:23.043241Z",
          "start_time": "2021-04-15T19:42:23.028490Z"
        },
        "id": "e0i4HADla6t4"
      },
      "source": [
        "stocks = stocks.loc[shared, :]\n",
        "stocks.info()"
      ],
      "execution_count": null,
      "outputs": []
    },
    {
      "cell_type": "code",
      "metadata": {
        "ExecuteTime": {
          "end_time": "2021-04-15T19:42:23.137083Z",
          "start_time": "2021-04-15T19:42:23.044635Z"
        },
        "scrolled": true,
        "id": "QJ6LWO7xa6t4"
      },
      "source": [
        "prices = prices.loc[:, shared]\n",
        "prices.info()"
      ],
      "execution_count": null,
      "outputs": []
    },
    {
      "cell_type": "code",
      "metadata": {
        "ExecuteTime": {
          "end_time": "2021-04-15T19:42:23.140088Z",
          "start_time": "2021-04-15T19:42:23.138243Z"
        },
        "id": "uG9Wj08pa6t4"
      },
      "source": [
        "assert prices.shape[1] == stocks.shape[0]"
      ],
      "execution_count": null,
      "outputs": []
    },
    {
      "cell_type": "markdown",
      "metadata": {
        "id": "BQ6veNBxa6t4"
      },
      "source": [
        "## Create monthly return series"
      ]
    },
    {
      "cell_type": "markdown",
      "metadata": {
        "id": "3jfbm1RPa6t4"
      },
      "source": [
        "To reduce training time and experiment with strategies for longer time horizons, we convert the business-daily data to month-end frequency using the available adjusted close price:"
      ]
    },
    {
      "cell_type": "code",
      "metadata": {
        "ExecuteTime": {
          "end_time": "2021-04-15T19:42:23.170928Z",
          "start_time": "2021-04-15T19:42:23.141153Z"
        },
        "id": "7j5_i5R5a6t5"
      },
      "source": [
        "monthly_prices = prices.resample('M').last()"
      ],
      "execution_count": null,
      "outputs": []
    },
    {
      "cell_type": "markdown",
      "metadata": {
        "id": "S9jhWdmFa6t5"
      },
      "source": [
        "To capture time series dynamics that reflect, for example, momentum patterns, we compute historical returns using the method `.pct_change(n_periods)`, that is, returns over various monthly periods as identified by lags.\n",
        "\n",
        "We then convert the wide result back to long format with the `.stack()` method, use `.pipe()` to apply the `.clip()` method to the resulting `DataFrame`, and winsorize returns at the [1%, 99%] levels; that is, we cap outliers at these percentiles.\n",
        "\n",
        "Finally, we normalize returns using the geometric average. After using `.swaplevel()` to change the order of the `MultiIndex` levels, we obtain compounded monthly returns for six periods ranging from 1 to 12 months:"
      ]
    },
    {
      "cell_type": "code",
      "metadata": {
        "ExecuteTime": {
          "end_time": "2021-04-15T19:42:23.275075Z",
          "start_time": "2021-04-15T19:42:23.171959Z"
        },
        "id": "HSeMCcAua6t5"
      },
      "source": [
        "monthly_prices.info()"
      ],
      "execution_count": null,
      "outputs": []
    },
    {
      "cell_type": "code",
      "metadata": {
        "ExecuteTime": {
          "end_time": "2021-04-15T19:42:27.496502Z",
          "start_time": "2021-04-15T19:42:23.276017Z"
        },
        "id": "Es9yQFSMa6t5"
      },
      "source": [
        "outlier_cutoff = 0.01\n",
        "data = pd.DataFrame()\n",
        "lags = [1, 2, 3, 6, 9, 12]\n",
        "for lag in lags:\n",
        "    data[f'return_{lag}m'] = (monthly_prices\n",
        "                           .pct_change(lag)\n",
        "                           .stack()\n",
        "                           .pipe(lambda x: x.clip(lower=x.quantile(outlier_cutoff),\n",
        "                                                  upper=x.quantile(1-outlier_cutoff)))\n",
        "                           .add(1)\n",
        "                           .pow(1/lag)\n",
        "                           .sub(1)\n",
        "                           )\n",
        "data = data.swaplevel().dropna()\n",
        "data.info()"
      ],
      "execution_count": null,
      "outputs": []
    },
    {
      "cell_type": "markdown",
      "metadata": {
        "id": "DxYR5-xJa6t6"
      },
      "source": [
        "## Drop stocks with less than 10 yrs of returns"
      ]
    },
    {
      "cell_type": "code",
      "metadata": {
        "ExecuteTime": {
          "end_time": "2021-04-15T19:42:32.693861Z",
          "start_time": "2021-04-15T19:42:27.497409Z"
        },
        "id": "pwUccqhqa6t6"
      },
      "source": [
        "min_obs = 120\n",
        "nobs = data.groupby(level='ticker').size()\n",
        "keep = nobs[nobs>min_obs].index\n",
        "\n",
        "data = data.loc[idx[keep,:], :]\n",
        "data.info()"
      ],
      "execution_count": null,
      "outputs": []
    },
    {
      "cell_type": "code",
      "metadata": {
        "ExecuteTime": {
          "end_time": "2021-04-15T19:42:32.759315Z",
          "start_time": "2021-04-15T19:42:32.695113Z"
        },
        "id": "gVf00NN9a6t6"
      },
      "source": [
        "data.describe()"
      ],
      "execution_count": null,
      "outputs": []
    },
    {
      "cell_type": "code",
      "metadata": {
        "ExecuteTime": {
          "end_time": "2021-04-15T19:42:33.428516Z",
          "start_time": "2021-04-15T19:42:32.760414Z"
        },
        "id": "16UNuqIQa6t7"
      },
      "source": [
        "# cmap = sns.diverging_palette(10, 220, as_cmap=True)\n",
        "sns.clustermap(data.corr('spearman'), annot=True, center=0, cmap='Blues');"
      ],
      "execution_count": null,
      "outputs": []
    },
    {
      "cell_type": "markdown",
      "metadata": {
        "id": "KnznL1y4a6t7"
      },
      "source": [
        "We are left with 1,670 tickers."
      ]
    },
    {
      "cell_type": "code",
      "metadata": {
        "ExecuteTime": {
          "end_time": "2021-04-15T19:42:33.464342Z",
          "start_time": "2021-04-15T19:42:33.429978Z"
        },
        "id": "Et6U0zlia6t7"
      },
      "source": [
        "data.index.get_level_values('ticker').nunique()"
      ],
      "execution_count": null,
      "outputs": []
    },
    {
      "cell_type": "markdown",
      "metadata": {
        "id": "bPRo6wW2a6t7"
      },
      "source": [
        "## Rolling Factor Betas"
      ]
    },
    {
      "cell_type": "markdown",
      "metadata": {
        "id": "yRPQj1K_a6t7"
      },
      "source": [
        "We will introduce the Fama—French data to estimate the exposure of assets to common risk factors using linear regression in [Chapter 9, Time Series Models](../09_time_series_models)."
      ]
    },
    {
      "cell_type": "markdown",
      "metadata": {
        "id": "-z_2u1Sva6t8"
      },
      "source": [
        "The five Fama—French factors, namely market risk, size, value, operating profitability, and investment have been shown empirically to explain asset returns and are commonly used to assess the risk/return profile of portfolios. Hence, it is natural to include past factor exposures as financial features in models that aim to predict future returns."
      ]
    },
    {
      "cell_type": "markdown",
      "metadata": {
        "id": "6sMnzVo8a6t8"
      },
      "source": [
        "We can access the historical factor returns using the `pandas-datareader` and estimate historical exposures using the `RollingOLS` rolling linear regression functionality in the `statsmodels` library as follows:"
      ]
    },
    {
      "cell_type": "markdown",
      "metadata": {
        "id": "Cy6nZOyZa6t8"
      },
      "source": [
        "Use Fama-French research factors to estimate the factor exposures of the stock in the dataset to the 5 factors market risk, size, value, operating profitability and investment."
      ]
    },
    {
      "cell_type": "code",
      "metadata": {
        "ExecuteTime": {
          "end_time": "2021-04-15T19:42:33.769036Z",
          "start_time": "2021-04-15T19:42:33.465722Z"
        },
        "scrolled": false,
        "id": "LD1Y6FwWa6t8"
      },
      "source": [
        "factors = ['Mkt-RF', 'SMB', 'HML', 'RMW', 'CMA']\n",
        "factor_data = web.DataReader('F-F_Research_Data_5_Factors_2x3', 'famafrench', start='2000')[0].drop('RF', axis=1)\n",
        "factor_data.index = factor_data.index.to_timestamp()\n",
        "factor_data = factor_data.resample('M').last().div(100)\n",
        "factor_data.index.name = 'date'\n",
        "factor_data.info()"
      ],
      "execution_count": null,
      "outputs": []
    },
    {
      "cell_type": "code",
      "metadata": {
        "ExecuteTime": {
          "end_time": "2021-04-15T19:42:33.816362Z",
          "start_time": "2021-04-15T19:42:33.769871Z"
        },
        "scrolled": true,
        "id": "qWjNxxEPa6t8"
      },
      "source": [
        "factor_data = factor_data.join(data['return_1m']).sort_index()\n",
        "factor_data.info()"
      ],
      "execution_count": null,
      "outputs": []
    },
    {
      "cell_type": "code",
      "metadata": {
        "ExecuteTime": {
          "end_time": "2021-04-15T19:42:45.008104Z",
          "start_time": "2021-04-15T19:42:33.817495Z"
        },
        "id": "Wyn8TYCla6t9"
      },
      "source": [
        "T = 24\n",
        "betas = (factor_data.groupby(level='ticker',\n",
        "                             group_keys=False)\n",
        "         .apply(lambda x: RollingOLS(endog=x.return_1m,\n",
        "                                     exog=sm.add_constant(x.drop('return_1m', axis=1)),\n",
        "                                     window=min(T, x.shape[0]-1))\n",
        "                .fit(params_only=True)\n",
        "                .params\n",
        "                .drop('const', axis=1)))"
      ],
      "execution_count": null,
      "outputs": []
    },
    {
      "cell_type": "code",
      "metadata": {
        "ExecuteTime": {
          "end_time": "2021-04-15T19:42:45.092905Z",
          "start_time": "2021-04-15T19:42:45.009169Z"
        },
        "id": "UDE1Iefca6t9"
      },
      "source": [
        "betas.describe().join(betas.sum(1).describe().to_frame('total'))"
      ],
      "execution_count": null,
      "outputs": []
    },
    {
      "cell_type": "code",
      "metadata": {
        "ExecuteTime": {
          "end_time": "2021-04-15T19:42:45.366245Z",
          "start_time": "2021-04-15T19:42:45.093829Z"
        },
        "id": "ek07pYaia6t9"
      },
      "source": [
        "cmap = sns.diverging_palette(10, 220, as_cmap=True)\n",
        "sns.clustermap(betas.corr(), annot=True, cmap=cmap, center=0);"
      ],
      "execution_count": null,
      "outputs": []
    },
    {
      "cell_type": "code",
      "metadata": {
        "ExecuteTime": {
          "end_time": "2021-04-15T19:42:45.456467Z",
          "start_time": "2021-04-15T19:42:45.367374Z"
        },
        "scrolled": true,
        "id": "j-m3hEyCa6t-"
      },
      "source": [
        "data = (data\n",
        "        .join(betas\n",
        "              .groupby(level='ticker')\n",
        "              .shift()))\n",
        "data.info()"
      ],
      "execution_count": null,
      "outputs": []
    },
    {
      "cell_type": "markdown",
      "metadata": {
        "id": "4DFOEAXAa6t-"
      },
      "source": [
        "### Impute mean for missing factor betas"
      ]
    },
    {
      "cell_type": "code",
      "metadata": {
        "ExecuteTime": {
          "end_time": "2021-04-15T19:42:47.627665Z",
          "start_time": "2021-04-15T19:42:45.458880Z"
        },
        "id": "iwaaSI8Oa6t-"
      },
      "source": [
        "data.loc[:, factors] = data.groupby('ticker')[factors].apply(lambda x: x.fillna(x.mean()))\n",
        "data.info()"
      ],
      "execution_count": null,
      "outputs": []
    },
    {
      "cell_type": "markdown",
      "metadata": {
        "id": "vM1Yuvzya6t-"
      },
      "source": [
        "## Momentum factors"
      ]
    },
    {
      "cell_type": "markdown",
      "metadata": {
        "id": "y_8n7vYAa6t-"
      },
      "source": [
        "We can use these results to compute momentum factors based on the difference between returns over longer periods and the most recent monthly return, as well as for the difference between 3 and 12 month returns as follows:"
      ]
    },
    {
      "cell_type": "code",
      "metadata": {
        "ExecuteTime": {
          "end_time": "2021-04-15T19:42:47.637631Z",
          "start_time": "2021-04-15T19:42:47.628920Z"
        },
        "id": "iH6vkynAa6t_"
      },
      "source": [
        "for lag in [2,3,6,9,12]:\n",
        "    data[f'momentum_{lag}'] = data[f'return_{lag}m'].sub(data.return_1m)\n",
        "data[f'momentum_3_12'] = data[f'return_12m'].sub(data.return_3m)"
      ],
      "execution_count": null,
      "outputs": []
    },
    {
      "cell_type": "markdown",
      "metadata": {
        "id": "f_buSj0Ka6t_"
      },
      "source": [
        "## Date Indicators"
      ]
    },
    {
      "cell_type": "code",
      "metadata": {
        "ExecuteTime": {
          "end_time": "2021-04-15T19:42:47.684155Z",
          "start_time": "2021-04-15T19:42:47.638459Z"
        },
        "id": "_hGA0Ou6a6t_"
      },
      "source": [
        "dates = data.index.get_level_values('date')\n",
        "data['year'] = dates.year\n",
        "data['month'] = dates.month"
      ],
      "execution_count": null,
      "outputs": []
    },
    {
      "cell_type": "markdown",
      "metadata": {
        "id": "-AQ8FzmHa6t_"
      },
      "source": [
        "## Lagged returns"
      ]
    },
    {
      "cell_type": "markdown",
      "metadata": {
        "id": "7jMGcjjTa6t_"
      },
      "source": [
        "To use lagged values as input variables or features associated with the current observations, we use the .shift() method to move historical returns up to the current period:"
      ]
    },
    {
      "cell_type": "code",
      "metadata": {
        "ExecuteTime": {
          "end_time": "2021-04-15T19:42:47.833744Z",
          "start_time": "2021-04-15T19:42:47.685024Z"
        },
        "id": "lQKAI66ha6t_"
      },
      "source": [
        "for t in range(1, 7):\n",
        "    data[f'return_1m_t-{t}'] = data.groupby(level='ticker').return_1m.shift(t)\n",
        "data.info()"
      ],
      "execution_count": null,
      "outputs": []
    },
    {
      "cell_type": "markdown",
      "metadata": {
        "id": "ZypsAbu-a6uA"
      },
      "source": [
        "## Target: Holding Period Returns"
      ]
    },
    {
      "cell_type": "markdown",
      "metadata": {
        "id": "AF3NYir2a6uA"
      },
      "source": [
        "Similarly, to compute returns for various holding periods, we use the normalized period returns computed previously and shift them back to align them with the current financial features"
      ]
    },
    {
      "cell_type": "code",
      "metadata": {
        "ExecuteTime": {
          "end_time": "2021-04-15T19:42:47.945813Z",
          "start_time": "2021-04-15T19:42:47.834603Z"
        },
        "id": "oWWAVvZoa6uA"
      },
      "source": [
        "for t in [1,2,3,6,12]:\n",
        "    data[f'target_{t}m'] = data.groupby(level='ticker')[f'return_{t}m'].shift(-t)"
      ],
      "execution_count": null,
      "outputs": []
    },
    {
      "cell_type": "code",
      "metadata": {
        "ExecuteTime": {
          "end_time": "2021-04-15T19:42:48.020064Z",
          "start_time": "2021-04-15T19:42:47.946666Z"
        },
        "id": "_xGTAq_Ma6uA"
      },
      "source": [
        "cols = ['target_1m',\n",
        "        'target_2m',\n",
        "        'target_3m', \n",
        "        'return_1m',\n",
        "        'return_2m',\n",
        "        'return_3m',\n",
        "        'return_1m_t-1',\n",
        "        'return_1m_t-2',\n",
        "        'return_1m_t-3']\n",
        "\n",
        "data[cols].dropna().sort_index().head(10)"
      ],
      "execution_count": null,
      "outputs": []
    },
    {
      "cell_type": "code",
      "metadata": {
        "ExecuteTime": {
          "end_time": "2021-04-15T19:42:48.040307Z",
          "start_time": "2021-04-15T19:42:48.020850Z"
        },
        "id": "RcA1Q_Jta6uA"
      },
      "source": [
        "data.info()"
      ],
      "execution_count": null,
      "outputs": []
    },
    {
      "cell_type": "markdown",
      "metadata": {
        "id": "9qUX01hka6uB"
      },
      "source": [
        "## Create age proxy"
      ]
    },
    {
      "cell_type": "markdown",
      "metadata": {
        "id": "HvA00zf8a6uB"
      },
      "source": [
        "We use quintiles of IPO year as a proxy for company age."
      ]
    },
    {
      "cell_type": "code",
      "metadata": {
        "ExecuteTime": {
          "end_time": "2021-04-15T19:42:48.061542Z",
          "start_time": "2021-04-15T19:42:48.041100Z"
        },
        "id": "xrcO-4YAa6uB"
      },
      "source": [
        "data = (data\n",
        "        .join(pd.qcut(stocks.ipoyear, q=5, labels=list(range(1, 6)))\n",
        "              .astype(float)\n",
        "              .fillna(0)\n",
        "              .astype(int)\n",
        "              .to_frame('age')))\n",
        "data.age = data.age.fillna(-1)"
      ],
      "execution_count": null,
      "outputs": []
    },
    {
      "cell_type": "markdown",
      "metadata": {
        "id": "nW5sb0HAa6uB"
      },
      "source": [
        "## Create dynamic size proxy"
      ]
    },
    {
      "cell_type": "markdown",
      "metadata": {
        "id": "kyHIGIy-a6uB"
      },
      "source": [
        "We use the marketcap information from the NASDAQ ticker info to create a size proxy."
      ]
    },
    {
      "cell_type": "code",
      "metadata": {
        "ExecuteTime": {
          "end_time": "2021-04-15T19:42:48.067917Z",
          "start_time": "2021-04-15T19:42:48.062397Z"
        },
        "id": "4hehCdzLa6uB"
      },
      "source": [
        "stocks.info()"
      ],
      "execution_count": null,
      "outputs": []
    },
    {
      "cell_type": "markdown",
      "metadata": {
        "id": "Ix_PxzsVa6uB"
      },
      "source": [
        "Market cap information is tied to currrent prices. We create an adjustment factor to have the values reflect lower historical prices for each individual stock:"
      ]
    },
    {
      "cell_type": "code",
      "metadata": {
        "ExecuteTime": {
          "end_time": "2021-04-15T19:42:48.144287Z",
          "start_time": "2021-04-15T19:42:48.068650Z"
        },
        "id": "hBCSLhaHa6uC"
      },
      "source": [
        "size_factor = (monthly_prices\n",
        "               .loc[data.index.get_level_values('date').unique(),\n",
        "                    data.index.get_level_values('ticker').unique()]\n",
        "               .sort_index(ascending=False)\n",
        "               .pct_change()\n",
        "               .fillna(0)\n",
        "               .add(1)\n",
        "               .cumprod())\n",
        "size_factor.info()"
      ],
      "execution_count": null,
      "outputs": []
    },
    {
      "cell_type": "code",
      "metadata": {
        "ExecuteTime": {
          "end_time": "2021-04-15T19:42:48.153203Z",
          "start_time": "2021-04-15T19:42:48.145309Z"
        },
        "id": "iJ8G3thWa6uC"
      },
      "source": [
        "msize = (size_factor\n",
        "         .mul(stocks\n",
        "              .loc[size_factor.columns, 'marketcap'])).dropna(axis=1, how='all')"
      ],
      "execution_count": null,
      "outputs": []
    },
    {
      "cell_type": "markdown",
      "metadata": {
        "id": "2XJlyK8xa6uC"
      },
      "source": [
        "### Create Size indicator as deciles per period"
      ]
    },
    {
      "cell_type": "markdown",
      "metadata": {
        "id": "D1fYq4Jra6uC"
      },
      "source": [
        "Compute size deciles per month:"
      ]
    },
    {
      "cell_type": "code",
      "metadata": {
        "ExecuteTime": {
          "end_time": "2021-04-15T19:42:49.795031Z",
          "start_time": "2021-04-15T19:42:48.154005Z"
        },
        "id": "m8J9BQP3a6uC"
      },
      "source": [
        "data['msize'] = (msize\n",
        "                 .apply(lambda x: pd.qcut(x, q=10, labels=list(range(1, 11)))\n",
        "                        .astype(int), axis=1)\n",
        "                 .stack()\n",
        "                 .swaplevel())\n",
        "data.msize = data.msize.fillna(-1)"
      ],
      "execution_count": null,
      "outputs": []
    },
    {
      "cell_type": "markdown",
      "metadata": {
        "id": "IU58rHpNa6uD"
      },
      "source": [
        "## Combine data"
      ]
    },
    {
      "cell_type": "code",
      "metadata": {
        "ExecuteTime": {
          "end_time": "2021-04-15T19:42:49.832155Z",
          "start_time": "2021-04-15T19:42:49.795874Z"
        },
        "id": "9wASzE20a6uD"
      },
      "source": [
        "data = data.join(stocks[['sector']])\n",
        "data.sector = data.sector.fillna('Unknown')"
      ],
      "execution_count": null,
      "outputs": []
    },
    {
      "cell_type": "code",
      "metadata": {
        "ExecuteTime": {
          "end_time": "2021-04-15T19:42:49.863430Z",
          "start_time": "2021-04-15T19:42:49.833060Z"
        },
        "scrolled": false,
        "id": "9Rzh8rbQa6uD"
      },
      "source": [
        "data.info()"
      ],
      "execution_count": null,
      "outputs": []
    },
    {
      "cell_type": "markdown",
      "metadata": {
        "id": "fPFxm_Zfa6uD"
      },
      "source": [
        "## Store data"
      ]
    },
    {
      "cell_type": "markdown",
      "metadata": {
        "id": "np_4x871a6uD"
      },
      "source": [
        "We will use the data again in several later chapters, starting in [Chapter 7 on Linear Models](../07_linear_models)."
      ]
    },
    {
      "cell_type": "code",
      "metadata": {
        "ExecuteTime": {
          "end_time": "2021-04-15T19:42:50.165429Z",
          "start_time": "2021-04-15T19:42:49.864236Z"
        },
        "scrolled": false,
        "id": "7IJVB4HDa6uD"
      },
      "source": [
        "with pd.HDFStore(DATA_STORE) as store:\n",
        "    store.put('engineered_features', data.sort_index().loc[idx[:, :datetime(2018, 3, 1)], :])\n",
        "    print(store.info())"
      ],
      "execution_count": null,
      "outputs": []
    },
    {
      "cell_type": "markdown",
      "metadata": {
        "id": "zKgcXauHa6uE"
      },
      "source": [
        "## Create Dummy variables"
      ]
    },
    {
      "cell_type": "markdown",
      "metadata": {
        "id": "DNecLx-da6uE"
      },
      "source": [
        "For most models, we need to encode categorical variables as 'dummies' (one-hot encoding):"
      ]
    },
    {
      "cell_type": "code",
      "metadata": {
        "ExecuteTime": {
          "end_time": "2021-04-15T19:42:50.404583Z",
          "start_time": "2021-04-15T19:42:50.166383Z"
        },
        "scrolled": false,
        "id": "Cm1p2y3Pa6uE"
      },
      "source": [
        "dummy_data = pd.get_dummies(data,\n",
        "                            columns=['year','month', 'msize', 'age',  'sector'],\n",
        "                            prefix=['year','month', 'msize', 'age', ''],\n",
        "                            prefix_sep=['_', '_', '_', '_', ''])\n",
        "dummy_data = dummy_data.rename(columns={c:c.replace('.0', '') for c in dummy_data.columns})\n",
        "dummy_data.info()"
      ],
      "execution_count": null,
      "outputs": []
    }
  ]
}