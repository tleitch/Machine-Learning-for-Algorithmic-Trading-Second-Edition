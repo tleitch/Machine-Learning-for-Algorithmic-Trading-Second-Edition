{
  "nbformat": 4,
  "nbformat_minor": 0,
  "metadata": {
    "kernelspec": {
      "display_name": "Python 3",
      "language": "python",
      "name": "python3"
    },
    "language_info": {
      "codemirror_mode": {
        "name": "ipython",
        "version": 3
      },
      "file_extension": ".py",
      "mimetype": "text/x-python",
      "name": "python",
      "nbconvert_exporter": "python",
      "pygments_lexer": "ipython3",
      "version": "3.8.8"
    },
    "toc": {
      "base_numbering": 1,
      "nav_menu": {},
      "number_sections": true,
      "sideBar": true,
      "skip_h1_title": true,
      "title_cell": "Table of Contents",
      "title_sidebar": "Contents",
      "toc_cell": false,
      "toc_position": {
        "height": "calc(100% - 180px)",
        "left": "10px",
        "top": "150px",
        "width": "284.156px"
      },
      "toc_section_display": true,
      "toc_window_display": true
    },
    "colab": {
      "name": "04_mean_variance_optimization.ipynb",
      "provenance": [],
      "include_colab_link": true
    }
  },
  "cells": [
    {
      "cell_type": "markdown",
      "metadata": {
        "id": "view-in-github",
        "colab_type": "text"
      },
      "source": [
        "<a href=\"https://colab.research.google.com/github/tleitch/Machine-Learning-for-Algorithmic-Trading-Second-Edition/blob/master/assignments/projectOptimization.ipynb\" target=\"_parent\"><img src=\"https://colab.research.google.com/assets/colab-badge.svg\" alt=\"Open In Colab\"/></a>"
      ]
    },
    {
      "cell_type": "markdown",
      "metadata": {
        "id": "Dl2khBT9dOwN"
      },
      "source": [
        "# Inputs\n",
        "There are 3 ways to input. \n",
        "\n",
        "First, you can save strategy returns in a direrctory names \"projects\", namely, the path is /content/drive/MyDrive/ahfs/project . The sma.ipynb atomatically saves to this folder.\n",
        "\n",
        "Second, the codse below loads the FF five factors and it allows you to use them as a strategy. It is set up to just HML. It drops RF and the market factor due to the fact we don't want the market in our portfolio (you do remember we want low correlation with the market, right?) But if you want you can ad SMB HML or RMW  by changing the column drop below.\n",
        "\n",
        "Third, and most flexible, you can use any ticker you can get from YAHOO finance. Do not use straight stocks, use ETF's and mutual funds. Be careful you don't use something with a life shorter than 2014 to now because the algo trunctaes to the smallest time servies in the bunch.\n",
        "\n",
        "The code builds the returns and then does a maximized Sharpe Ratio portfolio. It allows shorting but does not allow leverage (sorry, needs a complex check for returns at end that is beyond me getting this done today).\n",
        "\n",
        "At the bottom, it runs a Tear Sheet for your overall strategy and then one for each strategy. Use these results for you presentations.\n",
        "\n",
        "\n"
      ]
    },
    {
      "cell_type": "markdown",
      "metadata": {
        "id": "5OV4-kSWUvCT"
      },
      "source": [
        "# Mean-Variance Optimization"
      ]
    },
    {
      "cell_type": "markdown",
      "metadata": {
        "id": "uh9Hp3pLUvCT"
      },
      "source": [
        "MPT solves for the optimal portfolio weights to minimize volatility for a given expected return, or maximize returns for a given level of volatility. The key requisite input are expected asset returns, standard deviations, and the covariance matrix. "
      ]
    },
    {
      "cell_type": "markdown",
      "metadata": {
        "id": "N9VR89qtUvCU"
      },
      "source": [
        "Diversification works because the variance of portfolio returns depends on the covariance of the assets and can be reduced below the weighted average of the asset variances by including assets with less than perfect correlation. In particular, given a vector, ω, of portfolio weights and the covariance matrix, $\\Sigma$, the portfolio variance, $\\sigma_{\\text{PF}}$ is defined as:\n",
        "$$\\sigma_{\\text{PF}}=\\omega^T\\Sigma\\omega$$"
      ]
    },
    {
      "cell_type": "markdown",
      "metadata": {
        "id": "PV4aem08UvCV"
      },
      "source": [
        "Markowitz showed that the problem of maximizing the expected portfolio return subject to a target risk has an equivalent dual representation of minimizing portfolio risk subject to a target expected return level, $μ_{PF}$. Hence, the optimization problem becomes:\n",
        "$$\n",
        "\\begin{align}\n",
        "\\min_\\omega & \\quad\\quad\\sigma^2_{\\text{PF}}= \\omega^T\\Sigma\\omega\\\\\n",
        "\\text{s.t.} &\\quad\\quad \\mu_{\\text{PF}}= \\omega^T\\mu\\\\ \n",
        "&\\quad\\quad \\lVert\\omega\\rVert =1\n",
        "\\end{align}\n",
        "$$"
      ]
    },
    {
      "cell_type": "markdown",
      "metadata": {
        "id": "AMity6uKUvCV"
      },
      "source": [
        "We can calculate an efficient frontier using `scipy.optimize.minimize` and the historical estimates for asset returns, standard deviations, and the covariance matrix. "
      ]
    },
    {
      "cell_type": "markdown",
      "metadata": {
        "id": "HrYOEYmcUvCW"
      },
      "source": [
        "## Imports & Settings"
      ]
    },
    {
      "cell_type": "code",
      "metadata": {
        "ExecuteTime": {
          "end_time": "2021-04-15T19:50:45.708345Z",
          "start_time": "2021-04-15T19:50:45.706662Z"
        },
        "id": "E_NMJLV3UvCW"
      },
      "source": [
        "import warnings\n",
        "warnings.filterwarnings('ignore')"
      ],
      "execution_count": 1,
      "outputs": []
    },
    {
      "cell_type": "code",
      "metadata": {
        "ExecuteTime": {
          "end_time": "2021-04-15T19:50:46.254273Z",
          "start_time": "2021-04-15T19:50:45.709802Z"
        },
        "id": "E_I2oHmzUvCX",
        "colab": {
          "base_uri": "https://localhost:8080/"
        },
        "outputId": "0c3d6603-80a4-40c6-fec3-f24576d51c57"
      },
      "source": [
        "%matplotlib inline\n",
        "\n",
        "import pandas as pd\n",
        "import numpy as np\n",
        "from numpy.random import random, uniform, dirichlet, choice\n",
        "from numpy.linalg import inv\n",
        "\n",
        "from scipy.optimize import minimize\n",
        "\n",
        "import pandas_datareader.data as web\n",
        "import matplotlib.pyplot as plt\n",
        "from matplotlib.ticker import FuncFormatter\n",
        "import seaborn as sns\n",
        "!pip install backtrader\n",
        "!pip install git+https://github.com/quantopian/pyfolio\n",
        "!pip install yfinance\n",
        "!pip install --upgrade tables\n",
        "import backtrader as bt\n",
        "from backtrader.feeds import PandasData\n",
        "import pyfolio as pf\n",
        "import yfinance as yf\n",
        "from datetime import datetime\n",
        "from datetime import date"
      ],
      "execution_count": 2,
      "outputs": [
        {
          "output_type": "stream",
          "text": [
            "Collecting backtrader\n",
            "\u001b[?25l  Downloading https://files.pythonhosted.org/packages/1a/bf/78aadd993e2719d6764603465fde163ba6ec15cf0e81f13e39ca13451348/backtrader-1.9.76.123-py2.py3-none-any.whl (410kB)\n",
            "\r\u001b[K     |▉                               | 10kB 11.5MB/s eta 0:00:01\r\u001b[K     |█▋                              | 20kB 14.5MB/s eta 0:00:01\r\u001b[K     |██▍                             | 30kB 16.8MB/s eta 0:00:01\r\u001b[K     |███▏                            | 40kB 16.2MB/s eta 0:00:01\r\u001b[K     |████                            | 51kB 7.2MB/s eta 0:00:01\r\u001b[K     |████▉                           | 61kB 7.0MB/s eta 0:00:01\r\u001b[K     |█████▋                          | 71kB 7.7MB/s eta 0:00:01\r\u001b[K     |██████▍                         | 81kB 8.4MB/s eta 0:00:01\r\u001b[K     |███████▏                        | 92kB 8.9MB/s eta 0:00:01\r\u001b[K     |████████                        | 102kB 7.6MB/s eta 0:00:01\r\u001b[K     |████████▉                       | 112kB 7.6MB/s eta 0:00:01\r\u001b[K     |█████████▋                      | 122kB 7.6MB/s eta 0:00:01\r\u001b[K     |██████████▍                     | 133kB 7.6MB/s eta 0:00:01\r\u001b[K     |███████████▏                    | 143kB 7.6MB/s eta 0:00:01\r\u001b[K     |████████████                    | 153kB 7.6MB/s eta 0:00:01\r\u001b[K     |████████████▉                   | 163kB 7.6MB/s eta 0:00:01\r\u001b[K     |█████████████▋                  | 174kB 7.6MB/s eta 0:00:01\r\u001b[K     |██████████████▍                 | 184kB 7.6MB/s eta 0:00:01\r\u001b[K     |███████████████▏                | 194kB 7.6MB/s eta 0:00:01\r\u001b[K     |████████████████                | 204kB 7.6MB/s eta 0:00:01\r\u001b[K     |████████████████▉               | 215kB 7.6MB/s eta 0:00:01\r\u001b[K     |█████████████████▋              | 225kB 7.6MB/s eta 0:00:01\r\u001b[K     |██████████████████▍             | 235kB 7.6MB/s eta 0:00:01\r\u001b[K     |███████████████████▏            | 245kB 7.6MB/s eta 0:00:01\r\u001b[K     |████████████████████            | 256kB 7.6MB/s eta 0:00:01\r\u001b[K     |████████████████████▊           | 266kB 7.6MB/s eta 0:00:01\r\u001b[K     |█████████████████████▋          | 276kB 7.6MB/s eta 0:00:01\r\u001b[K     |██████████████████████▍         | 286kB 7.6MB/s eta 0:00:01\r\u001b[K     |███████████████████████▏        | 296kB 7.6MB/s eta 0:00:01\r\u001b[K     |████████████████████████        | 307kB 7.6MB/s eta 0:00:01\r\u001b[K     |████████████████████████▊       | 317kB 7.6MB/s eta 0:00:01\r\u001b[K     |█████████████████████████▋      | 327kB 7.6MB/s eta 0:00:01\r\u001b[K     |██████████████████████████▍     | 337kB 7.6MB/s eta 0:00:01\r\u001b[K     |███████████████████████████▏    | 348kB 7.6MB/s eta 0:00:01\r\u001b[K     |████████████████████████████    | 358kB 7.6MB/s eta 0:00:01\r\u001b[K     |████████████████████████████▊   | 368kB 7.6MB/s eta 0:00:01\r\u001b[K     |█████████████████████████████▋  | 378kB 7.6MB/s eta 0:00:01\r\u001b[K     |██████████████████████████████▍ | 389kB 7.6MB/s eta 0:00:01\r\u001b[K     |███████████████████████████████▏| 399kB 7.6MB/s eta 0:00:01\r\u001b[K     |████████████████████████████████| 409kB 7.6MB/s eta 0:00:01\r\u001b[K     |████████████████████████████████| 419kB 7.6MB/s \n",
            "\u001b[?25hInstalling collected packages: backtrader\n",
            "Successfully installed backtrader-1.9.76.123\n",
            "Collecting git+https://github.com/quantopian/pyfolio\n",
            "  Cloning https://github.com/quantopian/pyfolio to /tmp/pip-req-build-jw8onesg\n",
            "  Running command git clone -q https://github.com/quantopian/pyfolio /tmp/pip-req-build-jw8onesg\n",
            "Requirement already satisfied: ipython>=3.2.3 in /usr/local/lib/python3.7/dist-packages (from pyfolio==0.9.2+75.g4b901f6) (5.5.0)\n",
            "Requirement already satisfied: matplotlib>=1.4.0 in /usr/local/lib/python3.7/dist-packages (from pyfolio==0.9.2+75.g4b901f6) (3.2.2)\n",
            "Requirement already satisfied: numpy>=1.11.1 in /usr/local/lib/python3.7/dist-packages (from pyfolio==0.9.2+75.g4b901f6) (1.19.5)\n",
            "Requirement already satisfied: pandas>=0.18.1 in /usr/local/lib/python3.7/dist-packages (from pyfolio==0.9.2+75.g4b901f6) (1.1.5)\n",
            "Requirement already satisfied: pytz>=2014.10 in /usr/local/lib/python3.7/dist-packages (from pyfolio==0.9.2+75.g4b901f6) (2018.9)\n",
            "Requirement already satisfied: scipy>=0.14.0 in /usr/local/lib/python3.7/dist-packages (from pyfolio==0.9.2+75.g4b901f6) (1.4.1)\n",
            "Requirement already satisfied: scikit-learn>=0.16.1 in /usr/local/lib/python3.7/dist-packages (from pyfolio==0.9.2+75.g4b901f6) (0.22.2.post1)\n",
            "Requirement already satisfied: seaborn>=0.7.1 in /usr/local/lib/python3.7/dist-packages (from pyfolio==0.9.2+75.g4b901f6) (0.11.1)\n",
            "Collecting empyrical>=0.5.0\n",
            "\u001b[?25l  Downloading https://files.pythonhosted.org/packages/74/43/1b997c21411c6ab7c96dc034e160198272c7a785aeea7654c9bcf98bec83/empyrical-0.5.5.tar.gz (52kB)\n",
            "\u001b[K     |████████████████████████████████| 61kB 4.2MB/s \n",
            "\u001b[?25hRequirement already satisfied: prompt-toolkit<2.0.0,>=1.0.4 in /usr/local/lib/python3.7/dist-packages (from ipython>=3.2.3->pyfolio==0.9.2+75.g4b901f6) (1.0.18)\n",
            "Requirement already satisfied: pygments in /usr/local/lib/python3.7/dist-packages (from ipython>=3.2.3->pyfolio==0.9.2+75.g4b901f6) (2.6.1)\n",
            "Requirement already satisfied: setuptools>=18.5 in /usr/local/lib/python3.7/dist-packages (from ipython>=3.2.3->pyfolio==0.9.2+75.g4b901f6) (57.2.0)\n",
            "Requirement already satisfied: traitlets>=4.2 in /usr/local/lib/python3.7/dist-packages (from ipython>=3.2.3->pyfolio==0.9.2+75.g4b901f6) (5.0.5)\n",
            "Requirement already satisfied: simplegeneric>0.8 in /usr/local/lib/python3.7/dist-packages (from ipython>=3.2.3->pyfolio==0.9.2+75.g4b901f6) (0.8.1)\n",
            "Requirement already satisfied: decorator in /usr/local/lib/python3.7/dist-packages (from ipython>=3.2.3->pyfolio==0.9.2+75.g4b901f6) (4.4.2)\n",
            "Requirement already satisfied: pickleshare in /usr/local/lib/python3.7/dist-packages (from ipython>=3.2.3->pyfolio==0.9.2+75.g4b901f6) (0.7.5)\n",
            "Requirement already satisfied: pexpect; sys_platform != \"win32\" in /usr/local/lib/python3.7/dist-packages (from ipython>=3.2.3->pyfolio==0.9.2+75.g4b901f6) (4.8.0)\n",
            "Requirement already satisfied: kiwisolver>=1.0.1 in /usr/local/lib/python3.7/dist-packages (from matplotlib>=1.4.0->pyfolio==0.9.2+75.g4b901f6) (1.3.1)\n",
            "Requirement already satisfied: python-dateutil>=2.1 in /usr/local/lib/python3.7/dist-packages (from matplotlib>=1.4.0->pyfolio==0.9.2+75.g4b901f6) (2.8.1)\n",
            "Requirement already satisfied: cycler>=0.10 in /usr/local/lib/python3.7/dist-packages (from matplotlib>=1.4.0->pyfolio==0.9.2+75.g4b901f6) (0.10.0)\n",
            "Requirement already satisfied: pyparsing!=2.0.4,!=2.1.2,!=2.1.6,>=2.0.1 in /usr/local/lib/python3.7/dist-packages (from matplotlib>=1.4.0->pyfolio==0.9.2+75.g4b901f6) (2.4.7)\n",
            "Requirement already satisfied: joblib>=0.11 in /usr/local/lib/python3.7/dist-packages (from scikit-learn>=0.16.1->pyfolio==0.9.2+75.g4b901f6) (1.0.1)\n",
            "Requirement already satisfied: pandas-datareader>=0.2 in /usr/local/lib/python3.7/dist-packages (from empyrical>=0.5.0->pyfolio==0.9.2+75.g4b901f6) (0.9.0)\n",
            "Requirement already satisfied: six>=1.9.0 in /usr/local/lib/python3.7/dist-packages (from prompt-toolkit<2.0.0,>=1.0.4->ipython>=3.2.3->pyfolio==0.9.2+75.g4b901f6) (1.15.0)\n",
            "Requirement already satisfied: wcwidth in /usr/local/lib/python3.7/dist-packages (from prompt-toolkit<2.0.0,>=1.0.4->ipython>=3.2.3->pyfolio==0.9.2+75.g4b901f6) (0.2.5)\n",
            "Requirement already satisfied: ipython-genutils in /usr/local/lib/python3.7/dist-packages (from traitlets>=4.2->ipython>=3.2.3->pyfolio==0.9.2+75.g4b901f6) (0.2.0)\n",
            "Requirement already satisfied: ptyprocess>=0.5 in /usr/local/lib/python3.7/dist-packages (from pexpect; sys_platform != \"win32\"->ipython>=3.2.3->pyfolio==0.9.2+75.g4b901f6) (0.7.0)\n",
            "Requirement already satisfied: requests>=2.19.0 in /usr/local/lib/python3.7/dist-packages (from pandas-datareader>=0.2->empyrical>=0.5.0->pyfolio==0.9.2+75.g4b901f6) (2.23.0)\n",
            "Requirement already satisfied: lxml in /usr/local/lib/python3.7/dist-packages (from pandas-datareader>=0.2->empyrical>=0.5.0->pyfolio==0.9.2+75.g4b901f6) (4.2.6)\n",
            "Requirement already satisfied: certifi>=2017.4.17 in /usr/local/lib/python3.7/dist-packages (from requests>=2.19.0->pandas-datareader>=0.2->empyrical>=0.5.0->pyfolio==0.9.2+75.g4b901f6) (2021.5.30)\n",
            "Requirement already satisfied: chardet<4,>=3.0.2 in /usr/local/lib/python3.7/dist-packages (from requests>=2.19.0->pandas-datareader>=0.2->empyrical>=0.5.0->pyfolio==0.9.2+75.g4b901f6) (3.0.4)\n",
            "Requirement already satisfied: idna<3,>=2.5 in /usr/local/lib/python3.7/dist-packages (from requests>=2.19.0->pandas-datareader>=0.2->empyrical>=0.5.0->pyfolio==0.9.2+75.g4b901f6) (2.10)\n",
            "Requirement already satisfied: urllib3!=1.25.0,!=1.25.1,<1.26,>=1.21.1 in /usr/local/lib/python3.7/dist-packages (from requests>=2.19.0->pandas-datareader>=0.2->empyrical>=0.5.0->pyfolio==0.9.2+75.g4b901f6) (1.24.3)\n",
            "Building wheels for collected packages: pyfolio, empyrical\n",
            "  Building wheel for pyfolio (setup.py) ... \u001b[?25l\u001b[?25hdone\n",
            "  Created wheel for pyfolio: filename=pyfolio-0.9.2+75.g4b901f6-cp37-none-any.whl size=75776 sha256=04a0d1c7221af3f4e0e53a3e40a255c7c44af8cfae1e1a880d78b491d68b447f\n",
            "  Stored in directory: /tmp/pip-ephem-wheel-cache-4y5xsk46/wheels/62/7d/a7/3e462442ba7d63c35414176627c886340521dc3dbc0893ce9f\n",
            "  Building wheel for empyrical (setup.py) ... \u001b[?25l\u001b[?25hdone\n",
            "  Created wheel for empyrical: filename=empyrical-0.5.5-cp37-none-any.whl size=39780 sha256=f70a7b0f6ae161008e8f0427c0ed247622e2686b289662549c0a9a32764e8e10\n",
            "  Stored in directory: /root/.cache/pip/wheels/ea/b2/c8/6769d8444d2f2e608fae2641833110668d0ffd1abeb2e9f3fc\n",
            "Successfully built pyfolio empyrical\n",
            "Installing collected packages: empyrical, pyfolio\n",
            "Successfully installed empyrical-0.5.5 pyfolio-0.9.2+75.g4b901f6\n",
            "Collecting yfinance\n",
            "  Downloading https://files.pythonhosted.org/packages/79/bd/d64719da8f5367f4d8b16e83507fa1d90942f433f748a4cf3ed7aa515d14/yfinance-0.1.63.tar.gz\n",
            "Requirement already satisfied: pandas>=0.24 in /usr/local/lib/python3.7/dist-packages (from yfinance) (1.1.5)\n",
            "Requirement already satisfied: numpy>=1.15 in /usr/local/lib/python3.7/dist-packages (from yfinance) (1.19.5)\n",
            "Requirement already satisfied: requests>=2.20 in /usr/local/lib/python3.7/dist-packages (from yfinance) (2.23.0)\n",
            "Requirement already satisfied: multitasking>=0.0.7 in /usr/local/lib/python3.7/dist-packages (from yfinance) (0.0.9)\n",
            "Collecting lxml>=4.5.1\n",
            "\u001b[?25l  Downloading https://files.pythonhosted.org/packages/30/c0/d0526314971fc661b083ab135747dc68446a3022686da8c16d25fcf6ef07/lxml-4.6.3-cp37-cp37m-manylinux2014_x86_64.whl (6.3MB)\n",
            "\u001b[K     |████████████████████████████████| 6.3MB 11.0MB/s \n",
            "\u001b[?25hRequirement already satisfied: python-dateutil>=2.7.3 in /usr/local/lib/python3.7/dist-packages (from pandas>=0.24->yfinance) (2.8.1)\n",
            "Requirement already satisfied: pytz>=2017.2 in /usr/local/lib/python3.7/dist-packages (from pandas>=0.24->yfinance) (2018.9)\n",
            "Requirement already satisfied: urllib3!=1.25.0,!=1.25.1,<1.26,>=1.21.1 in /usr/local/lib/python3.7/dist-packages (from requests>=2.20->yfinance) (1.24.3)\n",
            "Requirement already satisfied: idna<3,>=2.5 in /usr/local/lib/python3.7/dist-packages (from requests>=2.20->yfinance) (2.10)\n",
            "Requirement already satisfied: chardet<4,>=3.0.2 in /usr/local/lib/python3.7/dist-packages (from requests>=2.20->yfinance) (3.0.4)\n",
            "Requirement already satisfied: certifi>=2017.4.17 in /usr/local/lib/python3.7/dist-packages (from requests>=2.20->yfinance) (2021.5.30)\n",
            "Requirement already satisfied: six>=1.5 in /usr/local/lib/python3.7/dist-packages (from python-dateutil>=2.7.3->pandas>=0.24->yfinance) (1.15.0)\n",
            "Building wheels for collected packages: yfinance\n",
            "  Building wheel for yfinance (setup.py) ... \u001b[?25l\u001b[?25hdone\n",
            "  Created wheel for yfinance: filename=yfinance-0.1.63-py2.py3-none-any.whl size=23919 sha256=daa2fffe4d4ce0fae297b1fe019c8018ced8165c417271389e352f9ac4441533\n",
            "  Stored in directory: /root/.cache/pip/wheels/fe/a0/79/b73d4a0c535b421b88fc7b393936b371fabbfeaf979eca4050\n",
            "Successfully built yfinance\n",
            "Installing collected packages: lxml, yfinance\n",
            "  Found existing installation: lxml 4.2.6\n",
            "    Uninstalling lxml-4.2.6:\n",
            "      Successfully uninstalled lxml-4.2.6\n",
            "Successfully installed lxml-4.6.3 yfinance-0.1.63\n",
            "Collecting tables\n",
            "\u001b[?25l  Downloading https://files.pythonhosted.org/packages/0f/cb/4097be890a773af95343389faa8c283b0d9ff606f144227a548461dcbdd5/tables-3.6.1-cp37-cp37m-manylinux1_x86_64.whl (4.3MB)\n",
            "\u001b[K     |████████████████████████████████| 4.3MB 7.6MB/s \n",
            "\u001b[?25hRequirement already satisfied, skipping upgrade: numexpr>=2.6.2 in /usr/local/lib/python3.7/dist-packages (from tables) (2.7.3)\n",
            "Requirement already satisfied, skipping upgrade: numpy>=1.9.3 in /usr/local/lib/python3.7/dist-packages (from tables) (1.19.5)\n",
            "Installing collected packages: tables\n",
            "  Found existing installation: tables 3.4.4\n",
            "    Uninstalling tables-3.4.4:\n",
            "      Successfully uninstalled tables-3.4.4\n",
            "Successfully installed tables-3.6.1\n"
          ],
          "name": "stdout"
        }
      ]
    },
    {
      "cell_type": "code",
      "metadata": {
        "id": "xyf7rKx0XFvl"
      },
      "source": [
        ""
      ],
      "execution_count": 2,
      "outputs": []
    },
    {
      "cell_type": "code",
      "metadata": {
        "ExecuteTime": {
          "end_time": "2021-04-15T19:50:46.257137Z",
          "start_time": "2021-04-15T19:50:46.255198Z"
        },
        "id": "-0Ort3qiUvCX"
      },
      "source": [
        "sns.set_style('whitegrid')\n",
        "np.random.seed(42)"
      ],
      "execution_count": 3,
      "outputs": []
    },
    {
      "cell_type": "code",
      "metadata": {
        "ExecuteTime": {
          "end_time": "2021-04-15T19:50:46.274944Z",
          "start_time": "2021-04-15T19:50:46.258159Z"
        },
        "id": "fx9OGtDRUvCY"
      },
      "source": [
        "cmap = sns.diverging_palette(10, 240, n=9, as_cmap=True)"
      ],
      "execution_count": 4,
      "outputs": []
    },
    {
      "cell_type": "markdown",
      "metadata": {
        "id": "O5-L0Sc6UvCY"
      },
      "source": [
        "## Prepare Data"
      ]
    },
    {
      "cell_type": "code",
      "metadata": {
        "colab": {
          "base_uri": "https://localhost:8080/"
        },
        "id": "rwjQG3VnVF13",
        "outputId": "bf721db2-1595-4a7b-8441-8ed5e80e640b"
      },
      "source": [
        "from google.colab import drive\n",
        "drive.mount('/content/drive',force_remount=True)"
      ],
      "execution_count": 5,
      "outputs": [
        {
          "output_type": "stream",
          "text": [
            "Mounted at /content/drive\n"
          ],
          "name": "stdout"
        }
      ]
    },
    {
      "cell_type": "markdown",
      "metadata": {
        "id": "rPMFFhpNUvCY"
      },
      "source": [
        "We select historical data for tickers included in the S&P500 (according to Wikipedia) from 1998-2017."
      ]
    },
    {
      "cell_type": "code",
      "metadata": {
        "id": "XR72kfgWWlb0"
      },
      "source": [
        "url = 'https://en.wikipedia.org/wiki/List_of_S%26P_500_companies'\n",
        "df = pd.read_html(url, header=0)[0]"
      ],
      "execution_count": 6,
      "outputs": []
    },
    {
      "cell_type": "code",
      "metadata": {
        "id": "c3FCVHwmWoCn"
      },
      "source": [
        "\n",
        "df.columns = ['ticker', 'name', 'sec_filings', 'gics_sector', 'gics_sub_industry',\n",
        "              'location', 'first_added', 'cik', 'founded']\n",
        "df = df.drop('sec_filings', axis=1).set_index('ticker')"
      ],
      "execution_count": 7,
      "outputs": []
    },
    {
      "cell_type": "code",
      "metadata": {
        "id": "FfeR-KJTWnx6"
      },
      "source": [
        "\n",
        "with pd.HDFStore('/content/drive/MyDrive/ahfs/assets.h5') as store:\n",
        "    store.put('sp500/stocks', df)"
      ],
      "execution_count": 8,
      "outputs": []
    },
    {
      "cell_type": "code",
      "metadata": {
        "ExecuteTime": {
          "end_time": "2021-04-15T19:50:46.420774Z",
          "start_time": "2021-04-15T19:50:46.276093Z"
        },
        "id": "M5UqI5P0UvCY"
      },
      "source": [
        "with pd.HDFStore('/content/drive/MyDrive/ahfs/assets.h5') as store:\n",
        "    sp500_stocks = store['sp500/stocks']"
      ],
      "execution_count": 9,
      "outputs": []
    },
    {
      "cell_type": "code",
      "metadata": {
        "ExecuteTime": {
          "end_time": "2021-04-15T19:50:46.432108Z",
          "start_time": "2021-04-15T19:50:46.421795Z"
        },
        "id": "eerHSMkCUvCZ",
        "colab": {
          "base_uri": "https://localhost:8080/",
          "height": 235
        },
        "outputId": "9c0c2ad9-af15-46f4-cfba-24c939a69b76"
      },
      "source": [
        "sp500_stocks.head()"
      ],
      "execution_count": 10,
      "outputs": [
        {
          "output_type": "execute_result",
          "data": {
            "text/html": [
              "<div>\n",
              "<style scoped>\n",
              "    .dataframe tbody tr th:only-of-type {\n",
              "        vertical-align: middle;\n",
              "    }\n",
              "\n",
              "    .dataframe tbody tr th {\n",
              "        vertical-align: top;\n",
              "    }\n",
              "\n",
              "    .dataframe thead th {\n",
              "        text-align: right;\n",
              "    }\n",
              "</style>\n",
              "<table border=\"1\" class=\"dataframe\">\n",
              "  <thead>\n",
              "    <tr style=\"text-align: right;\">\n",
              "      <th></th>\n",
              "      <th>name</th>\n",
              "      <th>gics_sector</th>\n",
              "      <th>gics_sub_industry</th>\n",
              "      <th>location</th>\n",
              "      <th>first_added</th>\n",
              "      <th>cik</th>\n",
              "      <th>founded</th>\n",
              "    </tr>\n",
              "    <tr>\n",
              "      <th>ticker</th>\n",
              "      <th></th>\n",
              "      <th></th>\n",
              "      <th></th>\n",
              "      <th></th>\n",
              "      <th></th>\n",
              "      <th></th>\n",
              "      <th></th>\n",
              "    </tr>\n",
              "  </thead>\n",
              "  <tbody>\n",
              "    <tr>\n",
              "      <th>MMM</th>\n",
              "      <td>3M</td>\n",
              "      <td>Industrials</td>\n",
              "      <td>Industrial Conglomerates</td>\n",
              "      <td>Saint Paul, Minnesota</td>\n",
              "      <td>1976-08-09</td>\n",
              "      <td>66740</td>\n",
              "      <td>1902</td>\n",
              "    </tr>\n",
              "    <tr>\n",
              "      <th>ABT</th>\n",
              "      <td>Abbott Laboratories</td>\n",
              "      <td>Health Care</td>\n",
              "      <td>Health Care Equipment</td>\n",
              "      <td>North Chicago, Illinois</td>\n",
              "      <td>1964-03-31</td>\n",
              "      <td>1800</td>\n",
              "      <td>1888</td>\n",
              "    </tr>\n",
              "    <tr>\n",
              "      <th>ABBV</th>\n",
              "      <td>AbbVie</td>\n",
              "      <td>Health Care</td>\n",
              "      <td>Pharmaceuticals</td>\n",
              "      <td>North Chicago, Illinois</td>\n",
              "      <td>2012-12-31</td>\n",
              "      <td>1551152</td>\n",
              "      <td>2013 (1888)</td>\n",
              "    </tr>\n",
              "    <tr>\n",
              "      <th>ABMD</th>\n",
              "      <td>Abiomed</td>\n",
              "      <td>Health Care</td>\n",
              "      <td>Health Care Equipment</td>\n",
              "      <td>Danvers, Massachusetts</td>\n",
              "      <td>2018-05-31</td>\n",
              "      <td>815094</td>\n",
              "      <td>1981</td>\n",
              "    </tr>\n",
              "    <tr>\n",
              "      <th>ACN</th>\n",
              "      <td>Accenture</td>\n",
              "      <td>Information Technology</td>\n",
              "      <td>IT Consulting &amp; Other Services</td>\n",
              "      <td>Dublin, Ireland</td>\n",
              "      <td>2011-07-06</td>\n",
              "      <td>1467373</td>\n",
              "      <td>1989</td>\n",
              "    </tr>\n",
              "  </tbody>\n",
              "</table>\n",
              "</div>"
            ],
            "text/plain": [
              "                       name             gics_sector  ...      cik      founded\n",
              "ticker                                               ...                      \n",
              "MMM                      3M             Industrials  ...    66740         1902\n",
              "ABT     Abbott Laboratories             Health Care  ...     1800         1888\n",
              "ABBV                 AbbVie             Health Care  ...  1551152  2013 (1888)\n",
              "ABMD                Abiomed             Health Care  ...   815094         1981\n",
              "ACN               Accenture  Information Technology  ...  1467373         1989\n",
              "\n",
              "[5 rows x 7 columns]"
            ]
          },
          "metadata": {
            "tags": []
          },
          "execution_count": 10
        }
      ]
    },
    {
      "cell_type": "code",
      "metadata": {
        "ExecuteTime": {
          "end_time": "2021-04-15T19:50:51.768403Z",
          "start_time": "2021-04-15T19:50:46.433099Z"
        },
        "id": "kfYaO2sFUvCZ"
      },
      "source": [
        "with pd.HDFStore('/content/drive/MyDrive/ahfs/assets.h5') as store:\n",
        "    prices = (store['quandl/wiki/prices']\n",
        "              .adj_close\n",
        "              .unstack('ticker')\n",
        "              .filter(sp500_stocks.index)\n",
        "              .sample(n=30, axis=1))"
      ],
      "execution_count": null,
      "outputs": []
    },
    {
      "cell_type": "markdown",
      "metadata": {
        "id": "VlnYiwGkUvCa"
      },
      "source": [
        "## Compute Inputs"
      ]
    },
    {
      "cell_type": "code",
      "metadata": {
        "id": "wcgdnJyRMoH8"
      },
      "source": [
        "startDt='2014-01-01'\n",
        "endDt='2017-12-31'"
      ],
      "execution_count": null,
      "outputs": []
    },
    {
      "cell_type": "code",
      "metadata": {
        "id": "7VTMzVOFeRrJ"
      },
      "source": [
        "ff_factor = 'F-F_Research_Data_5_Factors_2x3_daily'\n",
        "ff_factor_data = web.DataReader(ff_factor, 'famafrench', start=startDt, end=endDt)[0]\n",
        "ff_factor_data.info()"
      ],
      "execution_count": null,
      "outputs": []
    },
    {
      "cell_type": "code",
      "metadata": {
        "id": "Q06EIFVQcdFk"
      },
      "source": [
        "#data = np.genfromtxt(,delimiter=',',skip_header=1)\n",
        "import glob\n",
        "\n",
        "\n",
        "\n",
        "# get data file names\n",
        "\n",
        "local_path = r'/content/drive/MyDrive/ahfs/project'\n",
        "\n",
        "filenames = glob.glob(local_path + \"/*.csv\")\n",
        "\n",
        "dfs = []\n",
        "\n",
        "i=0\n",
        "for filename in filenames:\n",
        "    if i==0:\n",
        "      assetName=filename.rsplit( \".\", 1 )[ 0 ]\n",
        "      assetName=assetName.rsplit( \"/\", 1 )[ 1 ]\n",
        "      dfs=pd.read_csv(filename)\n",
        "      dfs.rename(columns={ dfs.columns[i+1]: assetName }, inplace = True)\n",
        "    else:\n",
        "      assetName=filename.rsplit( \".\", 1 )[ 0 ]\n",
        "      assetName=assetName.rsplit( \"/\", 1 )[ 1 ]\n",
        "      ts=pd.read_csv(filename)\n",
        "      ts.head()\n",
        "      dfs=dfs.merge(ts,on=\"index\")\n",
        "      dfs.rename(columns={ dfs.columns[i+1]: assetName }, inplace = True)\n",
        "    i=i+1\n",
        "\n",
        "\n"
      ],
      "execution_count": null,
      "outputs": []
    },
    {
      "cell_type": "code",
      "metadata": {
        "id": "ssxQhx2RssRX"
      },
      "source": [
        "dfs.head()\n",
        "dfs['Date']=dfs['index']\n",
        "dfs['Date'] = pd.to_datetime(dfs['Date'],utc=False)\n",
        "dfs.index=dfs['Date']\n",
        "\n",
        "dfs=dfs.drop(\"index\",axis=1)\n",
        "dfs=dfs.drop(\"Date\",axis=1)\n",
        "dfs=dfs.tz_convert(None)"
      ],
      "execution_count": null,
      "outputs": []
    },
    {
      "cell_type": "code",
      "metadata": {
        "id": "1whi9haAg0EB"
      },
      "source": [
        "dfs=pd.merge(dfs, ff_factor_data/100, left_index=True, right_index=True)"
      ],
      "execution_count": null,
      "outputs": []
    },
    {
      "cell_type": "code",
      "metadata": {
        "id": "0bEBWzYO-IB6"
      },
      "source": [
        "dfs.head()"
      ],
      "execution_count": null,
      "outputs": []
    },
    {
      "cell_type": "markdown",
      "metadata": {
        "id": "arYgbbZXP7gR"
      },
      "source": [
        "# Pick tickers here using mutual funds and ETF's for alternative benchmarks"
      ]
    },
    {
      "cell_type": "code",
      "metadata": {
        "id": "zGdIPAMj-mtP"
      },
      "source": [
        "numCol=len(dfs.columns)\n",
        "tickers = [\"MNA\",\"ICVT\",\"AQMNX\"]\n",
        "i=0\n",
        "for ticker in tickers:\n",
        "    data=yf.download(ticker,startDt, endDt)    \n",
        "    rets=data['Adj Close'].pct_change()\n",
        "    dfs=pd.merge(dfs, rets, left_index=True, right_index=True)\n",
        "    dfs.rename(columns={ dfs.columns[numCol+i]: ticker }, inplace = True)\n",
        "    i=i+1\n"
      ],
      "execution_count": null,
      "outputs": []
    },
    {
      "cell_type": "code",
      "metadata": {
        "id": "n1XoaF4UPiOi"
      },
      "source": [
        "dfs.head()"
      ],
      "execution_count": null,
      "outputs": []
    },
    {
      "cell_type": "markdown",
      "metadata": {
        "id": "oKOnTXzRUvCd"
      },
      "source": [
        "### Risk-Free Rate"
      ]
    },
    {
      "cell_type": "markdown",
      "metadata": {
        "id": "bxdYH1wlUvCd"
      },
      "source": [
        "Load historical 10-year Treasury rate:"
      ]
    },
    {
      "cell_type": "code",
      "metadata": {
        "ExecuteTime": {
          "end_time": "2021-04-15T19:50:54.602074Z",
          "start_time": "2021-04-15T19:50:54.600080Z"
        },
        "id": "BVte0BYfUvCe"
      },
      "source": [
        "rf_rate = dfs['RF'].mean()\n",
        "dfs2=dfs.drop(columns=[\"RF\",\"Mkt-RF\"]) # RF no longer needed and Mkt should not be part of your portfolio"
      ],
      "execution_count": null,
      "outputs": []
    },
    {
      "cell_type": "code",
      "metadata": {
        "id": "JuYRMZDnoT1n"
      },
      "source": [
        "dfs2.head()"
      ],
      "execution_count": null,
      "outputs": []
    },
    {
      "cell_type": "markdown",
      "metadata": {
        "id": "kj2KV80fnCp5"
      },
      "source": [
        "# FF Factors removed here, HML left in by default for example"
      ]
    },
    {
      "cell_type": "code",
      "metadata": {
        "id": "jdw5qROrhafJ"
      },
      "source": [
        "dfs2=dfs2.drop(columns=[\"SMB\",\"RMW\",\"CMA\"]) # Leave HML as an example so delete if not part of your strategy"
      ],
      "execution_count": null,
      "outputs": []
    },
    {
      "cell_type": "markdown",
      "metadata": {
        "id": "eHXFJWS3UvCa"
      },
      "source": [
        "### Compute Returns"
      ]
    },
    {
      "cell_type": "markdown",
      "metadata": {
        "id": "LkKCAVy0UvCa"
      },
      "source": [
        "Create month-end monthly returns and drop dates that have no observations:"
      ]
    },
    {
      "cell_type": "code",
      "metadata": {
        "ExecuteTime": {
          "end_time": "2021-04-15T19:50:51.804432Z",
          "start_time": "2021-04-15T19:50:51.773281Z"
        },
        "id": "GZ-Xr0OvUvCb"
      },
      "source": [
        "daily_returns= dfs2\n",
        "daily_returns.info()\n"
      ],
      "execution_count": null,
      "outputs": []
    },
    {
      "cell_type": "code",
      "metadata": {
        "id": "tfxkCYtMZ-l7"
      },
      "source": [
        "daily_returns.head()"
      ],
      "execution_count": null,
      "outputs": []
    },
    {
      "cell_type": "markdown",
      "metadata": {
        "id": "SQIIAUN7UvCb"
      },
      "source": [
        "### Set  Parameters"
      ]
    },
    {
      "cell_type": "code",
      "metadata": {
        "ExecuteTime": {
          "end_time": "2021-04-15T19:50:51.807608Z",
          "start_time": "2021-04-15T19:50:51.805833Z"
        },
        "id": "KRh0nq6dUvCb"
      },
      "source": [
        "strategies = daily_returns.columns"
      ],
      "execution_count": null,
      "outputs": []
    },
    {
      "cell_type": "code",
      "metadata": {
        "ExecuteTime": {
          "end_time": "2021-04-15T19:50:51.816214Z",
          "start_time": "2021-04-15T19:50:51.808383Z"
        },
        "id": "OtDe9ITPUvCb"
      },
      "source": [
        "n_obs, n_assets = daily_returns.shape\n",
        "n_assets, n_obs"
      ],
      "execution_count": null,
      "outputs": []
    },
    {
      "cell_type": "code",
      "metadata": {
        "id": "wuRjQt1KqYA0"
      },
      "source": [
        ""
      ],
      "execution_count": null,
      "outputs": []
    },
    {
      "cell_type": "code",
      "metadata": {
        "ExecuteTime": {
          "end_time": "2021-04-15T19:50:51.844894Z",
          "start_time": "2021-04-15T19:50:51.829943Z"
        },
        "id": "8vUF7HXHUvCc"
      },
      "source": [
        "x0 = uniform(0, 1, n_assets)\n",
        "x0 /= np.sum(np.abs(x0))"
      ],
      "execution_count": null,
      "outputs": []
    },
    {
      "cell_type": "markdown",
      "metadata": {
        "id": "gzfPQiE7UvCc"
      },
      "source": [
        "### Annualization Factor"
      ]
    },
    {
      "cell_type": "code",
      "metadata": {
        "ExecuteTime": {
          "end_time": "2021-04-15T19:50:51.854306Z",
          "start_time": "2021-04-15T19:50:51.845731Z"
        },
        "id": "G_C41tQZUvCc"
      },
      "source": [
        "periods_per_year = round(daily_returns.resample('A').size().mean())\n",
        "periods_per_year"
      ],
      "execution_count": null,
      "outputs": []
    },
    {
      "cell_type": "markdown",
      "metadata": {
        "id": "k9Y-bsGgUvCd"
      },
      "source": [
        "### Compute Mean Returns, Covariance and Precision Matrix"
      ]
    },
    {
      "cell_type": "code",
      "metadata": {
        "ExecuteTime": {
          "end_time": "2021-04-15T19:50:51.887256Z",
          "start_time": "2021-04-15T19:50:51.855159Z"
        },
        "id": "eddSZD9tUvCd"
      },
      "source": [
        "mean_returns = daily_returns.mean()\n",
        "cov_matrix = daily_returns.cov()"
      ],
      "execution_count": null,
      "outputs": []
    },
    {
      "cell_type": "code",
      "metadata": {
        "id": "6JXszomoR1sP"
      },
      "source": [
        "mean_returns\n",
        "\n"
      ],
      "execution_count": null,
      "outputs": []
    },
    {
      "cell_type": "code",
      "metadata": {
        "id": "qjuXmL4KVc2f"
      },
      "source": [
        "cov_matrix"
      ],
      "execution_count": null,
      "outputs": []
    },
    {
      "cell_type": "markdown",
      "metadata": {
        "id": "W127b9dxUvCd"
      },
      "source": [
        "The precision matrix is the inverse of the covariance matrix:"
      ]
    },
    {
      "cell_type": "code",
      "metadata": {
        "ExecuteTime": {
          "end_time": "2021-04-15T19:50:51.891050Z",
          "start_time": "2021-04-15T19:50:51.888241Z"
        },
        "id": "rMqlQHRlUvCd"
      },
      "source": [
        "precision_matrix = pd.DataFrame(inv(cov_matrix), index=strategies, columns=strategies)"
      ],
      "execution_count": null,
      "outputs": []
    },
    {
      "cell_type": "markdown",
      "metadata": {
        "id": "jueFQGk0UvCg"
      },
      "source": [
        "## Compute Annualize PF Performance"
      ]
    },
    {
      "cell_type": "markdown",
      "metadata": {
        "id": "Q-izeM1qUvCg"
      },
      "source": [
        "Now we'll set up the quadratic optimization problem to solve for the minimum standard deviation for a given return or the maximum SR. \n",
        "\n",
        "To this end, define the functions that measure the key metrics:"
      ]
    },
    {
      "cell_type": "code",
      "metadata": {
        "ExecuteTime": {
          "end_time": "2021-04-15T19:50:56.155735Z",
          "start_time": "2021-04-15T19:50:56.152925Z"
        },
        "id": "27OsABaNUvCh"
      },
      "source": [
        "def portfolio_std(wt, rt=None, cov=None):\n",
        "    \"\"\"Annualized PF standard deviation\"\"\"\n",
        "    return np.sqrt(wt @ cov @ wt * periods_per_year)"
      ],
      "execution_count": null,
      "outputs": []
    },
    {
      "cell_type": "code",
      "metadata": {
        "ExecuteTime": {
          "end_time": "2021-04-15T19:50:56.168515Z",
          "start_time": "2021-04-15T19:50:56.158591Z"
        },
        "id": "fYHqOktzUvCh"
      },
      "source": [
        "def portfolio_returns(wt, rt=None, cov=None):\n",
        "    \"\"\"Annualized PF returns\"\"\"\n",
        "    return (wt @ rt + 1) ** periods_per_year - 1"
      ],
      "execution_count": null,
      "outputs": []
    },
    {
      "cell_type": "code",
      "metadata": {
        "ExecuteTime": {
          "end_time": "2021-04-15T19:50:56.189906Z",
          "start_time": "2021-04-15T19:50:56.169815Z"
        },
        "id": "LwmSpfkhUvCh"
      },
      "source": [
        "def portfolio_performance(wt, rt, cov):\n",
        "    \"\"\"Annualized PF returns & standard deviation\"\"\"\n",
        "    r = portfolio_returns(wt, rt=rt)\n",
        "    sd = portfolio_std(wt, cov=cov)\n",
        "    return r, sd"
      ],
      "execution_count": null,
      "outputs": []
    },
    {
      "cell_type": "markdown",
      "metadata": {
        "id": "d24uczsxUvCh"
      },
      "source": [
        "## Max Sharpe PF"
      ]
    },
    {
      "cell_type": "markdown",
      "metadata": {
        "id": "wzidbbwqUvCh"
      },
      "source": [
        "Define a target function that represents the negative SR for scipy's minimize function to optimize, given the constraints that the weights are bounded by [-1, 1], if short trading is permitted, and [0, 1] otherwise, and sum to one in absolute terms."
      ]
    },
    {
      "cell_type": "code",
      "metadata": {
        "ExecuteTime": {
          "end_time": "2021-04-15T19:50:56.210361Z",
          "start_time": "2021-04-15T19:50:56.192801Z"
        },
        "id": "RfO34YDqUvCh"
      },
      "source": [
        "def neg_sharpe_ratio(weights, mean_ret, cov):\n",
        "    r, sd = portfolio_performance(weights, mean_ret, cov)\n",
        "    return -((r - rf_rate) / sd)"
      ],
      "execution_count": null,
      "outputs": []
    },
    {
      "cell_type": "code",
      "metadata": {
        "ExecuteTime": {
          "end_time": "2021-04-15T19:50:56.218453Z",
          "start_time": "2021-04-15T19:50:56.215349Z"
        },
        "id": "AKHsleqvUvCi"
      },
      "source": [
        "weight_constraint = {'type': 'eq', \n",
        "                     'fun': lambda x: np.sum(np.abs(x))-1}"
      ],
      "execution_count": null,
      "outputs": []
    },
    {
      "cell_type": "code",
      "metadata": {
        "ExecuteTime": {
          "end_time": "2021-04-15T19:50:56.226866Z",
          "start_time": "2021-04-15T19:50:56.219848Z"
        },
        "id": "V7DK72Q1UvCi"
      },
      "source": [
        "def max_sharpe_ratio(mean_ret, cov, short=False):   # short-F because you can't short your own strategy\n",
        "    return minimize(fun=neg_sharpe_ratio,\n",
        "                    x0=x0,\n",
        "                    args=(mean_ret, cov),\n",
        "                    method='SLSQP',\n",
        "                    bounds=((-1 if short else 0, 1),) * n_assets,\n",
        "                    constraints=weight_constraint,\n",
        "                    options={'tol':1e-10, 'maxiter':1e4})"
      ],
      "execution_count": null,
      "outputs": []
    },
    {
      "cell_type": "markdown",
      "metadata": {
        "id": "jWRgBkuYUvCk"
      },
      "source": [
        "## Run Calculations"
      ]
    },
    {
      "cell_type": "markdown",
      "metadata": {
        "id": "Wi0bn3bGUvCm"
      },
      "source": [
        "### Get Max Sharpe PF"
      ]
    },
    {
      "cell_type": "code",
      "metadata": {
        "ExecuteTime": {
          "end_time": "2021-04-15T19:50:56.712479Z",
          "start_time": "2021-04-15T19:50:56.632571Z"
        },
        "id": "H4S0U9geUvCm"
      },
      "source": [
        "max_sharpe_pf = max_sharpe_ratio(mean_returns, cov_matrix, short=False)\n",
        "max_sharpe_perf = portfolio_performance(max_sharpe_pf.x, mean_returns, cov_matrix)"
      ],
      "execution_count": null,
      "outputs": []
    },
    {
      "cell_type": "code",
      "metadata": {
        "id": "DCnoubp_dYfx"
      },
      "source": [
        "len(mean_returns)"
      ],
      "execution_count": null,
      "outputs": []
    },
    {
      "cell_type": "code",
      "metadata": {
        "id": "o0dxln3Tcf24"
      },
      "source": [
        "print(max_sharpe_pf.x)"
      ],
      "execution_count": null,
      "outputs": []
    },
    {
      "cell_type": "code",
      "metadata": {
        "ExecuteTime": {
          "end_time": "2021-04-15T19:50:56.717402Z",
          "start_time": "2021-04-15T19:50:56.713261Z"
        },
        "id": "9rAPJTbSUvCm"
      },
      "source": [
        "r, sd = max_sharpe_perf\n",
        "pd.Series({'ret': r, 'sd': sd, 'sr': (r-rf_rate)/sd})"
      ],
      "execution_count": null,
      "outputs": []
    },
    {
      "cell_type": "markdown",
      "metadata": {
        "id": "JINT7G6WUvCm"
      },
      "source": [
        "From simulated pf data"
      ]
    },
    {
      "cell_type": "code",
      "metadata": {
        "id": "UqP6g4bHMujm"
      },
      "source": [
        "# Save weights\n",
        "pWeights=max_sharpe_pf.x"
      ],
      "execution_count": null,
      "outputs": []
    },
    {
      "cell_type": "markdown",
      "metadata": {
        "id": "6xZEKn7KMFs1"
      },
      "source": [
        "# Now contsruct portfolios from weights"
      ]
    },
    {
      "cell_type": "code",
      "metadata": {
        "id": "1lv6wNgtMFYh"
      },
      "source": [
        "myStrat=dfs2[strategies].mul(pWeights)\n",
        "myStratRets=dfs2[strategies].mul(pWeights).sum(1)"
      ],
      "execution_count": null,
      "outputs": []
    },
    {
      "cell_type": "code",
      "metadata": {
        "id": "09ucOs6oTcMN"
      },
      "source": [
        "myStratRets.head()"
      ],
      "execution_count": null,
      "outputs": []
    },
    {
      "cell_type": "markdown",
      "metadata": {
        "id": "8YU2UpgG4fzo"
      },
      "source": [
        "## Run PyFolio Analysis"
      ]
    },
    {
      "cell_type": "markdown",
      "metadata": {
        "id": "Rywz22qT4fzp"
      },
      "source": [
        "### Get Benchmark"
      ]
    },
    {
      "cell_type": "code",
      "metadata": {
        "ExecuteTime": {
          "end_time": "2021-04-16T00:11:36.852386Z",
          "start_time": "2021-04-16T00:11:36.848363Z"
        },
        "id": "kgWxJrZQ4fzq"
      },
      "source": [
        "start = str(myStratRets.index.min().year)\n",
        "end = str(myStratRets.index.max().year + 1)"
      ],
      "execution_count": null,
      "outputs": []
    },
    {
      "cell_type": "code",
      "metadata": {
        "id": "X7rHSmjFcwip"
      },
      "source": [
        "myStratRets.head()"
      ],
      "execution_count": null,
      "outputs": []
    },
    {
      "cell_type": "code",
      "metadata": {
        "ExecuteTime": {
          "end_time": "2021-04-16T00:11:37.502591Z",
          "start_time": "2021-04-16T00:11:36.853824Z"
        },
        "id": "76rwg8zo4fzq"
      },
      "source": [
        "benchmark = web.DataReader('SP500', 'fred',\n",
        "                           start=start,\n",
        "                           end=end).squeeze()\n",
        "benchmark = benchmark.pct_change().tz_localize(None)\n"
      ],
      "execution_count": null,
      "outputs": []
    },
    {
      "cell_type": "code",
      "metadata": {
        "ExecuteTime": {
          "end_time": "2021-04-16T00:11:39.782860Z",
          "start_time": "2021-04-16T00:11:37.503679Z"
        },
        "id": "lW1gtsHS4fzq"
      },
      "source": [
        "fig, axes = plt.subplots(ncols=3, figsize=(20,5))\n",
        "pf.plotting.plot_rolling_returns( myStratRets, ax=axes[0])\n",
        "axes[0].set_title('Cumulative Returns')\n",
        "pf.plotting.plot_rolling_sharpe(myStratRets, benchmark,ax=axes[1])\n",
        "pf.plotting.plot_rolling_beta(myStratRets, benchmark, ax=axes[2])\n",
        "sns.despine()\n",
        "fig.tight_layout();"
      ],
      "execution_count": null,
      "outputs": []
    },
    {
      "cell_type": "markdown",
      "metadata": {
        "id": "HzRk9LCN4fzq"
      },
      "source": [
        "### Create full tearsheet for overall and then for each"
      ]
    },
    {
      "cell_type": "code",
      "metadata": {
        "ExecuteTime": {
          "end_time": "2021-04-16T00:11:45.996080Z",
          "start_time": "2021-04-16T00:11:39.783803Z"
        },
        "scrolled": false,
        "id": "L0VINOv74fzq"
      },
      "source": [
        "pf.create_full_tear_sheet(myStratRets,\n",
        "                          estimate_intraday=False)"
      ],
      "execution_count": null,
      "outputs": []
    },
    {
      "cell_type": "code",
      "metadata": {
        "id": "52nZ1_QYWdIr"
      },
      "source": [
        "for strat in strategies:\n",
        "  print(strat)\n",
        "  pf.create_full_tear_sheet(myStrat[strat],\n",
        "                          estimate_intraday=False)"
      ],
      "execution_count": null,
      "outputs": []
    }
  ]
}