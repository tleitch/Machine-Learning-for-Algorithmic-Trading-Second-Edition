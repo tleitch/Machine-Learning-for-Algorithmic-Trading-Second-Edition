{
  "nbformat": 4,
  "nbformat_minor": 0,
  "metadata": {
    "kernelspec": {
      "display_name": "Python 3",
      "language": "python",
      "name": "python3"
    },
    "language_info": {
      "codemirror_mode": {
        "name": "ipython",
        "version": 3
      },
      "file_extension": ".py",
      "mimetype": "text/x-python",
      "name": "python",
      "nbconvert_exporter": "python",
      "pygments_lexer": "ipython3",
      "version": "3.8.6"
    },
    "toc": {
      "base_numbering": 1,
      "nav_menu": {},
      "number_sections": true,
      "sideBar": true,
      "skip_h1_title": true,
      "title_cell": "Table of Contents",
      "title_sidebar": "Contents",
      "toc_cell": false,
      "toc_position": {},
      "toc_section_display": true,
      "toc_window_display": true
    },
    "colab": {
      "name": "02_yfinance_demo.ipynb",
      "provenance": [],
      "include_colab_link": true
    }
  },
  "cells": [
    {
      "cell_type": "markdown",
      "metadata": {
        "id": "view-in-github",
        "colab_type": "text"
      },
      "source": [
        "<a href=\"https://colab.research.google.com/github/tleitch/Machine-Learning-for-Algorithmic-Trading-Second-Edition/blob/master/02_market_and_fundamental_data/03_data_providers/02_yfinance_demo.ipynb\" target=\"_parent\"><img src=\"https://colab.research.google.com/assets/colab-badge.svg\" alt=\"Open In Colab\"/></a>"
      ]
    },
    {
      "cell_type": "markdown",
      "metadata": {
        "id": "JgyzzbFcZ50c"
      },
      "source": [
        "# Downloading Market and Fundamental Data with `yfinance`"
      ]
    },
    {
      "cell_type": "markdown",
      "metadata": {
        "id": "6MlVWk5fZ50e"
      },
      "source": [
        "## Imports & Settings"
      ]
    },
    {
      "cell_type": "code",
      "metadata": {
        "ExecuteTime": {
          "end_time": "2020-12-30T22:10:17.912280Z",
          "start_time": "2020-12-30T22:10:17.910159Z"
        },
        "id": "LsOFfoTWZ50e"
      },
      "source": [
        "import warnings\n",
        "warnings.filterwarnings('ignore')"
      ],
      "execution_count": null,
      "outputs": []
    },
    {
      "cell_type": "code",
      "metadata": {
        "ExecuteTime": {
          "end_time": "2020-12-30T22:10:18.106348Z",
          "start_time": "2020-12-30T22:10:17.915000Z"
        },
        "id": "iT7HeVooZ50f"
      },
      "source": [
        "import pandas as pd\n",
        "import yfinance as yf"
      ],
      "execution_count": null,
      "outputs": []
    },
    {
      "cell_type": "markdown",
      "metadata": {
        "id": "6zItjVEbZ50f"
      },
      "source": [
        "## How to work with a Ticker object"
      ]
    },
    {
      "cell_type": "code",
      "metadata": {
        "ExecuteTime": {
          "end_time": "2020-12-30T22:10:18.113266Z",
          "start_time": "2020-12-30T22:10:18.107256Z"
        },
        "id": "-xGaqjXyZ50g"
      },
      "source": [
        "symbol = 'FB'\n",
        "ticker = yf.Ticker(symbol)"
      ],
      "execution_count": null,
      "outputs": []
    },
    {
      "cell_type": "markdown",
      "metadata": {
        "id": "T38iTV5uZ50g"
      },
      "source": [
        "### Show ticker info"
      ]
    },
    {
      "cell_type": "code",
      "metadata": {
        "ExecuteTime": {
          "end_time": "2020-12-30T22:10:19.850491Z",
          "start_time": "2020-12-30T22:10:18.114284Z"
        },
        "id": "IJtK2ijvZ50g",
        "outputId": "b3767d3c-8f9c-4cec-df8b-249324ef4448"
      },
      "source": [
        "pd.Series(ticker.info).head(20)"
      ],
      "execution_count": null,
      "outputs": [
        {
          "output_type": "execute_result",
          "data": {
            "text/plain": [
              "zip                                                                        94025\n",
              "sector                                                    Communication Services\n",
              "fullTimeEmployees                                                          56653\n",
              "longBusinessSummary            Facebook, Inc. develops products that enable p...\n",
              "city                                                                  Menlo Park\n",
              "phone                                                               650-543-4800\n",
              "state                                                                         CA\n",
              "country                                                            United States\n",
              "companyOfficers                                                               []\n",
              "website                                                   http://investor.fb.com\n",
              "maxAge                                                                         1\n",
              "address1                                                        1601 Willow Road\n",
              "industry                                          Internet Content & Information\n",
              "previousClose                                                          276.78000\n",
              "regularMarketOpen                                                      277.95000\n",
              "twoHundredDayAverage                                                   263.02948\n",
              "trailingAnnualDividendYield                                                 None\n",
              "payoutRatio                                                                    0\n",
              "volume24Hr                                                                  None\n",
              "regularMarketDayHigh                                                   278.07500\n",
              "dtype: object"
            ]
          },
          "metadata": {
            "tags": []
          },
          "execution_count": 4
        }
      ]
    },
    {
      "cell_type": "markdown",
      "metadata": {
        "id": "i6KfewoeZ50h"
      },
      "source": [
        "### Get market data"
      ]
    },
    {
      "cell_type": "code",
      "metadata": {
        "ExecuteTime": {
          "end_time": "2020-12-30T22:10:20.144321Z",
          "start_time": "2020-12-30T22:10:19.854215Z"
        },
        "id": "owTWrsP6Z50i",
        "outputId": "62923ad8-fc20-4245-ecab-c892cb48f5d5"
      },
      "source": [
        "data = ticker.history(period='5d',\n",
        "                      interval='1m',\n",
        "                      start=None,\n",
        "                      end=None,\n",
        "                      actions=True,\n",
        "                      auto_adjust=True,\n",
        "                      back_adjust=False)\n",
        "data.info()"
      ],
      "execution_count": null,
      "outputs": [
        {
          "output_type": "stream",
          "text": [
            "<class 'pandas.core.frame.DataFrame'>\n",
            "DatetimeIndex: 1771 entries, 2020-12-23 09:30:00-05:00 to 2020-12-30 15:59:00-05:00\n",
            "Data columns (total 7 columns):\n",
            " #   Column        Non-Null Count  Dtype  \n",
            "---  ------        --------------  -----  \n",
            " 0   Open          1771 non-null   float64\n",
            " 1   High          1771 non-null   float64\n",
            " 2   Low           1771 non-null   float64\n",
            " 3   Close         1771 non-null   float64\n",
            " 4   Volume        1771 non-null   int64  \n",
            " 5   Dividends     1771 non-null   int64  \n",
            " 6   Stock Splits  1771 non-null   int64  \n",
            "dtypes: float64(4), int64(3)\n",
            "memory usage: 110.7 KB\n"
          ],
          "name": "stdout"
        }
      ]
    },
    {
      "cell_type": "markdown",
      "metadata": {
        "id": "pBPKOg5NZ50i"
      },
      "source": [
        "### View company actions"
      ]
    },
    {
      "cell_type": "code",
      "metadata": {
        "ExecuteTime": {
          "end_time": "2020-12-30T22:10:20.151969Z",
          "start_time": "2020-12-30T22:10:20.145305Z"
        },
        "id": "f2KSXVCmZ50i",
        "outputId": "b6658ca3-ce5f-40cc-e51e-24cc93bc3c51"
      },
      "source": [
        "# show actions (dividends, splits)\n",
        "ticker.actions"
      ],
      "execution_count": null,
      "outputs": [
        {
          "output_type": "execute_result",
          "data": {
            "text/html": [
              "<div>\n",
              "<style scoped>\n",
              "    .dataframe tbody tr th:only-of-type {\n",
              "        vertical-align: middle;\n",
              "    }\n",
              "\n",
              "    .dataframe tbody tr th {\n",
              "        vertical-align: top;\n",
              "    }\n",
              "\n",
              "    .dataframe thead th {\n",
              "        text-align: right;\n",
              "    }\n",
              "</style>\n",
              "<table border=\"1\" class=\"dataframe\">\n",
              "  <thead>\n",
              "    <tr style=\"text-align: right;\">\n",
              "      <th></th>\n",
              "      <th>Dividends</th>\n",
              "      <th>Stock Splits</th>\n",
              "    </tr>\n",
              "    <tr>\n",
              "      <th>Datetime</th>\n",
              "      <th></th>\n",
              "      <th></th>\n",
              "    </tr>\n",
              "  </thead>\n",
              "  <tbody>\n",
              "  </tbody>\n",
              "</table>\n",
              "</div>"
            ],
            "text/plain": [
              "Empty DataFrame\n",
              "Columns: [Dividends, Stock Splits]\n",
              "Index: []"
            ]
          },
          "metadata": {
            "tags": []
          },
          "execution_count": 6
        }
      ]
    },
    {
      "cell_type": "code",
      "metadata": {
        "ExecuteTime": {
          "end_time": "2020-12-30T22:10:20.162584Z",
          "start_time": "2020-12-30T22:10:20.152852Z"
        },
        "id": "v46jbPvsZ50i",
        "outputId": "9a065146-3ed9-4cf4-9443-c86a8fa81843"
      },
      "source": [
        "ticker.dividends"
      ],
      "execution_count": null,
      "outputs": [
        {
          "output_type": "execute_result",
          "data": {
            "text/plain": [
              "Series([], Name: Dividends, dtype: int64)"
            ]
          },
          "metadata": {
            "tags": []
          },
          "execution_count": 7
        }
      ]
    },
    {
      "cell_type": "code",
      "metadata": {
        "ExecuteTime": {
          "end_time": "2020-12-30T22:10:20.173848Z",
          "start_time": "2020-12-30T22:10:20.163395Z"
        },
        "id": "43k1wMuCZ50j",
        "outputId": "8b5baddb-0635-44b6-de0b-4e715a1fe709"
      },
      "source": [
        "ticker.splits"
      ],
      "execution_count": null,
      "outputs": [
        {
          "output_type": "execute_result",
          "data": {
            "text/plain": [
              "Series([], Name: Stock Splits, dtype: int64)"
            ]
          },
          "metadata": {
            "tags": []
          },
          "execution_count": 8
        }
      ]
    },
    {
      "cell_type": "markdown",
      "metadata": {
        "id": "YGE9hLKWZ50j"
      },
      "source": [
        "### Annual and Quarterly Financial Statement Summary"
      ]
    },
    {
      "cell_type": "code",
      "metadata": {
        "ExecuteTime": {
          "end_time": "2020-12-30T22:10:20.184437Z",
          "start_time": "2020-12-30T22:10:20.176409Z"
        },
        "id": "uctbEV4DZ50j",
        "outputId": "f4d2cf23-128a-4b1e-e75d-5e6a344c6f6b"
      },
      "source": [
        "ticker.financials"
      ],
      "execution_count": null,
      "outputs": [
        {
          "output_type": "execute_result",
          "data": {
            "text/html": [
              "<div>\n",
              "<style scoped>\n",
              "    .dataframe tbody tr th:only-of-type {\n",
              "        vertical-align: middle;\n",
              "    }\n",
              "\n",
              "    .dataframe tbody tr th {\n",
              "        vertical-align: top;\n",
              "    }\n",
              "\n",
              "    .dataframe thead th {\n",
              "        text-align: right;\n",
              "    }\n",
              "</style>\n",
              "<table border=\"1\" class=\"dataframe\">\n",
              "  <thead>\n",
              "    <tr style=\"text-align: right;\">\n",
              "      <th></th>\n",
              "      <th>Open</th>\n",
              "      <th>High</th>\n",
              "      <th>Low</th>\n",
              "      <th>Close</th>\n",
              "      <th>Adj Close</th>\n",
              "      <th>Volume</th>\n",
              "    </tr>\n",
              "    <tr>\n",
              "      <th>Date</th>\n",
              "      <th></th>\n",
              "      <th></th>\n",
              "      <th></th>\n",
              "      <th></th>\n",
              "      <th></th>\n",
              "      <th></th>\n",
              "    </tr>\n",
              "  </thead>\n",
              "  <tbody>\n",
              "  </tbody>\n",
              "</table>\n",
              "</div>"
            ],
            "text/plain": [
              "Empty DataFrame\n",
              "Columns: [Open, High, Low, Close, Adj Close, Volume]\n",
              "Index: []"
            ]
          },
          "metadata": {
            "tags": []
          },
          "execution_count": 9
        }
      ]
    },
    {
      "cell_type": "code",
      "metadata": {
        "ExecuteTime": {
          "end_time": "2020-12-30T22:10:20.196645Z",
          "start_time": "2020-12-30T22:10:20.186246Z"
        },
        "id": "rqa5xYcpZ50k",
        "outputId": "1e61e938-fe29-4c39-e657-be9a37140d1b"
      },
      "source": [
        "ticker.quarterly_financials"
      ],
      "execution_count": null,
      "outputs": [
        {
          "output_type": "execute_result",
          "data": {
            "text/html": [
              "<div>\n",
              "<style scoped>\n",
              "    .dataframe tbody tr th:only-of-type {\n",
              "        vertical-align: middle;\n",
              "    }\n",
              "\n",
              "    .dataframe tbody tr th {\n",
              "        vertical-align: top;\n",
              "    }\n",
              "\n",
              "    .dataframe thead th {\n",
              "        text-align: right;\n",
              "    }\n",
              "</style>\n",
              "<table border=\"1\" class=\"dataframe\">\n",
              "  <thead>\n",
              "    <tr style=\"text-align: right;\">\n",
              "      <th></th>\n",
              "      <th>Open</th>\n",
              "      <th>High</th>\n",
              "      <th>Low</th>\n",
              "      <th>Close</th>\n",
              "      <th>Adj Close</th>\n",
              "      <th>Volume</th>\n",
              "    </tr>\n",
              "    <tr>\n",
              "      <th>Date</th>\n",
              "      <th></th>\n",
              "      <th></th>\n",
              "      <th></th>\n",
              "      <th></th>\n",
              "      <th></th>\n",
              "      <th></th>\n",
              "    </tr>\n",
              "  </thead>\n",
              "  <tbody>\n",
              "  </tbody>\n",
              "</table>\n",
              "</div>"
            ],
            "text/plain": [
              "Empty DataFrame\n",
              "Columns: [Open, High, Low, Close, Adj Close, Volume]\n",
              "Index: []"
            ]
          },
          "metadata": {
            "tags": []
          },
          "execution_count": 10
        }
      ]
    },
    {
      "cell_type": "markdown",
      "metadata": {
        "id": "lVXiDnYUZ50k"
      },
      "source": [
        "### Annual and Quarterly Balance Sheet"
      ]
    },
    {
      "cell_type": "code",
      "metadata": {
        "ExecuteTime": {
          "end_time": "2020-12-30T22:10:20.206470Z",
          "start_time": "2020-12-30T22:10:20.197694Z"
        },
        "id": "fl8xnE8nZ50k",
        "outputId": "d96d5aff-5eca-4495-8992-0e051008377c"
      },
      "source": [
        "ticker.balance_sheet"
      ],
      "execution_count": null,
      "outputs": [
        {
          "output_type": "execute_result",
          "data": {
            "text/html": [
              "<div>\n",
              "<style scoped>\n",
              "    .dataframe tbody tr th:only-of-type {\n",
              "        vertical-align: middle;\n",
              "    }\n",
              "\n",
              "    .dataframe tbody tr th {\n",
              "        vertical-align: top;\n",
              "    }\n",
              "\n",
              "    .dataframe thead th {\n",
              "        text-align: right;\n",
              "    }\n",
              "</style>\n",
              "<table border=\"1\" class=\"dataframe\">\n",
              "  <thead>\n",
              "    <tr style=\"text-align: right;\">\n",
              "      <th></th>\n",
              "      <th>Open</th>\n",
              "      <th>High</th>\n",
              "      <th>Low</th>\n",
              "      <th>Close</th>\n",
              "      <th>Adj Close</th>\n",
              "      <th>Volume</th>\n",
              "    </tr>\n",
              "    <tr>\n",
              "      <th>Date</th>\n",
              "      <th></th>\n",
              "      <th></th>\n",
              "      <th></th>\n",
              "      <th></th>\n",
              "      <th></th>\n",
              "      <th></th>\n",
              "    </tr>\n",
              "  </thead>\n",
              "  <tbody>\n",
              "  </tbody>\n",
              "</table>\n",
              "</div>"
            ],
            "text/plain": [
              "Empty DataFrame\n",
              "Columns: [Open, High, Low, Close, Adj Close, Volume]\n",
              "Index: []"
            ]
          },
          "metadata": {
            "tags": []
          },
          "execution_count": 11
        }
      ]
    },
    {
      "cell_type": "code",
      "metadata": {
        "ExecuteTime": {
          "end_time": "2020-12-30T22:10:20.230795Z",
          "start_time": "2020-12-30T22:10:20.207431Z"
        },
        "id": "9RqO98K9Z50k",
        "outputId": "f88034a1-5dab-41dc-8138-1955e1ee6771"
      },
      "source": [
        "ticker.quarterly_balance_sheet"
      ],
      "execution_count": null,
      "outputs": [
        {
          "output_type": "execute_result",
          "data": {
            "text/html": [
              "<div>\n",
              "<style scoped>\n",
              "    .dataframe tbody tr th:only-of-type {\n",
              "        vertical-align: middle;\n",
              "    }\n",
              "\n",
              "    .dataframe tbody tr th {\n",
              "        vertical-align: top;\n",
              "    }\n",
              "\n",
              "    .dataframe thead th {\n",
              "        text-align: right;\n",
              "    }\n",
              "</style>\n",
              "<table border=\"1\" class=\"dataframe\">\n",
              "  <thead>\n",
              "    <tr style=\"text-align: right;\">\n",
              "      <th></th>\n",
              "      <th>Open</th>\n",
              "      <th>High</th>\n",
              "      <th>Low</th>\n",
              "      <th>Close</th>\n",
              "      <th>Adj Close</th>\n",
              "      <th>Volume</th>\n",
              "    </tr>\n",
              "    <tr>\n",
              "      <th>Date</th>\n",
              "      <th></th>\n",
              "      <th></th>\n",
              "      <th></th>\n",
              "      <th></th>\n",
              "      <th></th>\n",
              "      <th></th>\n",
              "    </tr>\n",
              "  </thead>\n",
              "  <tbody>\n",
              "  </tbody>\n",
              "</table>\n",
              "</div>"
            ],
            "text/plain": [
              "Empty DataFrame\n",
              "Columns: [Open, High, Low, Close, Adj Close, Volume]\n",
              "Index: []"
            ]
          },
          "metadata": {
            "tags": []
          },
          "execution_count": 12
        }
      ]
    },
    {
      "cell_type": "markdown",
      "metadata": {
        "id": "LQhasSEvZ50k"
      },
      "source": [
        "### Annual and Quarterly Cashflow Statement"
      ]
    },
    {
      "cell_type": "code",
      "metadata": {
        "ExecuteTime": {
          "end_time": "2020-12-30T22:10:20.253275Z",
          "start_time": "2020-12-30T22:10:20.231815Z"
        },
        "id": "voAnf0eyZ50l",
        "outputId": "2de3d871-acf3-4241-a7d1-f6a709e259ed"
      },
      "source": [
        "ticker.cashflow"
      ],
      "execution_count": null,
      "outputs": [
        {
          "output_type": "execute_result",
          "data": {
            "text/html": [
              "<div>\n",
              "<style scoped>\n",
              "    .dataframe tbody tr th:only-of-type {\n",
              "        vertical-align: middle;\n",
              "    }\n",
              "\n",
              "    .dataframe tbody tr th {\n",
              "        vertical-align: top;\n",
              "    }\n",
              "\n",
              "    .dataframe thead th {\n",
              "        text-align: right;\n",
              "    }\n",
              "</style>\n",
              "<table border=\"1\" class=\"dataframe\">\n",
              "  <thead>\n",
              "    <tr style=\"text-align: right;\">\n",
              "      <th></th>\n",
              "      <th>Open</th>\n",
              "      <th>High</th>\n",
              "      <th>Low</th>\n",
              "      <th>Close</th>\n",
              "      <th>Adj Close</th>\n",
              "      <th>Volume</th>\n",
              "    </tr>\n",
              "    <tr>\n",
              "      <th>Date</th>\n",
              "      <th></th>\n",
              "      <th></th>\n",
              "      <th></th>\n",
              "      <th></th>\n",
              "      <th></th>\n",
              "      <th></th>\n",
              "    </tr>\n",
              "  </thead>\n",
              "  <tbody>\n",
              "  </tbody>\n",
              "</table>\n",
              "</div>"
            ],
            "text/plain": [
              "Empty DataFrame\n",
              "Columns: [Open, High, Low, Close, Adj Close, Volume]\n",
              "Index: []"
            ]
          },
          "metadata": {
            "tags": []
          },
          "execution_count": 13
        }
      ]
    },
    {
      "cell_type": "code",
      "metadata": {
        "ExecuteTime": {
          "end_time": "2020-12-30T22:10:20.267617Z",
          "start_time": "2020-12-30T22:10:20.254020Z"
        },
        "id": "OzoMpLbeZ50l",
        "outputId": "3887c21a-5a7d-4a7a-fc8d-ae1c81ebf78b"
      },
      "source": [
        "ticker.quarterly_cashflow"
      ],
      "execution_count": null,
      "outputs": [
        {
          "output_type": "execute_result",
          "data": {
            "text/html": [
              "<div>\n",
              "<style scoped>\n",
              "    .dataframe tbody tr th:only-of-type {\n",
              "        vertical-align: middle;\n",
              "    }\n",
              "\n",
              "    .dataframe tbody tr th {\n",
              "        vertical-align: top;\n",
              "    }\n",
              "\n",
              "    .dataframe thead th {\n",
              "        text-align: right;\n",
              "    }\n",
              "</style>\n",
              "<table border=\"1\" class=\"dataframe\">\n",
              "  <thead>\n",
              "    <tr style=\"text-align: right;\">\n",
              "      <th></th>\n",
              "      <th>Open</th>\n",
              "      <th>High</th>\n",
              "      <th>Low</th>\n",
              "      <th>Close</th>\n",
              "      <th>Adj Close</th>\n",
              "      <th>Volume</th>\n",
              "    </tr>\n",
              "    <tr>\n",
              "      <th>Date</th>\n",
              "      <th></th>\n",
              "      <th></th>\n",
              "      <th></th>\n",
              "      <th></th>\n",
              "      <th></th>\n",
              "      <th></th>\n",
              "    </tr>\n",
              "  </thead>\n",
              "  <tbody>\n",
              "  </tbody>\n",
              "</table>\n",
              "</div>"
            ],
            "text/plain": [
              "Empty DataFrame\n",
              "Columns: [Open, High, Low, Close, Adj Close, Volume]\n",
              "Index: []"
            ]
          },
          "metadata": {
            "tags": []
          },
          "execution_count": 14
        }
      ]
    },
    {
      "cell_type": "code",
      "metadata": {
        "ExecuteTime": {
          "end_time": "2020-12-30T22:10:20.279600Z",
          "start_time": "2020-12-30T22:10:20.268571Z"
        },
        "id": "Lp6HndIGZ50l",
        "outputId": "4ed68ade-8453-4197-9830-0eb15123dc38"
      },
      "source": [
        "ticker.earnings"
      ],
      "execution_count": null,
      "outputs": [
        {
          "output_type": "execute_result",
          "data": {
            "text/html": [
              "<div>\n",
              "<style scoped>\n",
              "    .dataframe tbody tr th:only-of-type {\n",
              "        vertical-align: middle;\n",
              "    }\n",
              "\n",
              "    .dataframe tbody tr th {\n",
              "        vertical-align: top;\n",
              "    }\n",
              "\n",
              "    .dataframe thead th {\n",
              "        text-align: right;\n",
              "    }\n",
              "</style>\n",
              "<table border=\"1\" class=\"dataframe\">\n",
              "  <thead>\n",
              "    <tr style=\"text-align: right;\">\n",
              "      <th></th>\n",
              "      <th>Open</th>\n",
              "      <th>High</th>\n",
              "      <th>Low</th>\n",
              "      <th>Close</th>\n",
              "      <th>Adj Close</th>\n",
              "      <th>Volume</th>\n",
              "    </tr>\n",
              "    <tr>\n",
              "      <th>Date</th>\n",
              "      <th></th>\n",
              "      <th></th>\n",
              "      <th></th>\n",
              "      <th></th>\n",
              "      <th></th>\n",
              "      <th></th>\n",
              "    </tr>\n",
              "  </thead>\n",
              "  <tbody>\n",
              "  </tbody>\n",
              "</table>\n",
              "</div>"
            ],
            "text/plain": [
              "Empty DataFrame\n",
              "Columns: [Open, High, Low, Close, Adj Close, Volume]\n",
              "Index: []"
            ]
          },
          "metadata": {
            "tags": []
          },
          "execution_count": 15
        }
      ]
    },
    {
      "cell_type": "code",
      "metadata": {
        "ExecuteTime": {
          "end_time": "2020-12-30T22:10:20.291334Z",
          "start_time": "2020-12-30T22:10:20.280662Z"
        },
        "id": "2lk1FMyrZ50l",
        "outputId": "4b0ae4b2-6b0d-4639-df6a-106947c5dbec"
      },
      "source": [
        "ticker.quarterly_earnings"
      ],
      "execution_count": null,
      "outputs": [
        {
          "output_type": "execute_result",
          "data": {
            "text/html": [
              "<div>\n",
              "<style scoped>\n",
              "    .dataframe tbody tr th:only-of-type {\n",
              "        vertical-align: middle;\n",
              "    }\n",
              "\n",
              "    .dataframe tbody tr th {\n",
              "        vertical-align: top;\n",
              "    }\n",
              "\n",
              "    .dataframe thead th {\n",
              "        text-align: right;\n",
              "    }\n",
              "</style>\n",
              "<table border=\"1\" class=\"dataframe\">\n",
              "  <thead>\n",
              "    <tr style=\"text-align: right;\">\n",
              "      <th></th>\n",
              "      <th>Open</th>\n",
              "      <th>High</th>\n",
              "      <th>Low</th>\n",
              "      <th>Close</th>\n",
              "      <th>Adj Close</th>\n",
              "      <th>Volume</th>\n",
              "    </tr>\n",
              "    <tr>\n",
              "      <th>Date</th>\n",
              "      <th></th>\n",
              "      <th></th>\n",
              "      <th></th>\n",
              "      <th></th>\n",
              "      <th></th>\n",
              "      <th></th>\n",
              "    </tr>\n",
              "  </thead>\n",
              "  <tbody>\n",
              "  </tbody>\n",
              "</table>\n",
              "</div>"
            ],
            "text/plain": [
              "Empty DataFrame\n",
              "Columns: [Open, High, Low, Close, Adj Close, Volume]\n",
              "Index: []"
            ]
          },
          "metadata": {
            "tags": []
          },
          "execution_count": 16
        }
      ]
    },
    {
      "cell_type": "markdown",
      "metadata": {
        "id": "4UPGfvRfZ50m"
      },
      "source": [
        "### Sustainability: Environmental, Social and Governance (ESG)"
      ]
    },
    {
      "cell_type": "code",
      "metadata": {
        "ExecuteTime": {
          "end_time": "2020-12-30T22:10:20.306584Z",
          "start_time": "2020-12-30T22:10:20.292531Z"
        },
        "id": "ym69ks_EZ50m",
        "outputId": "1261898c-cfe6-4b37-a2f6-4619901f4e0d"
      },
      "source": [
        "ticker.sustainability"
      ],
      "execution_count": null,
      "outputs": [
        {
          "output_type": "execute_result",
          "data": {
            "text/html": [
              "<div>\n",
              "<style scoped>\n",
              "    .dataframe tbody tr th:only-of-type {\n",
              "        vertical-align: middle;\n",
              "    }\n",
              "\n",
              "    .dataframe tbody tr th {\n",
              "        vertical-align: top;\n",
              "    }\n",
              "\n",
              "    .dataframe thead th {\n",
              "        text-align: right;\n",
              "    }\n",
              "</style>\n",
              "<table border=\"1\" class=\"dataframe\">\n",
              "  <thead>\n",
              "    <tr style=\"text-align: right;\">\n",
              "      <th></th>\n",
              "      <th>Value</th>\n",
              "    </tr>\n",
              "    <tr>\n",
              "      <th>2020-10</th>\n",
              "      <th></th>\n",
              "    </tr>\n",
              "  </thead>\n",
              "  <tbody>\n",
              "    <tr>\n",
              "      <th>palmOil</th>\n",
              "      <td>False</td>\n",
              "    </tr>\n",
              "    <tr>\n",
              "      <th>controversialWeapons</th>\n",
              "      <td>False</td>\n",
              "    </tr>\n",
              "    <tr>\n",
              "      <th>gambling</th>\n",
              "      <td>False</td>\n",
              "    </tr>\n",
              "    <tr>\n",
              "      <th>socialScore</th>\n",
              "      <td>17.68</td>\n",
              "    </tr>\n",
              "    <tr>\n",
              "      <th>nuclear</th>\n",
              "      <td>False</td>\n",
              "    </tr>\n",
              "    <tr>\n",
              "      <th>furLeather</th>\n",
              "      <td>False</td>\n",
              "    </tr>\n",
              "    <tr>\n",
              "      <th>alcoholic</th>\n",
              "      <td>False</td>\n",
              "    </tr>\n",
              "    <tr>\n",
              "      <th>gmo</th>\n",
              "      <td>False</td>\n",
              "    </tr>\n",
              "    <tr>\n",
              "      <th>catholic</th>\n",
              "      <td>False</td>\n",
              "    </tr>\n",
              "    <tr>\n",
              "      <th>socialPercentile</th>\n",
              "      <td>None</td>\n",
              "    </tr>\n",
              "    <tr>\n",
              "      <th>peerCount</th>\n",
              "      <td>102</td>\n",
              "    </tr>\n",
              "    <tr>\n",
              "      <th>governanceScore</th>\n",
              "      <td>12.28</td>\n",
              "    </tr>\n",
              "    <tr>\n",
              "      <th>environmentPercentile</th>\n",
              "      <td>None</td>\n",
              "    </tr>\n",
              "    <tr>\n",
              "      <th>animalTesting</th>\n",
              "      <td>False</td>\n",
              "    </tr>\n",
              "    <tr>\n",
              "      <th>tobacco</th>\n",
              "      <td>False</td>\n",
              "    </tr>\n",
              "    <tr>\n",
              "      <th>totalEsg</th>\n",
              "      <td>31.40</td>\n",
              "    </tr>\n",
              "    <tr>\n",
              "      <th>highestControversy</th>\n",
              "      <td>4</td>\n",
              "    </tr>\n",
              "    <tr>\n",
              "      <th>esgPerformance</th>\n",
              "      <td>OUT_PERF</td>\n",
              "    </tr>\n",
              "    <tr>\n",
              "      <th>coal</th>\n",
              "      <td>False</td>\n",
              "    </tr>\n",
              "    <tr>\n",
              "      <th>pesticides</th>\n",
              "      <td>False</td>\n",
              "    </tr>\n",
              "    <tr>\n",
              "      <th>adult</th>\n",
              "      <td>False</td>\n",
              "    </tr>\n",
              "    <tr>\n",
              "      <th>percentile</th>\n",
              "      <td>61.39</td>\n",
              "    </tr>\n",
              "    <tr>\n",
              "      <th>peerGroup</th>\n",
              "      <td>Software &amp; Services</td>\n",
              "    </tr>\n",
              "    <tr>\n",
              "      <th>smallArms</th>\n",
              "      <td>False</td>\n",
              "    </tr>\n",
              "    <tr>\n",
              "      <th>environmentScore</th>\n",
              "      <td>1.43</td>\n",
              "    </tr>\n",
              "    <tr>\n",
              "      <th>governancePercentile</th>\n",
              "      <td>None</td>\n",
              "    </tr>\n",
              "    <tr>\n",
              "      <th>militaryContract</th>\n",
              "      <td>False</td>\n",
              "    </tr>\n",
              "  </tbody>\n",
              "</table>\n",
              "</div>"
            ],
            "text/plain": [
              "                                     Value\n",
              "2020-10                                   \n",
              "palmOil                              False\n",
              "controversialWeapons                 False\n",
              "gambling                             False\n",
              "socialScore                          17.68\n",
              "nuclear                              False\n",
              "furLeather                           False\n",
              "alcoholic                            False\n",
              "gmo                                  False\n",
              "catholic                             False\n",
              "socialPercentile                      None\n",
              "peerCount                              102\n",
              "governanceScore                      12.28\n",
              "environmentPercentile                 None\n",
              "animalTesting                        False\n",
              "tobacco                              False\n",
              "totalEsg                             31.40\n",
              "highestControversy                       4\n",
              "esgPerformance                    OUT_PERF\n",
              "coal                                 False\n",
              "pesticides                           False\n",
              "adult                                False\n",
              "percentile                           61.39\n",
              "peerGroup              Software & Services\n",
              "smallArms                            False\n",
              "environmentScore                      1.43\n",
              "governancePercentile                  None\n",
              "militaryContract                     False"
            ]
          },
          "metadata": {
            "tags": []
          },
          "execution_count": 17
        }
      ]
    },
    {
      "cell_type": "markdown",
      "metadata": {
        "id": "b0v3LqurZ50m"
      },
      "source": [
        "### Analyst Recommendations"
      ]
    },
    {
      "cell_type": "code",
      "metadata": {
        "ExecuteTime": {
          "end_time": "2020-12-30T22:10:20.322318Z",
          "start_time": "2020-12-30T22:10:20.307914Z"
        },
        "id": "QSzRFeQTZ50m",
        "outputId": "564dd67d-5a60-4585-af24-5e0a8db43f6c"
      },
      "source": [
        "ticker.recommendations.info()"
      ],
      "execution_count": null,
      "outputs": [
        {
          "output_type": "stream",
          "text": [
            "<class 'pandas.core.frame.DataFrame'>\n",
            "DatetimeIndex: 511 entries, 2012-06-22 07:56:00 to 2020-10-30 17:14:48\n",
            "Data columns (total 4 columns):\n",
            " #   Column      Non-Null Count  Dtype \n",
            "---  ------      --------------  ----- \n",
            " 0   Firm        511 non-null    object\n",
            " 1   To Grade    511 non-null    object\n",
            " 2   From Grade  511 non-null    object\n",
            " 3   Action      511 non-null    object\n",
            "dtypes: object(4)\n",
            "memory usage: 20.0+ KB\n"
          ],
          "name": "stdout"
        }
      ]
    },
    {
      "cell_type": "code",
      "metadata": {
        "ExecuteTime": {
          "end_time": "2020-12-30T22:10:20.334167Z",
          "start_time": "2020-12-30T22:10:20.323193Z"
        },
        "id": "X6bE4VaSZ50m",
        "outputId": "aa9d8125-2fe5-45be-877a-003663bee839"
      },
      "source": [
        "ticker.recommendations.tail(10)"
      ],
      "execution_count": null,
      "outputs": [
        {
          "output_type": "execute_result",
          "data": {
            "text/html": [
              "<div>\n",
              "<style scoped>\n",
              "    .dataframe tbody tr th:only-of-type {\n",
              "        vertical-align: middle;\n",
              "    }\n",
              "\n",
              "    .dataframe tbody tr th {\n",
              "        vertical-align: top;\n",
              "    }\n",
              "\n",
              "    .dataframe thead th {\n",
              "        text-align: right;\n",
              "    }\n",
              "</style>\n",
              "<table border=\"1\" class=\"dataframe\">\n",
              "  <thead>\n",
              "    <tr style=\"text-align: right;\">\n",
              "      <th></th>\n",
              "      <th>Firm</th>\n",
              "      <th>To Grade</th>\n",
              "      <th>From Grade</th>\n",
              "      <th>Action</th>\n",
              "    </tr>\n",
              "    <tr>\n",
              "      <th>Date</th>\n",
              "      <th></th>\n",
              "      <th></th>\n",
              "      <th></th>\n",
              "      <th></th>\n",
              "    </tr>\n",
              "  </thead>\n",
              "  <tbody>\n",
              "    <tr>\n",
              "      <th>2020-10-20 12:31:45</th>\n",
              "      <td>Credit Suisse</td>\n",
              "      <td>Outperform</td>\n",
              "      <td></td>\n",
              "      <td>main</td>\n",
              "    </tr>\n",
              "    <tr>\n",
              "      <th>2020-10-26 08:50:44</th>\n",
              "      <td>KeyBanc</td>\n",
              "      <td>Overweight</td>\n",
              "      <td></td>\n",
              "      <td>main</td>\n",
              "    </tr>\n",
              "    <tr>\n",
              "      <th>2020-10-28 16:47:21</th>\n",
              "      <td>JP Morgan</td>\n",
              "      <td>Overweight</td>\n",
              "      <td></td>\n",
              "      <td>main</td>\n",
              "    </tr>\n",
              "    <tr>\n",
              "      <th>2020-10-30 11:53:22</th>\n",
              "      <td>Raymond James</td>\n",
              "      <td>Strong Buy</td>\n",
              "      <td></td>\n",
              "      <td>main</td>\n",
              "    </tr>\n",
              "    <tr>\n",
              "      <th>2020-10-30 12:45:43</th>\n",
              "      <td>Credit Suisse</td>\n",
              "      <td>Outperform</td>\n",
              "      <td></td>\n",
              "      <td>main</td>\n",
              "    </tr>\n",
              "    <tr>\n",
              "      <th>2020-10-30 12:50:35</th>\n",
              "      <td>Morgan Stanley</td>\n",
              "      <td>Overweight</td>\n",
              "      <td></td>\n",
              "      <td>main</td>\n",
              "    </tr>\n",
              "    <tr>\n",
              "      <th>2020-10-30 15:15:15</th>\n",
              "      <td>Canaccord Genuity</td>\n",
              "      <td>Buy</td>\n",
              "      <td></td>\n",
              "      <td>main</td>\n",
              "    </tr>\n",
              "    <tr>\n",
              "      <th>2020-10-30 17:03:14</th>\n",
              "      <td>Mizuho</td>\n",
              "      <td>Buy</td>\n",
              "      <td></td>\n",
              "      <td>main</td>\n",
              "    </tr>\n",
              "    <tr>\n",
              "      <th>2020-10-30 17:06:53</th>\n",
              "      <td>Wells Fargo</td>\n",
              "      <td>Overweight</td>\n",
              "      <td></td>\n",
              "      <td>main</td>\n",
              "    </tr>\n",
              "    <tr>\n",
              "      <th>2020-10-30 17:14:48</th>\n",
              "      <td>Truist Securities</td>\n",
              "      <td>Buy</td>\n",
              "      <td></td>\n",
              "      <td>main</td>\n",
              "    </tr>\n",
              "  </tbody>\n",
              "</table>\n",
              "</div>"
            ],
            "text/plain": [
              "                                  Firm    To Grade From Grade Action\n",
              "Date                                                                \n",
              "2020-10-20 12:31:45      Credit Suisse  Outperform              main\n",
              "2020-10-26 08:50:44            KeyBanc  Overweight              main\n",
              "2020-10-28 16:47:21          JP Morgan  Overweight              main\n",
              "2020-10-30 11:53:22      Raymond James  Strong Buy              main\n",
              "2020-10-30 12:45:43      Credit Suisse  Outperform              main\n",
              "2020-10-30 12:50:35     Morgan Stanley  Overweight              main\n",
              "2020-10-30 15:15:15  Canaccord Genuity         Buy              main\n",
              "2020-10-30 17:03:14             Mizuho         Buy              main\n",
              "2020-10-30 17:06:53        Wells Fargo  Overweight              main\n",
              "2020-10-30 17:14:48  Truist Securities         Buy              main"
            ]
          },
          "metadata": {
            "tags": []
          },
          "execution_count": 19
        }
      ]
    },
    {
      "cell_type": "markdown",
      "metadata": {
        "id": "iz_qYYRUZ50n"
      },
      "source": [
        "### Upcoming Events"
      ]
    },
    {
      "cell_type": "code",
      "metadata": {
        "ExecuteTime": {
          "end_time": "2020-12-30T22:10:20.347731Z",
          "start_time": "2020-12-30T22:10:20.334969Z"
        },
        "id": "R8zAghhrZ50n",
        "outputId": "568e587b-c14b-4bbe-99c5-8e4deef0bdc1"
      },
      "source": [
        "ticker.calendar"
      ],
      "execution_count": null,
      "outputs": [
        {
          "output_type": "execute_result",
          "data": {
            "text/html": [
              "<div>\n",
              "<style scoped>\n",
              "    .dataframe tbody tr th:only-of-type {\n",
              "        vertical-align: middle;\n",
              "    }\n",
              "\n",
              "    .dataframe tbody tr th {\n",
              "        vertical-align: top;\n",
              "    }\n",
              "\n",
              "    .dataframe thead th {\n",
              "        text-align: right;\n",
              "    }\n",
              "</style>\n",
              "<table border=\"1\" class=\"dataframe\">\n",
              "  <thead>\n",
              "    <tr style=\"text-align: right;\">\n",
              "      <th></th>\n",
              "      <th>0</th>\n",
              "      <th>1</th>\n",
              "    </tr>\n",
              "  </thead>\n",
              "  <tbody>\n",
              "    <tr>\n",
              "      <th>Earnings Date</th>\n",
              "      <td>2021-01-27 00:00:00</td>\n",
              "      <td>2021-02-01 00:00:00</td>\n",
              "    </tr>\n",
              "    <tr>\n",
              "      <th>Earnings Average</th>\n",
              "      <td>3.19</td>\n",
              "      <td>3.19</td>\n",
              "    </tr>\n",
              "    <tr>\n",
              "      <th>Earnings Low</th>\n",
              "      <td>2.67</td>\n",
              "      <td>2.67</td>\n",
              "    </tr>\n",
              "    <tr>\n",
              "      <th>Earnings High</th>\n",
              "      <td>3.63</td>\n",
              "      <td>3.63</td>\n",
              "    </tr>\n",
              "    <tr>\n",
              "      <th>Revenue Average</th>\n",
              "      <td>26288700000</td>\n",
              "      <td>26288700000</td>\n",
              "    </tr>\n",
              "    <tr>\n",
              "      <th>Revenue Low</th>\n",
              "      <td>25412000000</td>\n",
              "      <td>25412000000</td>\n",
              "    </tr>\n",
              "    <tr>\n",
              "      <th>Revenue High</th>\n",
              "      <td>26993000000</td>\n",
              "      <td>26993000000</td>\n",
              "    </tr>\n",
              "  </tbody>\n",
              "</table>\n",
              "</div>"
            ],
            "text/plain": [
              "                                    0                    1\n",
              "Earnings Date     2021-01-27 00:00:00  2021-02-01 00:00:00\n",
              "Earnings Average                 3.19                 3.19\n",
              "Earnings Low                     2.67                 2.67\n",
              "Earnings High                    3.63                 3.63\n",
              "Revenue Average           26288700000          26288700000\n",
              "Revenue Low               25412000000          25412000000\n",
              "Revenue High              26993000000          26993000000"
            ]
          },
          "metadata": {
            "tags": []
          },
          "execution_count": 20
        }
      ]
    },
    {
      "cell_type": "markdown",
      "metadata": {
        "id": "x0QOGH-KZ50n"
      },
      "source": [
        "### Option Expiration Dates"
      ]
    },
    {
      "cell_type": "code",
      "metadata": {
        "ExecuteTime": {
          "end_time": "2020-12-30T22:10:20.509948Z",
          "start_time": "2020-12-30T22:10:20.348676Z"
        },
        "id": "if-ljkh5Z50n",
        "outputId": "a8e42ab1-3638-48c9-faf7-8e99e75f6693"
      },
      "source": [
        "ticker.options"
      ],
      "execution_count": null,
      "outputs": [
        {
          "output_type": "execute_result",
          "data": {
            "text/plain": [
              "('2020-12-30',\n",
              " '2021-01-07',\n",
              " '2021-01-14',\n",
              " '2021-01-21',\n",
              " '2021-01-28',\n",
              " '2021-02-04',\n",
              " '2021-02-18',\n",
              " '2021-03-18',\n",
              " '2021-06-17',\n",
              " '2021-07-15',\n",
              " '2021-09-16',\n",
              " '2022-01-20',\n",
              " '2022-06-16',\n",
              " '2022-09-15',\n",
              " '2023-01-19',\n",
              " '2026-02-20')"
            ]
          },
          "metadata": {
            "tags": []
          },
          "execution_count": 21
        }
      ]
    },
    {
      "cell_type": "code",
      "metadata": {
        "ExecuteTime": {
          "end_time": "2020-12-30T22:10:20.513149Z",
          "start_time": "2020-12-30T22:10:20.511181Z"
        },
        "id": "gfB6rj_XZ50n"
      },
      "source": [
        "expiration = ticker.options[0]"
      ],
      "execution_count": null,
      "outputs": []
    },
    {
      "cell_type": "code",
      "metadata": {
        "ExecuteTime": {
          "end_time": "2020-12-30T22:10:20.930665Z",
          "start_time": "2020-12-30T22:10:20.514018Z"
        },
        "id": "T-LI5s2HZ50o"
      },
      "source": [
        "options = ticker.option_chain(expiration)"
      ],
      "execution_count": null,
      "outputs": []
    },
    {
      "cell_type": "code",
      "metadata": {
        "ExecuteTime": {
          "end_time": "2020-12-30T22:10:20.954610Z",
          "start_time": "2020-12-30T22:10:20.938467Z"
        },
        "id": "CXBRXuppZ50o",
        "outputId": "74abdc26-2239-420b-9a90-d3cfe7a119b1"
      },
      "source": [
        "options.calls.info()"
      ],
      "execution_count": null,
      "outputs": [
        {
          "output_type": "stream",
          "text": [
            "<class 'pandas.core.frame.DataFrame'>\n",
            "RangeIndex: 45 entries, 0 to 44\n",
            "Data columns (total 14 columns):\n",
            " #   Column             Non-Null Count  Dtype         \n",
            "---  ------             --------------  -----         \n",
            " 0   contractSymbol     45 non-null     object        \n",
            " 1   lastTradeDate      45 non-null     datetime64[ns]\n",
            " 2   strike             45 non-null     float64       \n",
            " 3   lastPrice          45 non-null     float64       \n",
            " 4   bid                45 non-null     float64       \n",
            " 5   ask                45 non-null     float64       \n",
            " 6   change             45 non-null     float64       \n",
            " 7   percentChange      45 non-null     float64       \n",
            " 8   volume             45 non-null     int64         \n",
            " 9   openInterest       45 non-null     int64         \n",
            " 10  impliedVolatility  45 non-null     float64       \n",
            " 11  inTheMoney         45 non-null     bool          \n",
            " 12  contractSize       45 non-null     object        \n",
            " 13  currency           45 non-null     object        \n",
            "dtypes: bool(1), datetime64[ns](1), float64(7), int64(2), object(3)\n",
            "memory usage: 4.7+ KB\n"
          ],
          "name": "stdout"
        }
      ]
    },
    {
      "cell_type": "code",
      "metadata": {
        "ExecuteTime": {
          "end_time": "2020-12-30T22:10:20.974092Z",
          "start_time": "2020-12-30T22:10:20.956269Z"
        },
        "id": "ZGdBJTjyZ50o",
        "outputId": "1ac419f0-c99b-4eff-f2d9-dff0a039a7c2"
      },
      "source": [
        "options.calls.head()"
      ],
      "execution_count": null,
      "outputs": [
        {
          "output_type": "execute_result",
          "data": {
            "text/html": [
              "<div>\n",
              "<style scoped>\n",
              "    .dataframe tbody tr th:only-of-type {\n",
              "        vertical-align: middle;\n",
              "    }\n",
              "\n",
              "    .dataframe tbody tr th {\n",
              "        vertical-align: top;\n",
              "    }\n",
              "\n",
              "    .dataframe thead th {\n",
              "        text-align: right;\n",
              "    }\n",
              "</style>\n",
              "<table border=\"1\" class=\"dataframe\">\n",
              "  <thead>\n",
              "    <tr style=\"text-align: right;\">\n",
              "      <th></th>\n",
              "      <th>contractSymbol</th>\n",
              "      <th>lastTradeDate</th>\n",
              "      <th>strike</th>\n",
              "      <th>lastPrice</th>\n",
              "      <th>bid</th>\n",
              "      <th>ask</th>\n",
              "      <th>change</th>\n",
              "      <th>percentChange</th>\n",
              "      <th>volume</th>\n",
              "      <th>openInterest</th>\n",
              "      <th>impliedVolatility</th>\n",
              "      <th>inTheMoney</th>\n",
              "      <th>contractSize</th>\n",
              "      <th>currency</th>\n",
              "    </tr>\n",
              "  </thead>\n",
              "  <tbody>\n",
              "    <tr>\n",
              "      <th>0</th>\n",
              "      <td>FB201231C00195000</td>\n",
              "      <td>2020-12-30 20:54:40</td>\n",
              "      <td>195.0</td>\n",
              "      <td>77.60</td>\n",
              "      <td>76.35</td>\n",
              "      <td>77.5</td>\n",
              "      <td>-4.200005</td>\n",
              "      <td>-5.134480</td>\n",
              "      <td>1</td>\n",
              "      <td>21</td>\n",
              "      <td>1.773439</td>\n",
              "      <td>True</td>\n",
              "      <td>REGULAR</td>\n",
              "      <td>USD</td>\n",
              "    </tr>\n",
              "    <tr>\n",
              "      <th>1</th>\n",
              "      <td>FB201231C00200000</td>\n",
              "      <td>2020-12-30 20:39:19</td>\n",
              "      <td>200.0</td>\n",
              "      <td>72.50</td>\n",
              "      <td>71.35</td>\n",
              "      <td>72.5</td>\n",
              "      <td>-5.250000</td>\n",
              "      <td>-6.752411</td>\n",
              "      <td>7</td>\n",
              "      <td>33</td>\n",
              "      <td>1.648439</td>\n",
              "      <td>True</td>\n",
              "      <td>REGULAR</td>\n",
              "      <td>USD</td>\n",
              "    </tr>\n",
              "    <tr>\n",
              "      <th>2</th>\n",
              "      <td>FB201231C00205000</td>\n",
              "      <td>2020-12-30 20:22:11</td>\n",
              "      <td>205.0</td>\n",
              "      <td>68.29</td>\n",
              "      <td>66.35</td>\n",
              "      <td>67.5</td>\n",
              "      <td>-4.870003</td>\n",
              "      <td>-6.656647</td>\n",
              "      <td>11</td>\n",
              "      <td>49</td>\n",
              "      <td>1.531252</td>\n",
              "      <td>True</td>\n",
              "      <td>REGULAR</td>\n",
              "      <td>USD</td>\n",
              "    </tr>\n",
              "    <tr>\n",
              "      <th>3</th>\n",
              "      <td>FB201231C00210000</td>\n",
              "      <td>2020-12-29 20:31:41</td>\n",
              "      <td>210.0</td>\n",
              "      <td>68.18</td>\n",
              "      <td>61.35</td>\n",
              "      <td>62.5</td>\n",
              "      <td>0.000000</td>\n",
              "      <td>0.000000</td>\n",
              "      <td>2</td>\n",
              "      <td>43</td>\n",
              "      <td>1.414065</td>\n",
              "      <td>True</td>\n",
              "      <td>REGULAR</td>\n",
              "      <td>USD</td>\n",
              "    </tr>\n",
              "    <tr>\n",
              "      <th>4</th>\n",
              "      <td>FB201231C00215000</td>\n",
              "      <td>2020-12-24 15:29:26</td>\n",
              "      <td>215.0</td>\n",
              "      <td>55.50</td>\n",
              "      <td>56.35</td>\n",
              "      <td>57.5</td>\n",
              "      <td>0.000000</td>\n",
              "      <td>0.000000</td>\n",
              "      <td>3</td>\n",
              "      <td>35</td>\n",
              "      <td>1.296879</td>\n",
              "      <td>True</td>\n",
              "      <td>REGULAR</td>\n",
              "      <td>USD</td>\n",
              "    </tr>\n",
              "  </tbody>\n",
              "</table>\n",
              "</div>"
            ],
            "text/plain": [
              "      contractSymbol       lastTradeDate  strike  lastPrice    bid   ask  \\\n",
              "0  FB201231C00195000 2020-12-30 20:54:40   195.0      77.60  76.35  77.5   \n",
              "1  FB201231C00200000 2020-12-30 20:39:19   200.0      72.50  71.35  72.5   \n",
              "2  FB201231C00205000 2020-12-30 20:22:11   205.0      68.29  66.35  67.5   \n",
              "3  FB201231C00210000 2020-12-29 20:31:41   210.0      68.18  61.35  62.5   \n",
              "4  FB201231C00215000 2020-12-24 15:29:26   215.0      55.50  56.35  57.5   \n",
              "\n",
              "     change  percentChange  volume  openInterest  impliedVolatility  \\\n",
              "0 -4.200005      -5.134480       1            21           1.773439   \n",
              "1 -5.250000      -6.752411       7            33           1.648439   \n",
              "2 -4.870003      -6.656647      11            49           1.531252   \n",
              "3  0.000000       0.000000       2            43           1.414065   \n",
              "4  0.000000       0.000000       3            35           1.296879   \n",
              "\n",
              "   inTheMoney contractSize currency  \n",
              "0        True      REGULAR      USD  \n",
              "1        True      REGULAR      USD  \n",
              "2        True      REGULAR      USD  \n",
              "3        True      REGULAR      USD  \n",
              "4        True      REGULAR      USD  "
            ]
          },
          "metadata": {
            "tags": []
          },
          "execution_count": 25
        }
      ]
    },
    {
      "cell_type": "code",
      "metadata": {
        "ExecuteTime": {
          "end_time": "2020-12-30T22:10:20.990394Z",
          "start_time": "2020-12-30T22:10:20.975343Z"
        },
        "id": "KF6MsTpFZ50o",
        "outputId": "51812f6d-cdba-40fa-9efd-bf9b038859b3"
      },
      "source": [
        "options.puts.info()"
      ],
      "execution_count": null,
      "outputs": [
        {
          "output_type": "stream",
          "text": [
            "<class 'pandas.core.frame.DataFrame'>\n",
            "RangeIndex: 43 entries, 0 to 42\n",
            "Data columns (total 14 columns):\n",
            " #   Column             Non-Null Count  Dtype         \n",
            "---  ------             --------------  -----         \n",
            " 0   contractSymbol     43 non-null     object        \n",
            " 1   lastTradeDate      43 non-null     datetime64[ns]\n",
            " 2   strike             43 non-null     float64       \n",
            " 3   lastPrice          43 non-null     float64       \n",
            " 4   bid                43 non-null     float64       \n",
            " 5   ask                43 non-null     float64       \n",
            " 6   change             43 non-null     float64       \n",
            " 7   percentChange      43 non-null     float64       \n",
            " 8   volume             42 non-null     float64       \n",
            " 9   openInterest       43 non-null     int64         \n",
            " 10  impliedVolatility  43 non-null     float64       \n",
            " 11  inTheMoney         43 non-null     bool          \n",
            " 12  contractSize       43 non-null     object        \n",
            " 13  currency           43 non-null     object        \n",
            "dtypes: bool(1), datetime64[ns](1), float64(8), int64(1), object(3)\n",
            "memory usage: 4.5+ KB\n"
          ],
          "name": "stdout"
        }
      ]
    },
    {
      "cell_type": "markdown",
      "metadata": {
        "id": "rlMVhqzGZ50o"
      },
      "source": [
        "## Data Download with proxy server"
      ]
    },
    {
      "cell_type": "markdown",
      "metadata": {
        "id": "af9oWpCzZ50p"
      },
      "source": [
        "You can use a proxy server to avoid having your IP blacklisted as illustrated below (but need an actual PROXY_SERVER)."
      ]
    },
    {
      "cell_type": "code",
      "metadata": {
        "ExecuteTime": {
          "end_time": "2020-12-30T22:10:20.998688Z",
          "start_time": "2020-12-30T22:10:20.991430Z"
        },
        "id": "TazOlsvKZ50p"
      },
      "source": [
        "PROXY_SERVER = 'PROXY_SERVER'"
      ],
      "execution_count": null,
      "outputs": []
    },
    {
      "cell_type": "markdown",
      "metadata": {
        "id": "rtrby8-WZ50p"
      },
      "source": [
        "The following will only work with proper PROXY_SERVER..."
      ]
    },
    {
      "cell_type": "code",
      "metadata": {
        "ExecuteTime": {
          "end_time": "2020-12-30T22:10:21.007009Z",
          "start_time": "2020-12-30T22:10:20.999596Z"
        },
        "id": "F1TpYqnmZ50p"
      },
      "source": [
        "# msft = yf.Ticker(\"MSFT\")\n",
        "\n",
        "# msft.history(proxy=PROXY_SERVER)\n",
        "# msft.get_actions(proxy=PROXY_SERVER)\n",
        "# msft.get_dividends(proxy=PROXY_SERVER)\n",
        "# msft.get_splits(proxy=PROXY_SERVER)\n",
        "# msft.get_balance_sheet(proxy=PROXY_SERVER)\n",
        "# msft.get_cashflow(proxy=PROXY_SERVER)\n",
        "# msgt.option_chain(proxy=PROXY_SERVER)"
      ],
      "execution_count": null,
      "outputs": []
    },
    {
      "cell_type": "markdown",
      "metadata": {
        "id": "kRoAwc95Z50p"
      },
      "source": [
        "## Downloading multiple symbols"
      ]
    },
    {
      "cell_type": "code",
      "metadata": {
        "ExecuteTime": {
          "end_time": "2020-12-30T22:10:21.023516Z",
          "start_time": "2020-12-30T22:10:21.007945Z"
        },
        "id": "nwuNAHk_Z50p"
      },
      "source": [
        "tickers = yf.Tickers('msft aapl goog')"
      ],
      "execution_count": null,
      "outputs": []
    },
    {
      "cell_type": "code",
      "metadata": {
        "ExecuteTime": {
          "end_time": "2020-12-30T22:10:21.027641Z",
          "start_time": "2020-12-30T22:10:21.024445Z"
        },
        "id": "WgyTiVBrZ50q",
        "outputId": "ba17fffa-617c-449d-be9e-27506af11901"
      },
      "source": [
        "tickers"
      ],
      "execution_count": null,
      "outputs": [
        {
          "output_type": "execute_result",
          "data": {
            "text/plain": [
              "yfinance.Tickers object <MSFT,AAPL,GOOG>"
            ]
          },
          "metadata": {
            "tags": []
          },
          "execution_count": 30
        }
      ]
    },
    {
      "cell_type": "code",
      "metadata": {
        "ExecuteTime": {
          "end_time": "2020-12-30T22:10:22.222298Z",
          "start_time": "2020-12-30T22:10:21.028540Z"
        },
        "id": "4i80lkIvZ50q",
        "outputId": "c79c406d-f71e-47a0-c8aa-b636afdd696e"
      },
      "source": [
        "pd.Series(tickers.tickers.MSFT.info)"
      ],
      "execution_count": null,
      "outputs": [
        {
          "output_type": "execute_result",
          "data": {
            "text/plain": [
              "zip                                                                98052-6399\n",
              "sector                                                             Technology\n",
              "fullTimeEmployees                                                      163000\n",
              "longBusinessSummary         Microsoft Corporation develops, licenses, and ...\n",
              "city                                                                  Redmond\n",
              "                                                  ...                        \n",
              "impliedSharesOutstanding                                                 None\n",
              "category                                                                 None\n",
              "fiveYearAverageReturn                                                    None\n",
              "regularMarketPrice                                                     225.23\n",
              "logo_url                              https://logo.clearbit.com/microsoft.com\n",
              "Length: 123, dtype: object"
            ]
          },
          "metadata": {
            "tags": []
          },
          "execution_count": 31
        }
      ]
    },
    {
      "cell_type": "code",
      "metadata": {
        "ExecuteTime": {
          "end_time": "2020-12-30T22:10:22.609960Z",
          "start_time": "2020-12-30T22:10:22.223131Z"
        },
        "id": "gi3GnrkhZ50q",
        "outputId": "a3a3b6ca-6831-4c3c-e806-6ad16a4ce9c9"
      },
      "source": [
        "tickers.tickers.AAPL.history(period=\"1mo\")"
      ],
      "execution_count": null,
      "outputs": [
        {
          "output_type": "execute_result",
          "data": {
            "text/html": [
              "<div>\n",
              "<style scoped>\n",
              "    .dataframe tbody tr th:only-of-type {\n",
              "        vertical-align: middle;\n",
              "    }\n",
              "\n",
              "    .dataframe tbody tr th {\n",
              "        vertical-align: top;\n",
              "    }\n",
              "\n",
              "    .dataframe thead th {\n",
              "        text-align: right;\n",
              "    }\n",
              "</style>\n",
              "<table border=\"1\" class=\"dataframe\">\n",
              "  <thead>\n",
              "    <tr style=\"text-align: right;\">\n",
              "      <th></th>\n",
              "      <th>Open</th>\n",
              "      <th>High</th>\n",
              "      <th>Low</th>\n",
              "      <th>Close</th>\n",
              "      <th>Volume</th>\n",
              "      <th>Dividends</th>\n",
              "      <th>Stock Splits</th>\n",
              "    </tr>\n",
              "    <tr>\n",
              "      <th>Date</th>\n",
              "      <th></th>\n",
              "      <th></th>\n",
              "      <th></th>\n",
              "      <th></th>\n",
              "      <th></th>\n",
              "      <th></th>\n",
              "      <th></th>\n",
              "    </tr>\n",
              "  </thead>\n",
              "  <tbody>\n",
              "    <tr>\n",
              "      <th>2020-11-30</th>\n",
              "      <td>116.97</td>\n",
              "      <td>120.97</td>\n",
              "      <td>116.81</td>\n",
              "      <td>119.05</td>\n",
              "      <td>169410200</td>\n",
              "      <td>0</td>\n",
              "      <td>0</td>\n",
              "    </tr>\n",
              "    <tr>\n",
              "      <th>2020-12-01</th>\n",
              "      <td>121.01</td>\n",
              "      <td>123.47</td>\n",
              "      <td>120.01</td>\n",
              "      <td>122.72</td>\n",
              "      <td>128166800</td>\n",
              "      <td>0</td>\n",
              "      <td>0</td>\n",
              "    </tr>\n",
              "    <tr>\n",
              "      <th>2020-12-02</th>\n",
              "      <td>122.02</td>\n",
              "      <td>123.37</td>\n",
              "      <td>120.89</td>\n",
              "      <td>123.08</td>\n",
              "      <td>89004200</td>\n",
              "      <td>0</td>\n",
              "      <td>0</td>\n",
              "    </tr>\n",
              "    <tr>\n",
              "      <th>2020-12-03</th>\n",
              "      <td>123.52</td>\n",
              "      <td>123.78</td>\n",
              "      <td>122.21</td>\n",
              "      <td>122.94</td>\n",
              "      <td>78967600</td>\n",
              "      <td>0</td>\n",
              "      <td>0</td>\n",
              "    </tr>\n",
              "    <tr>\n",
              "      <th>2020-12-04</th>\n",
              "      <td>122.60</td>\n",
              "      <td>122.86</td>\n",
              "      <td>121.52</td>\n",
              "      <td>122.25</td>\n",
              "      <td>78260400</td>\n",
              "      <td>0</td>\n",
              "      <td>0</td>\n",
              "    </tr>\n",
              "    <tr>\n",
              "      <th>2020-12-07</th>\n",
              "      <td>122.31</td>\n",
              "      <td>124.57</td>\n",
              "      <td>122.25</td>\n",
              "      <td>123.75</td>\n",
              "      <td>86712000</td>\n",
              "      <td>0</td>\n",
              "      <td>0</td>\n",
              "    </tr>\n",
              "    <tr>\n",
              "      <th>2020-12-08</th>\n",
              "      <td>124.37</td>\n",
              "      <td>124.98</td>\n",
              "      <td>123.09</td>\n",
              "      <td>124.38</td>\n",
              "      <td>82225500</td>\n",
              "      <td>0</td>\n",
              "      <td>0</td>\n",
              "    </tr>\n",
              "    <tr>\n",
              "      <th>2020-12-09</th>\n",
              "      <td>124.53</td>\n",
              "      <td>125.95</td>\n",
              "      <td>121.00</td>\n",
              "      <td>121.78</td>\n",
              "      <td>115089200</td>\n",
              "      <td>0</td>\n",
              "      <td>0</td>\n",
              "    </tr>\n",
              "    <tr>\n",
              "      <th>2020-12-10</th>\n",
              "      <td>120.50</td>\n",
              "      <td>123.87</td>\n",
              "      <td>120.15</td>\n",
              "      <td>123.24</td>\n",
              "      <td>81312200</td>\n",
              "      <td>0</td>\n",
              "      <td>0</td>\n",
              "    </tr>\n",
              "    <tr>\n",
              "      <th>2020-12-11</th>\n",
              "      <td>122.43</td>\n",
              "      <td>122.76</td>\n",
              "      <td>120.55</td>\n",
              "      <td>122.41</td>\n",
              "      <td>86939800</td>\n",
              "      <td>0</td>\n",
              "      <td>0</td>\n",
              "    </tr>\n",
              "    <tr>\n",
              "      <th>2020-12-14</th>\n",
              "      <td>122.60</td>\n",
              "      <td>123.35</td>\n",
              "      <td>121.54</td>\n",
              "      <td>121.78</td>\n",
              "      <td>79184500</td>\n",
              "      <td>0</td>\n",
              "      <td>0</td>\n",
              "    </tr>\n",
              "    <tr>\n",
              "      <th>2020-12-15</th>\n",
              "      <td>124.34</td>\n",
              "      <td>127.90</td>\n",
              "      <td>124.13</td>\n",
              "      <td>127.88</td>\n",
              "      <td>157572300</td>\n",
              "      <td>0</td>\n",
              "      <td>0</td>\n",
              "    </tr>\n",
              "    <tr>\n",
              "      <th>2020-12-16</th>\n",
              "      <td>127.41</td>\n",
              "      <td>128.37</td>\n",
              "      <td>126.56</td>\n",
              "      <td>127.81</td>\n",
              "      <td>98208600</td>\n",
              "      <td>0</td>\n",
              "      <td>0</td>\n",
              "    </tr>\n",
              "    <tr>\n",
              "      <th>2020-12-17</th>\n",
              "      <td>128.90</td>\n",
              "      <td>129.58</td>\n",
              "      <td>128.04</td>\n",
              "      <td>128.70</td>\n",
              "      <td>94359800</td>\n",
              "      <td>0</td>\n",
              "      <td>0</td>\n",
              "    </tr>\n",
              "    <tr>\n",
              "      <th>2020-12-18</th>\n",
              "      <td>128.96</td>\n",
              "      <td>129.10</td>\n",
              "      <td>126.12</td>\n",
              "      <td>126.66</td>\n",
              "      <td>192541500</td>\n",
              "      <td>0</td>\n",
              "      <td>0</td>\n",
              "    </tr>\n",
              "    <tr>\n",
              "      <th>2020-12-21</th>\n",
              "      <td>125.02</td>\n",
              "      <td>128.31</td>\n",
              "      <td>123.45</td>\n",
              "      <td>128.23</td>\n",
              "      <td>121251600</td>\n",
              "      <td>0</td>\n",
              "      <td>0</td>\n",
              "    </tr>\n",
              "    <tr>\n",
              "      <th>2020-12-22</th>\n",
              "      <td>131.61</td>\n",
              "      <td>134.41</td>\n",
              "      <td>129.65</td>\n",
              "      <td>131.88</td>\n",
              "      <td>168904800</td>\n",
              "      <td>0</td>\n",
              "      <td>0</td>\n",
              "    </tr>\n",
              "    <tr>\n",
              "      <th>2020-12-23</th>\n",
              "      <td>132.16</td>\n",
              "      <td>132.43</td>\n",
              "      <td>130.78</td>\n",
              "      <td>130.96</td>\n",
              "      <td>88223700</td>\n",
              "      <td>0</td>\n",
              "      <td>0</td>\n",
              "    </tr>\n",
              "    <tr>\n",
              "      <th>2020-12-24</th>\n",
              "      <td>131.32</td>\n",
              "      <td>133.46</td>\n",
              "      <td>131.10</td>\n",
              "      <td>131.97</td>\n",
              "      <td>54930100</td>\n",
              "      <td>0</td>\n",
              "      <td>0</td>\n",
              "    </tr>\n",
              "    <tr>\n",
              "      <th>2020-12-28</th>\n",
              "      <td>133.99</td>\n",
              "      <td>137.34</td>\n",
              "      <td>133.51</td>\n",
              "      <td>136.69</td>\n",
              "      <td>124486200</td>\n",
              "      <td>0</td>\n",
              "      <td>0</td>\n",
              "    </tr>\n",
              "    <tr>\n",
              "      <th>2020-12-29</th>\n",
              "      <td>138.05</td>\n",
              "      <td>138.79</td>\n",
              "      <td>134.34</td>\n",
              "      <td>134.87</td>\n",
              "      <td>120778200</td>\n",
              "      <td>0</td>\n",
              "      <td>0</td>\n",
              "    </tr>\n",
              "    <tr>\n",
              "      <th>2020-12-30</th>\n",
              "      <td>135.58</td>\n",
              "      <td>135.99</td>\n",
              "      <td>133.40</td>\n",
              "      <td>133.72</td>\n",
              "      <td>92882124</td>\n",
              "      <td>0</td>\n",
              "      <td>0</td>\n",
              "    </tr>\n",
              "  </tbody>\n",
              "</table>\n",
              "</div>"
            ],
            "text/plain": [
              "              Open    High     Low   Close     Volume  Dividends  Stock Splits\n",
              "Date                                                                          \n",
              "2020-11-30  116.97  120.97  116.81  119.05  169410200          0             0\n",
              "2020-12-01  121.01  123.47  120.01  122.72  128166800          0             0\n",
              "2020-12-02  122.02  123.37  120.89  123.08   89004200          0             0\n",
              "2020-12-03  123.52  123.78  122.21  122.94   78967600          0             0\n",
              "2020-12-04  122.60  122.86  121.52  122.25   78260400          0             0\n",
              "2020-12-07  122.31  124.57  122.25  123.75   86712000          0             0\n",
              "2020-12-08  124.37  124.98  123.09  124.38   82225500          0             0\n",
              "2020-12-09  124.53  125.95  121.00  121.78  115089200          0             0\n",
              "2020-12-10  120.50  123.87  120.15  123.24   81312200          0             0\n",
              "2020-12-11  122.43  122.76  120.55  122.41   86939800          0             0\n",
              "2020-12-14  122.60  123.35  121.54  121.78   79184500          0             0\n",
              "2020-12-15  124.34  127.90  124.13  127.88  157572300          0             0\n",
              "2020-12-16  127.41  128.37  126.56  127.81   98208600          0             0\n",
              "2020-12-17  128.90  129.58  128.04  128.70   94359800          0             0\n",
              "2020-12-18  128.96  129.10  126.12  126.66  192541500          0             0\n",
              "2020-12-21  125.02  128.31  123.45  128.23  121251600          0             0\n",
              "2020-12-22  131.61  134.41  129.65  131.88  168904800          0             0\n",
              "2020-12-23  132.16  132.43  130.78  130.96   88223700          0             0\n",
              "2020-12-24  131.32  133.46  131.10  131.97   54930100          0             0\n",
              "2020-12-28  133.99  137.34  133.51  136.69  124486200          0             0\n",
              "2020-12-29  138.05  138.79  134.34  134.87  120778200          0             0\n",
              "2020-12-30  135.58  135.99  133.40  133.72   92882124          0             0"
            ]
          },
          "metadata": {
            "tags": []
          },
          "execution_count": 32
        }
      ]
    },
    {
      "cell_type": "code",
      "metadata": {
        "ExecuteTime": {
          "end_time": "2020-12-30T22:10:23.079278Z",
          "start_time": "2020-12-30T22:10:22.611171Z"
        },
        "id": "whA2QGrkZ50q",
        "outputId": "44ce70b7-8402-49a0-bc55-407325ebdba8"
      },
      "source": [
        "tickers.history(period='1mo').stack(-1)"
      ],
      "execution_count": null,
      "outputs": [
        {
          "output_type": "stream",
          "text": [
            "[*********************100%***********************]  3 of 3 completed\n"
          ],
          "name": "stdout"
        },
        {
          "output_type": "execute_result",
          "data": {
            "text/html": [
              "<div>\n",
              "<style scoped>\n",
              "    .dataframe tbody tr th:only-of-type {\n",
              "        vertical-align: middle;\n",
              "    }\n",
              "\n",
              "    .dataframe tbody tr th {\n",
              "        vertical-align: top;\n",
              "    }\n",
              "\n",
              "    .dataframe thead th {\n",
              "        text-align: right;\n",
              "    }\n",
              "</style>\n",
              "<table border=\"1\" class=\"dataframe\">\n",
              "  <thead>\n",
              "    <tr style=\"text-align: right;\">\n",
              "      <th></th>\n",
              "      <th></th>\n",
              "      <th>Close</th>\n",
              "      <th>Dividends</th>\n",
              "      <th>High</th>\n",
              "      <th>Low</th>\n",
              "      <th>Open</th>\n",
              "      <th>Stock Splits</th>\n",
              "      <th>Volume</th>\n",
              "    </tr>\n",
              "    <tr>\n",
              "      <th>Date</th>\n",
              "      <th></th>\n",
              "      <th></th>\n",
              "      <th></th>\n",
              "      <th></th>\n",
              "      <th></th>\n",
              "      <th></th>\n",
              "      <th></th>\n",
              "      <th></th>\n",
              "    </tr>\n",
              "  </thead>\n",
              "  <tbody>\n",
              "    <tr>\n",
              "      <th rowspan=\"3\" valign=\"top\">2020-11-30</th>\n",
              "      <th>AAPL</th>\n",
              "      <td>119.050003</td>\n",
              "      <td>0</td>\n",
              "      <td>120.970001</td>\n",
              "      <td>116.809998</td>\n",
              "      <td>116.970001</td>\n",
              "      <td>0</td>\n",
              "      <td>169410200</td>\n",
              "    </tr>\n",
              "    <tr>\n",
              "      <th>GOOG</th>\n",
              "      <td>1760.739990</td>\n",
              "      <td>0</td>\n",
              "      <td>1788.064941</td>\n",
              "      <td>1755.000000</td>\n",
              "      <td>1781.183960</td>\n",
              "      <td>0</td>\n",
              "      <td>1823800</td>\n",
              "    </tr>\n",
              "    <tr>\n",
              "      <th>MSFT</th>\n",
              "      <td>214.070007</td>\n",
              "      <td>0</td>\n",
              "      <td>214.759995</td>\n",
              "      <td>210.839996</td>\n",
              "      <td>214.100006</td>\n",
              "      <td>0</td>\n",
              "      <td>33064800</td>\n",
              "    </tr>\n",
              "    <tr>\n",
              "      <th rowspan=\"2\" valign=\"top\">2020-12-01</th>\n",
              "      <th>AAPL</th>\n",
              "      <td>122.720001</td>\n",
              "      <td>0</td>\n",
              "      <td>123.470001</td>\n",
              "      <td>120.010002</td>\n",
              "      <td>121.010002</td>\n",
              "      <td>0</td>\n",
              "      <td>128166800</td>\n",
              "    </tr>\n",
              "    <tr>\n",
              "      <th>GOOG</th>\n",
              "      <td>1798.099976</td>\n",
              "      <td>0</td>\n",
              "      <td>1824.829956</td>\n",
              "      <td>1769.369995</td>\n",
              "      <td>1774.369995</td>\n",
              "      <td>0</td>\n",
              "      <td>1739000</td>\n",
              "    </tr>\n",
              "    <tr>\n",
              "      <th>...</th>\n",
              "      <th>...</th>\n",
              "      <td>...</td>\n",
              "      <td>...</td>\n",
              "      <td>...</td>\n",
              "      <td>...</td>\n",
              "      <td>...</td>\n",
              "      <td>...</td>\n",
              "      <td>...</td>\n",
              "    </tr>\n",
              "    <tr>\n",
              "      <th rowspan=\"2\" valign=\"top\">2020-12-29</th>\n",
              "      <th>GOOG</th>\n",
              "      <td>1758.719971</td>\n",
              "      <td>0</td>\n",
              "      <td>1792.439941</td>\n",
              "      <td>1756.089966</td>\n",
              "      <td>1787.790039</td>\n",
              "      <td>0</td>\n",
              "      <td>1298600</td>\n",
              "    </tr>\n",
              "    <tr>\n",
              "      <th>MSFT</th>\n",
              "      <td>224.149994</td>\n",
              "      <td>0</td>\n",
              "      <td>227.179993</td>\n",
              "      <td>223.580002</td>\n",
              "      <td>226.309998</td>\n",
              "      <td>0</td>\n",
              "      <td>17348000</td>\n",
              "    </tr>\n",
              "    <tr>\n",
              "      <th rowspan=\"3\" valign=\"top\">2020-12-30</th>\n",
              "      <th>AAPL</th>\n",
              "      <td>133.720001</td>\n",
              "      <td>0</td>\n",
              "      <td>135.990005</td>\n",
              "      <td>133.399994</td>\n",
              "      <td>135.580002</td>\n",
              "      <td>0</td>\n",
              "      <td>92882124</td>\n",
              "    </tr>\n",
              "    <tr>\n",
              "      <th>GOOG</th>\n",
              "      <td>1739.520020</td>\n",
              "      <td>0</td>\n",
              "      <td>1765.094971</td>\n",
              "      <td>1725.680054</td>\n",
              "      <td>1762.010010</td>\n",
              "      <td>0</td>\n",
              "      <td>1293285</td>\n",
              "    </tr>\n",
              "    <tr>\n",
              "      <th>MSFT</th>\n",
              "      <td>221.679993</td>\n",
              "      <td>0</td>\n",
              "      <td>225.630005</td>\n",
              "      <td>221.470001</td>\n",
              "      <td>225.229996</td>\n",
              "      <td>0</td>\n",
              "      <td>19273172</td>\n",
              "    </tr>\n",
              "  </tbody>\n",
              "</table>\n",
              "<p>66 rows × 7 columns</p>\n",
              "</div>"
            ],
            "text/plain": [
              "                       Close  Dividends         High          Low  \\\n",
              "Date                                                                \n",
              "2020-11-30 AAPL   119.050003          0   120.970001   116.809998   \n",
              "           GOOG  1760.739990          0  1788.064941  1755.000000   \n",
              "           MSFT   214.070007          0   214.759995   210.839996   \n",
              "2020-12-01 AAPL   122.720001          0   123.470001   120.010002   \n",
              "           GOOG  1798.099976          0  1824.829956  1769.369995   \n",
              "...                      ...        ...          ...          ...   \n",
              "2020-12-29 GOOG  1758.719971          0  1792.439941  1756.089966   \n",
              "           MSFT   224.149994          0   227.179993   223.580002   \n",
              "2020-12-30 AAPL   133.720001          0   135.990005   133.399994   \n",
              "           GOOG  1739.520020          0  1765.094971  1725.680054   \n",
              "           MSFT   221.679993          0   225.630005   221.470001   \n",
              "\n",
              "                        Open  Stock Splits     Volume  \n",
              "Date                                                   \n",
              "2020-11-30 AAPL   116.970001             0  169410200  \n",
              "           GOOG  1781.183960             0    1823800  \n",
              "           MSFT   214.100006             0   33064800  \n",
              "2020-12-01 AAPL   121.010002             0  128166800  \n",
              "           GOOG  1774.369995             0    1739000  \n",
              "...                      ...           ...        ...  \n",
              "2020-12-29 GOOG  1787.790039             0    1298600  \n",
              "           MSFT   226.309998             0   17348000  \n",
              "2020-12-30 AAPL   135.580002             0   92882124  \n",
              "           GOOG  1762.010010             0    1293285  \n",
              "           MSFT   225.229996             0   19273172  \n",
              "\n",
              "[66 rows x 7 columns]"
            ]
          },
          "metadata": {
            "tags": []
          },
          "execution_count": 33
        }
      ]
    },
    {
      "cell_type": "code",
      "metadata": {
        "ExecuteTime": {
          "end_time": "2020-12-30T22:10:23.280307Z",
          "start_time": "2020-12-30T22:10:23.080251Z"
        },
        "id": "3lzIhB36Z50q",
        "outputId": "95c944c4-4ef1-4dc1-9321-56ae88391ab6"
      },
      "source": [
        "data = yf.download(\"SPY AAPL\", start=\"2020-01-01\", end=\"2020-01-05\")"
      ],
      "execution_count": null,
      "outputs": [
        {
          "output_type": "stream",
          "text": [
            "[*********************100%***********************]  2 of 2 completed\n"
          ],
          "name": "stdout"
        }
      ]
    },
    {
      "cell_type": "code",
      "metadata": {
        "ExecuteTime": {
          "end_time": "2020-12-30T22:10:23.290789Z",
          "start_time": "2020-12-30T22:10:23.281500Z"
        },
        "id": "yOU1fNMoZ50r",
        "outputId": "e46190d2-c70f-48dd-af08-77dc16ffd086"
      },
      "source": [
        "data.info()"
      ],
      "execution_count": null,
      "outputs": [
        {
          "output_type": "stream",
          "text": [
            "<class 'pandas.core.frame.DataFrame'>\n",
            "DatetimeIndex: 2 entries, 2020-01-02 to 2020-01-03\n",
            "Data columns (total 12 columns):\n",
            " #   Column             Non-Null Count  Dtype  \n",
            "---  ------             --------------  -----  \n",
            " 0   (Adj Close, AAPL)  2 non-null      float64\n",
            " 1   (Adj Close, SPY)   2 non-null      float64\n",
            " 2   (Close, AAPL)      2 non-null      float64\n",
            " 3   (Close, SPY)       2 non-null      float64\n",
            " 4   (High, AAPL)       2 non-null      float64\n",
            " 5   (High, SPY)        2 non-null      float64\n",
            " 6   (Low, AAPL)        2 non-null      float64\n",
            " 7   (Low, SPY)         2 non-null      float64\n",
            " 8   (Open, AAPL)       2 non-null      float64\n",
            " 9   (Open, SPY)        2 non-null      float64\n",
            " 10  (Volume, AAPL)     2 non-null      int64  \n",
            " 11  (Volume, SPY)      2 non-null      int64  \n",
            "dtypes: float64(10), int64(2)\n",
            "memory usage: 208.0 bytes\n"
          ],
          "name": "stdout"
        }
      ]
    },
    {
      "cell_type": "code",
      "metadata": {
        "ExecuteTime": {
          "end_time": "2020-12-30T22:10:23.890433Z",
          "start_time": "2020-12-30T22:10:23.292190Z"
        },
        "id": "jK4ffu9AZ50r",
        "outputId": "db79e532-180f-4e4b-a842-a410ea9dd66a"
      },
      "source": [
        "data = yf.download(\n",
        "        tickers = \"SPY AAPL MSFT\", # list or string\n",
        "\n",
        "        # use \"period\" instead of start/end\n",
        "        # valid periods: 1d,5d,1mo,3mo,6mo,1y,2y,5y,10y,ytd,max\n",
        "        # (optional, default is '1mo')\n",
        "        period = \"5d\",\n",
        "\n",
        "        # fetch data by interval (including intraday if period < 60 days)\n",
        "        # valid intervals: 1m,2m,5m,15m,30m,60m,90m,1h,1d,5d,1wk,1mo,3mo\n",
        "        # (optional, default is '1d')\n",
        "        interval = \"1m\",\n",
        "\n",
        "        # group by ticker (to access via data['SPY'])\n",
        "        # (optional, default is 'column')\n",
        "        group_by = 'ticker',\n",
        "\n",
        "        # adjust all OHLC automatically\n",
        "        # (optional, default is False)\n",
        "        auto_adjust = True,\n",
        "\n",
        "        # download pre/post regular market hours data\n",
        "        # (optional, default is False)\n",
        "        prepost = True,\n",
        "\n",
        "        # use threads for mass downloading? (True/False/Integer)\n",
        "        # (optional, default is True)\n",
        "        threads = True,\n",
        "\n",
        "        # proxy URL scheme use use when downloading?\n",
        "        # (optional, default is None)\n",
        "        proxy = None\n",
        "    )"
      ],
      "execution_count": null,
      "outputs": [
        {
          "output_type": "stream",
          "text": [
            "[*********************100%***********************]  3 of 3 completed\n"
          ],
          "name": "stdout"
        }
      ]
    },
    {
      "cell_type": "code",
      "metadata": {
        "ExecuteTime": {
          "end_time": "2020-12-30T22:10:23.905366Z",
          "start_time": "2020-12-30T22:10:23.891377Z"
        },
        "id": "I6Hfp2JoZ50r",
        "outputId": "89715f75-cea5-46f2-ea27-e20383cd2010"
      },
      "source": [
        "data.info()"
      ],
      "execution_count": null,
      "outputs": [
        {
          "output_type": "stream",
          "text": [
            "<class 'pandas.core.frame.DataFrame'>\n",
            "DatetimeIndex: 4045 entries, 2020-12-23 04:15:00-05:00 to 2020-12-30 17:10:00-05:00\n",
            "Data columns (total 15 columns):\n",
            " #   Column          Non-Null Count  Dtype  \n",
            "---  ------          --------------  -----  \n",
            " 0   (MSFT, Open)    2500 non-null   float64\n",
            " 1   (MSFT, High)    2500 non-null   float64\n",
            " 2   (MSFT, Low)     2500 non-null   float64\n",
            " 3   (MSFT, Close)   2500 non-null   float64\n",
            " 4   (MSFT, Volume)  2500 non-null   float64\n",
            " 5   (AAPL, Open)    3843 non-null   float64\n",
            " 6   (AAPL, High)    3843 non-null   float64\n",
            " 7   (AAPL, Low)     3843 non-null   float64\n",
            " 8   (AAPL, Close)   3843 non-null   float64\n",
            " 9   (AAPL, Volume)  3843 non-null   float64\n",
            " 10  (SPY, Open)     3358 non-null   float64\n",
            " 11  (SPY, High)     3358 non-null   float64\n",
            " 12  (SPY, Low)      3358 non-null   float64\n",
            " 13  (SPY, Close)    3358 non-null   float64\n",
            " 14  (SPY, Volume)   3358 non-null   float64\n",
            "dtypes: float64(15)\n",
            "memory usage: 505.6 KB\n"
          ],
          "name": "stdout"
        }
      ]
    },
    {
      "cell_type": "code",
      "metadata": {
        "ExecuteTime": {
          "end_time": "2020-12-30T22:10:24.352264Z",
          "start_time": "2020-12-30T22:10:23.906522Z"
        },
        "id": "kk1x7vrOZ50s",
        "outputId": "a48cc39c-5220-4e12-878b-62f4bdd8a1ad"
      },
      "source": [
        "from pandas_datareader import data as pdr\n",
        "\n",
        "import yfinance as yf\n",
        "yf.pdr_override()\n",
        "\n",
        "# download dataframe\n",
        "data = pdr.get_data_yahoo('SPY',\n",
        "                          start='2017-01-01',\n",
        "                          end='2019-04-30',\n",
        "                          auto_adjust=False)"
      ],
      "execution_count": null,
      "outputs": [
        {
          "output_type": "stream",
          "text": [
            "[*********************100%***********************]  1 of 1 completed\n"
          ],
          "name": "stdout"
        }
      ]
    },
    {
      "cell_type": "code",
      "metadata": {
        "ExecuteTime": {
          "end_time": "2020-12-30T22:10:24.362899Z",
          "start_time": "2020-12-30T22:10:24.354134Z"
        },
        "id": "D68uEPsfZ50s",
        "outputId": "9627aede-9e53-4943-a7bb-071f4b06d62c"
      },
      "source": [
        "# auto_adjust = True\n",
        "data.tail()"
      ],
      "execution_count": null,
      "outputs": [
        {
          "output_type": "execute_result",
          "data": {
            "text/html": [
              "<div>\n",
              "<style scoped>\n",
              "    .dataframe tbody tr th:only-of-type {\n",
              "        vertical-align: middle;\n",
              "    }\n",
              "\n",
              "    .dataframe tbody tr th {\n",
              "        vertical-align: top;\n",
              "    }\n",
              "\n",
              "    .dataframe thead th {\n",
              "        text-align: right;\n",
              "    }\n",
              "</style>\n",
              "<table border=\"1\" class=\"dataframe\">\n",
              "  <thead>\n",
              "    <tr style=\"text-align: right;\">\n",
              "      <th></th>\n",
              "      <th>Open</th>\n",
              "      <th>High</th>\n",
              "      <th>Low</th>\n",
              "      <th>Close</th>\n",
              "      <th>Adj Close</th>\n",
              "      <th>Volume</th>\n",
              "    </tr>\n",
              "    <tr>\n",
              "      <th>Date</th>\n",
              "      <th></th>\n",
              "      <th></th>\n",
              "      <th></th>\n",
              "      <th></th>\n",
              "      <th></th>\n",
              "      <th></th>\n",
              "    </tr>\n",
              "  </thead>\n",
              "  <tbody>\n",
              "    <tr>\n",
              "      <th>2019-04-23</th>\n",
              "      <td>290.679993</td>\n",
              "      <td>293.140015</td>\n",
              "      <td>290.420013</td>\n",
              "      <td>292.880005</td>\n",
              "      <td>283.410553</td>\n",
              "      <td>52246600</td>\n",
              "    </tr>\n",
              "    <tr>\n",
              "      <th>2019-04-24</th>\n",
              "      <td>292.790009</td>\n",
              "      <td>293.160004</td>\n",
              "      <td>292.070007</td>\n",
              "      <td>292.230011</td>\n",
              "      <td>282.781616</td>\n",
              "      <td>50392900</td>\n",
              "    </tr>\n",
              "    <tr>\n",
              "      <th>2019-04-25</th>\n",
              "      <td>292.119995</td>\n",
              "      <td>292.779999</td>\n",
              "      <td>290.730011</td>\n",
              "      <td>292.049988</td>\n",
              "      <td>282.607452</td>\n",
              "      <td>57770900</td>\n",
              "    </tr>\n",
              "    <tr>\n",
              "      <th>2019-04-26</th>\n",
              "      <td>292.100006</td>\n",
              "      <td>293.489990</td>\n",
              "      <td>291.239990</td>\n",
              "      <td>293.410004</td>\n",
              "      <td>283.923462</td>\n",
              "      <td>50916400</td>\n",
              "    </tr>\n",
              "    <tr>\n",
              "      <th>2019-04-29</th>\n",
              "      <td>293.510010</td>\n",
              "      <td>294.450012</td>\n",
              "      <td>293.410004</td>\n",
              "      <td>293.869995</td>\n",
              "      <td>284.368561</td>\n",
              "      <td>57197700</td>\n",
              "    </tr>\n",
              "  </tbody>\n",
              "</table>\n",
              "</div>"
            ],
            "text/plain": [
              "                  Open        High         Low       Close   Adj Close  \\\n",
              "Date                                                                     \n",
              "2019-04-23  290.679993  293.140015  290.420013  292.880005  283.410553   \n",
              "2019-04-24  292.790009  293.160004  292.070007  292.230011  282.781616   \n",
              "2019-04-25  292.119995  292.779999  290.730011  292.049988  282.607452   \n",
              "2019-04-26  292.100006  293.489990  291.239990  293.410004  283.923462   \n",
              "2019-04-29  293.510010  294.450012  293.410004  293.869995  284.368561   \n",
              "\n",
              "              Volume  \n",
              "Date                  \n",
              "2019-04-23  52246600  \n",
              "2019-04-24  50392900  \n",
              "2019-04-25  57770900  \n",
              "2019-04-26  50916400  \n",
              "2019-04-29  57197700  "
            ]
          },
          "metadata": {
            "tags": []
          },
          "execution_count": 39
        }
      ]
    },
    {
      "cell_type": "code",
      "metadata": {
        "ExecuteTime": {
          "end_time": "2020-12-30T22:10:24.380357Z",
          "start_time": "2020-12-30T22:10:24.364065Z"
        },
        "id": "Q--D5TmKZ50s",
        "outputId": "b63990ea-9caf-495c-e9f6-ea22c63138c2"
      },
      "source": [
        "# auto_adjust = False\n",
        "data.tail()"
      ],
      "execution_count": null,
      "outputs": [
        {
          "output_type": "execute_result",
          "data": {
            "text/html": [
              "<div>\n",
              "<style scoped>\n",
              "    .dataframe tbody tr th:only-of-type {\n",
              "        vertical-align: middle;\n",
              "    }\n",
              "\n",
              "    .dataframe tbody tr th {\n",
              "        vertical-align: top;\n",
              "    }\n",
              "\n",
              "    .dataframe thead th {\n",
              "        text-align: right;\n",
              "    }\n",
              "</style>\n",
              "<table border=\"1\" class=\"dataframe\">\n",
              "  <thead>\n",
              "    <tr style=\"text-align: right;\">\n",
              "      <th></th>\n",
              "      <th>Open</th>\n",
              "      <th>High</th>\n",
              "      <th>Low</th>\n",
              "      <th>Close</th>\n",
              "      <th>Adj Close</th>\n",
              "      <th>Volume</th>\n",
              "    </tr>\n",
              "    <tr>\n",
              "      <th>Date</th>\n",
              "      <th></th>\n",
              "      <th></th>\n",
              "      <th></th>\n",
              "      <th></th>\n",
              "      <th></th>\n",
              "      <th></th>\n",
              "    </tr>\n",
              "  </thead>\n",
              "  <tbody>\n",
              "    <tr>\n",
              "      <th>2019-04-23</th>\n",
              "      <td>290.679993</td>\n",
              "      <td>293.140015</td>\n",
              "      <td>290.420013</td>\n",
              "      <td>292.880005</td>\n",
              "      <td>283.410553</td>\n",
              "      <td>52246600</td>\n",
              "    </tr>\n",
              "    <tr>\n",
              "      <th>2019-04-24</th>\n",
              "      <td>292.790009</td>\n",
              "      <td>293.160004</td>\n",
              "      <td>292.070007</td>\n",
              "      <td>292.230011</td>\n",
              "      <td>282.781616</td>\n",
              "      <td>50392900</td>\n",
              "    </tr>\n",
              "    <tr>\n",
              "      <th>2019-04-25</th>\n",
              "      <td>292.119995</td>\n",
              "      <td>292.779999</td>\n",
              "      <td>290.730011</td>\n",
              "      <td>292.049988</td>\n",
              "      <td>282.607452</td>\n",
              "      <td>57770900</td>\n",
              "    </tr>\n",
              "    <tr>\n",
              "      <th>2019-04-26</th>\n",
              "      <td>292.100006</td>\n",
              "      <td>293.489990</td>\n",
              "      <td>291.239990</td>\n",
              "      <td>293.410004</td>\n",
              "      <td>283.923462</td>\n",
              "      <td>50916400</td>\n",
              "    </tr>\n",
              "    <tr>\n",
              "      <th>2019-04-29</th>\n",
              "      <td>293.510010</td>\n",
              "      <td>294.450012</td>\n",
              "      <td>293.410004</td>\n",
              "      <td>293.869995</td>\n",
              "      <td>284.368561</td>\n",
              "      <td>57197700</td>\n",
              "    </tr>\n",
              "  </tbody>\n",
              "</table>\n",
              "</div>"
            ],
            "text/plain": [
              "                  Open        High         Low       Close   Adj Close  \\\n",
              "Date                                                                     \n",
              "2019-04-23  290.679993  293.140015  290.420013  292.880005  283.410553   \n",
              "2019-04-24  292.790009  293.160004  292.070007  292.230011  282.781616   \n",
              "2019-04-25  292.119995  292.779999  290.730011  292.049988  282.607452   \n",
              "2019-04-26  292.100006  293.489990  291.239990  293.410004  283.923462   \n",
              "2019-04-29  293.510010  294.450012  293.410004  293.869995  284.368561   \n",
              "\n",
              "              Volume  \n",
              "Date                  \n",
              "2019-04-23  52246600  \n",
              "2019-04-24  50392900  \n",
              "2019-04-25  57770900  \n",
              "2019-04-26  50916400  \n",
              "2019-04-29  57197700  "
            ]
          },
          "metadata": {
            "tags": []
          },
          "execution_count": 40
        }
      ]
    },
    {
      "cell_type": "code",
      "metadata": {
        "id": "jVbtF_S3Z50s"
      },
      "source": [
        ""
      ],
      "execution_count": null,
      "outputs": []
    }
  ]
}