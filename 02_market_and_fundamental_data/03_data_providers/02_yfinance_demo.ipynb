{
  "nbformat": 4,
  "nbformat_minor": 0,
  "metadata": {
    "kernelspec": {
      "display_name": "Python 3",
      "language": "python",
      "name": "python3"
    },
    "language_info": {
      "codemirror_mode": {
        "name": "ipython",
        "version": 3
      },
      "file_extension": ".py",
      "mimetype": "text/x-python",
      "name": "python",
      "nbconvert_exporter": "python",
      "pygments_lexer": "ipython3",
      "version": "3.8.6"
    },
    "toc": {
      "base_numbering": 1,
      "nav_menu": {},
      "number_sections": true,
      "sideBar": true,
      "skip_h1_title": true,
      "title_cell": "Table of Contents",
      "title_sidebar": "Contents",
      "toc_cell": false,
      "toc_position": {},
      "toc_section_display": true,
      "toc_window_display": true
    },
    "colab": {
      "name": "02_yfinance_demo.ipynb",
      "provenance": [],
      "include_colab_link": true
    }
  },
  "cells": [
    {
      "cell_type": "markdown",
      "metadata": {
        "id": "view-in-github",
        "colab_type": "text"
      },
      "source": [
        "<a href=\"https://colab.research.google.com/github/tleitch/Machine-Learning-for-Algorithmic-Trading-Second-Edition/blob/master/02_market_and_fundamental_data/03_data_providers/02_yfinance_demo.ipynb\" target=\"_parent\"><img src=\"https://colab.research.google.com/assets/colab-badge.svg\" alt=\"Open In Colab\"/></a>"
      ]
    },
    {
      "cell_type": "markdown",
      "metadata": {
        "id": "JgyzzbFcZ50c"
      },
      "source": [
        "# Downloading Market and Fundamental Data with `yfinance`"
      ]
    },
    {
      "cell_type": "markdown",
      "metadata": {
        "id": "6MlVWk5fZ50e"
      },
      "source": [
        "## Imports & Settings"
      ]
    },
    {
      "cell_type": "code",
      "metadata": {
        "ExecuteTime": {
          "end_time": "2020-12-30T22:10:17.912280Z",
          "start_time": "2020-12-30T22:10:17.910159Z"
        },
        "id": "LsOFfoTWZ50e"
      },
      "source": [
        "import warnings\n",
        "warnings.filterwarnings('ignore')"
      ],
      "execution_count": 1,
      "outputs": []
    },
    {
      "cell_type": "code",
      "metadata": {
        "ExecuteTime": {
          "end_time": "2020-12-30T22:10:18.106348Z",
          "start_time": "2020-12-30T22:10:17.915000Z"
        },
        "id": "iT7HeVooZ50f",
        "outputId": "549e5949-ffcf-4afd-e841-8a121330bc10",
        "colab": {
          "base_uri": "https://localhost:8080/"
        }
      },
      "source": [
        "!pip install yfinance\n",
        "import pandas as pd\n",
        "import yfinance as yf"
      ],
      "execution_count": 3,
      "outputs": [
        {
          "output_type": "stream",
          "text": [
            "Collecting yfinance\n",
            "  Downloading https://files.pythonhosted.org/packages/a7/ee/315752b9ef281ba83c62aa7ec2e2074f85223da6e7e74efb4d3e11c0f510/yfinance-0.1.59.tar.gz\n",
            "Requirement already satisfied: pandas>=0.24 in /usr/local/lib/python3.7/dist-packages (from yfinance) (1.1.5)\n",
            "Requirement already satisfied: numpy>=1.15 in /usr/local/lib/python3.7/dist-packages (from yfinance) (1.19.5)\n",
            "Requirement already satisfied: requests>=2.20 in /usr/local/lib/python3.7/dist-packages (from yfinance) (2.23.0)\n",
            "Requirement already satisfied: multitasking>=0.0.7 in /usr/local/lib/python3.7/dist-packages (from yfinance) (0.0.9)\n",
            "Collecting lxml>=4.5.1\n",
            "\u001b[?25l  Downloading https://files.pythonhosted.org/packages/30/c0/d0526314971fc661b083ab135747dc68446a3022686da8c16d25fcf6ef07/lxml-4.6.3-cp37-cp37m-manylinux2014_x86_64.whl (6.3MB)\n",
            "\u001b[K     |████████████████████████████████| 6.3MB 8.0MB/s \n",
            "\u001b[?25hRequirement already satisfied: pytz>=2017.2 in /usr/local/lib/python3.7/dist-packages (from pandas>=0.24->yfinance) (2018.9)\n",
            "Requirement already satisfied: python-dateutil>=2.7.3 in /usr/local/lib/python3.7/dist-packages (from pandas>=0.24->yfinance) (2.8.1)\n",
            "Requirement already satisfied: urllib3!=1.25.0,!=1.25.1,<1.26,>=1.21.1 in /usr/local/lib/python3.7/dist-packages (from requests>=2.20->yfinance) (1.24.3)\n",
            "Requirement already satisfied: idna<3,>=2.5 in /usr/local/lib/python3.7/dist-packages (from requests>=2.20->yfinance) (2.10)\n",
            "Requirement already satisfied: chardet<4,>=3.0.2 in /usr/local/lib/python3.7/dist-packages (from requests>=2.20->yfinance) (3.0.4)\n",
            "Requirement already satisfied: certifi>=2017.4.17 in /usr/local/lib/python3.7/dist-packages (from requests>=2.20->yfinance) (2020.12.5)\n",
            "Requirement already satisfied: six>=1.5 in /usr/local/lib/python3.7/dist-packages (from python-dateutil>=2.7.3->pandas>=0.24->yfinance) (1.15.0)\n",
            "Building wheels for collected packages: yfinance\n",
            "  Building wheel for yfinance (setup.py) ... \u001b[?25l\u001b[?25hdone\n",
            "  Created wheel for yfinance: filename=yfinance-0.1.59-py2.py3-none-any.whl size=23442 sha256=f8edc87eacecef4980a43abd9b192ef41a82c2f0cea1083dba1466b0c9dbcf7e\n",
            "  Stored in directory: /root/.cache/pip/wheels/f8/2a/0f/4b5a86e1d52e451757eb6bc17fd899629f0925c777741b6d04\n",
            "Successfully built yfinance\n",
            "Installing collected packages: lxml, yfinance\n",
            "  Found existing installation: lxml 4.2.6\n",
            "    Uninstalling lxml-4.2.6:\n",
            "      Successfully uninstalled lxml-4.2.6\n",
            "Successfully installed lxml-4.6.3 yfinance-0.1.59\n"
          ],
          "name": "stdout"
        }
      ]
    },
    {
      "cell_type": "markdown",
      "metadata": {
        "id": "6zItjVEbZ50f"
      },
      "source": [
        "## How to work with a Ticker object"
      ]
    },
    {
      "cell_type": "code",
      "metadata": {
        "ExecuteTime": {
          "end_time": "2020-12-30T22:10:18.113266Z",
          "start_time": "2020-12-30T22:10:18.107256Z"
        },
        "id": "-xGaqjXyZ50g"
      },
      "source": [
        "symbol = 'FB'\n",
        "ticker = yf.Ticker(symbol)"
      ],
      "execution_count": 4,
      "outputs": []
    },
    {
      "cell_type": "markdown",
      "metadata": {
        "id": "T38iTV5uZ50g"
      },
      "source": [
        "### Show ticker info"
      ]
    },
    {
      "cell_type": "code",
      "metadata": {
        "ExecuteTime": {
          "end_time": "2020-12-30T22:10:19.850491Z",
          "start_time": "2020-12-30T22:10:18.114284Z"
        },
        "id": "IJtK2ijvZ50g",
        "outputId": "ea43076e-2113-47d3-b7f6-b4901e03b223",
        "colab": {
          "base_uri": "https://localhost:8080/"
        }
      },
      "source": [
        "pd.Series(ticker.info).head(20)"
      ],
      "execution_count": 5,
      "outputs": [
        {
          "output_type": "execute_result",
          "data": {
            "text/plain": [
              "zip                                                                        94025\n",
              "sector                                                    Communication Services\n",
              "fullTimeEmployees                                                          60654\n",
              "longBusinessSummary            Facebook, Inc. develops products that enable p...\n",
              "city                                                                  Menlo Park\n",
              "phone                                                               650-543-4800\n",
              "state                                                                         CA\n",
              "country                                                            United States\n",
              "companyOfficers                                                               []\n",
              "website                                                   http://investor.fb.com\n",
              "maxAge                                                                         1\n",
              "address1                                                        1601 Willow Road\n",
              "industry                                          Internet Content & Information\n",
              "previousClose                                                             332.75\n",
              "regularMarketOpen                                                            331\n",
              "twoHundredDayAverage                                                     283.994\n",
              "trailingAnnualDividendYield                                                 None\n",
              "payoutRatio                                                                    0\n",
              "volume24Hr                                                                  None\n",
              "regularMarketDayHigh                                                     332.868\n",
              "dtype: object"
            ]
          },
          "metadata": {
            "tags": []
          },
          "execution_count": 5
        }
      ]
    },
    {
      "cell_type": "markdown",
      "metadata": {
        "id": "i6KfewoeZ50h"
      },
      "source": [
        "### Get market data"
      ]
    },
    {
      "cell_type": "code",
      "metadata": {
        "ExecuteTime": {
          "end_time": "2020-12-30T22:10:20.144321Z",
          "start_time": "2020-12-30T22:10:19.854215Z"
        },
        "id": "owTWrsP6Z50i",
        "outputId": "cb01e0ee-77f5-4e63-a91d-c9abcbef0cf3",
        "colab": {
          "base_uri": "https://localhost:8080/"
        }
      },
      "source": [
        "data = ticker.history(period='5d',\n",
        "                      interval='1m',\n",
        "                      start=None,\n",
        "                      end=None,\n",
        "                      actions=True,\n",
        "                      auto_adjust=True,\n",
        "                      back_adjust=False)\n",
        "data.info()"
      ],
      "execution_count": 7,
      "outputs": [
        {
          "output_type": "stream",
          "text": [
            "<class 'pandas.core.frame.DataFrame'>\n",
            "DatetimeIndex: 1949 entries, 2021-05-24 09:30:00-04:00 to 2021-05-28 15:59:00-04:00\n",
            "Data columns (total 7 columns):\n",
            " #   Column        Non-Null Count  Dtype  \n",
            "---  ------        --------------  -----  \n",
            " 0   Open          1949 non-null   float64\n",
            " 1   High          1949 non-null   float64\n",
            " 2   Low           1949 non-null   float64\n",
            " 3   Close         1949 non-null   float64\n",
            " 4   Volume        1949 non-null   int64  \n",
            " 5   Dividends     1949 non-null   int64  \n",
            " 6   Stock Splits  1949 non-null   int64  \n",
            "dtypes: float64(4), int64(3)\n",
            "memory usage: 121.8 KB\n"
          ],
          "name": "stdout"
        }
      ]
    },
    {
      "cell_type": "markdown",
      "metadata": {
        "id": "pBPKOg5NZ50i"
      },
      "source": [
        "### View company actions"
      ]
    },
    {
      "cell_type": "code",
      "metadata": {
        "ExecuteTime": {
          "end_time": "2020-12-30T22:10:20.151969Z",
          "start_time": "2020-12-30T22:10:20.145305Z"
        },
        "id": "f2KSXVCmZ50i",
        "outputId": "ab99883e-a4fd-4324-9f5b-cc448b7f7244",
        "colab": {
          "base_uri": "https://localhost:8080/",
          "height": 77
        }
      },
      "source": [
        "# show actions (dividends, splits)\n",
        "ticker.actions"
      ],
      "execution_count": 8,
      "outputs": [
        {
          "output_type": "execute_result",
          "data": {
            "text/html": [
              "<div>\n",
              "<style scoped>\n",
              "    .dataframe tbody tr th:only-of-type {\n",
              "        vertical-align: middle;\n",
              "    }\n",
              "\n",
              "    .dataframe tbody tr th {\n",
              "        vertical-align: top;\n",
              "    }\n",
              "\n",
              "    .dataframe thead th {\n",
              "        text-align: right;\n",
              "    }\n",
              "</style>\n",
              "<table border=\"1\" class=\"dataframe\">\n",
              "  <thead>\n",
              "    <tr style=\"text-align: right;\">\n",
              "      <th></th>\n",
              "      <th>Dividends</th>\n",
              "      <th>Stock Splits</th>\n",
              "    </tr>\n",
              "    <tr>\n",
              "      <th>Datetime</th>\n",
              "      <th></th>\n",
              "      <th></th>\n",
              "    </tr>\n",
              "  </thead>\n",
              "  <tbody>\n",
              "  </tbody>\n",
              "</table>\n",
              "</div>"
            ],
            "text/plain": [
              "Empty DataFrame\n",
              "Columns: [Dividends, Stock Splits]\n",
              "Index: []"
            ]
          },
          "metadata": {
            "tags": []
          },
          "execution_count": 8
        }
      ]
    },
    {
      "cell_type": "code",
      "metadata": {
        "ExecuteTime": {
          "end_time": "2020-12-30T22:10:20.162584Z",
          "start_time": "2020-12-30T22:10:20.152852Z"
        },
        "id": "v46jbPvsZ50i",
        "outputId": "51810588-3354-47d3-9bfd-2ee6500e623f",
        "colab": {
          "base_uri": "https://localhost:8080/"
        }
      },
      "source": [
        "ticker.dividends"
      ],
      "execution_count": 9,
      "outputs": [
        {
          "output_type": "execute_result",
          "data": {
            "text/plain": [
              "Series([], Name: Dividends, dtype: int64)"
            ]
          },
          "metadata": {
            "tags": []
          },
          "execution_count": 9
        }
      ]
    },
    {
      "cell_type": "code",
      "metadata": {
        "ExecuteTime": {
          "end_time": "2020-12-30T22:10:20.173848Z",
          "start_time": "2020-12-30T22:10:20.163395Z"
        },
        "id": "43k1wMuCZ50j",
        "outputId": "fe4bca54-8311-4a61-f9fe-aedf71168285",
        "colab": {
          "base_uri": "https://localhost:8080/"
        }
      },
      "source": [
        "ticker.splits"
      ],
      "execution_count": 10,
      "outputs": [
        {
          "output_type": "execute_result",
          "data": {
            "text/plain": [
              "Series([], Name: Stock Splits, dtype: int64)"
            ]
          },
          "metadata": {
            "tags": []
          },
          "execution_count": 10
        }
      ]
    },
    {
      "cell_type": "markdown",
      "metadata": {
        "id": "YGE9hLKWZ50j"
      },
      "source": [
        "### Annual and Quarterly Financial Statement Summary"
      ]
    },
    {
      "cell_type": "code",
      "metadata": {
        "ExecuteTime": {
          "end_time": "2020-12-30T22:10:20.184437Z",
          "start_time": "2020-12-30T22:10:20.176409Z"
        },
        "id": "uctbEV4DZ50j",
        "outputId": "fdcca558-96e9-4573-b4b6-206012b93a63",
        "colab": {
          "base_uri": "https://localhost:8080/",
          "height": 698
        }
      },
      "source": [
        "ticker.financials"
      ],
      "execution_count": 11,
      "outputs": [
        {
          "output_type": "execute_result",
          "data": {
            "text/html": [
              "<div>\n",
              "<style scoped>\n",
              "    .dataframe tbody tr th:only-of-type {\n",
              "        vertical-align: middle;\n",
              "    }\n",
              "\n",
              "    .dataframe tbody tr th {\n",
              "        vertical-align: top;\n",
              "    }\n",
              "\n",
              "    .dataframe thead th {\n",
              "        text-align: right;\n",
              "    }\n",
              "</style>\n",
              "<table border=\"1\" class=\"dataframe\">\n",
              "  <thead>\n",
              "    <tr style=\"text-align: right;\">\n",
              "      <th></th>\n",
              "      <th>2020-12-31</th>\n",
              "      <th>2019-12-31</th>\n",
              "      <th>2018-12-31</th>\n",
              "      <th>2017-12-31</th>\n",
              "    </tr>\n",
              "  </thead>\n",
              "  <tbody>\n",
              "    <tr>\n",
              "      <th>Research Development</th>\n",
              "      <td>1.8447e+10</td>\n",
              "      <td>1.36e+10</td>\n",
              "      <td>1.0273e+10</td>\n",
              "      <td>7.754e+09</td>\n",
              "    </tr>\n",
              "    <tr>\n",
              "      <th>Effect Of Accounting Charges</th>\n",
              "      <td>None</td>\n",
              "      <td>None</td>\n",
              "      <td>None</td>\n",
              "      <td>None</td>\n",
              "    </tr>\n",
              "    <tr>\n",
              "      <th>Income Before Tax</th>\n",
              "      <td>3.318e+10</td>\n",
              "      <td>2.4812e+10</td>\n",
              "      <td>2.5361e+10</td>\n",
              "      <td>2.0594e+10</td>\n",
              "    </tr>\n",
              "    <tr>\n",
              "      <th>Minority Interest</th>\n",
              "      <td>None</td>\n",
              "      <td>None</td>\n",
              "      <td>None</td>\n",
              "      <td>None</td>\n",
              "    </tr>\n",
              "    <tr>\n",
              "      <th>Net Income</th>\n",
              "      <td>2.9146e+10</td>\n",
              "      <td>1.8485e+10</td>\n",
              "      <td>2.2112e+10</td>\n",
              "      <td>1.5934e+10</td>\n",
              "    </tr>\n",
              "    <tr>\n",
              "      <th>Selling General Administrative</th>\n",
              "      <td>1.8155e+10</td>\n",
              "      <td>1.5341e+10</td>\n",
              "      <td>1.1297e+10</td>\n",
              "      <td>7.242e+09</td>\n",
              "    </tr>\n",
              "    <tr>\n",
              "      <th>Gross Profit</th>\n",
              "      <td>6.9273e+10</td>\n",
              "      <td>5.7927e+10</td>\n",
              "      <td>4.6483e+10</td>\n",
              "      <td>3.5199e+10</td>\n",
              "    </tr>\n",
              "    <tr>\n",
              "      <th>Ebit</th>\n",
              "      <td>3.2671e+10</td>\n",
              "      <td>2.8986e+10</td>\n",
              "      <td>2.4913e+10</td>\n",
              "      <td>2.0203e+10</td>\n",
              "    </tr>\n",
              "    <tr>\n",
              "      <th>Operating Income</th>\n",
              "      <td>3.2671e+10</td>\n",
              "      <td>2.8986e+10</td>\n",
              "      <td>2.4913e+10</td>\n",
              "      <td>2.0203e+10</td>\n",
              "    </tr>\n",
              "    <tr>\n",
              "      <th>Other Operating Expenses</th>\n",
              "      <td>None</td>\n",
              "      <td>None</td>\n",
              "      <td>None</td>\n",
              "      <td>None</td>\n",
              "    </tr>\n",
              "    <tr>\n",
              "      <th>Interest Expense</th>\n",
              "      <td>NaN</td>\n",
              "      <td>NaN</td>\n",
              "      <td>NaN</td>\n",
              "      <td>-6e+06</td>\n",
              "    </tr>\n",
              "    <tr>\n",
              "      <th>Extraordinary Items</th>\n",
              "      <td>None</td>\n",
              "      <td>None</td>\n",
              "      <td>None</td>\n",
              "      <td>None</td>\n",
              "    </tr>\n",
              "    <tr>\n",
              "      <th>Non Recurring</th>\n",
              "      <td>None</td>\n",
              "      <td>None</td>\n",
              "      <td>None</td>\n",
              "      <td>None</td>\n",
              "    </tr>\n",
              "    <tr>\n",
              "      <th>Other Items</th>\n",
              "      <td>None</td>\n",
              "      <td>None</td>\n",
              "      <td>None</td>\n",
              "      <td>None</td>\n",
              "    </tr>\n",
              "    <tr>\n",
              "      <th>Income Tax Expense</th>\n",
              "      <td>4.034e+09</td>\n",
              "      <td>6.327e+09</td>\n",
              "      <td>3.249e+09</td>\n",
              "      <td>4.66e+09</td>\n",
              "    </tr>\n",
              "    <tr>\n",
              "      <th>Total Revenue</th>\n",
              "      <td>8.5965e+10</td>\n",
              "      <td>7.0697e+10</td>\n",
              "      <td>5.5838e+10</td>\n",
              "      <td>4.0653e+10</td>\n",
              "    </tr>\n",
              "    <tr>\n",
              "      <th>Total Operating Expenses</th>\n",
              "      <td>5.3294e+10</td>\n",
              "      <td>4.1711e+10</td>\n",
              "      <td>3.0925e+10</td>\n",
              "      <td>2.045e+10</td>\n",
              "    </tr>\n",
              "    <tr>\n",
              "      <th>Cost Of Revenue</th>\n",
              "      <td>1.6692e+10</td>\n",
              "      <td>1.277e+10</td>\n",
              "      <td>9.355e+09</td>\n",
              "      <td>5.454e+09</td>\n",
              "    </tr>\n",
              "    <tr>\n",
              "      <th>Total Other Income Expense Net</th>\n",
              "      <td>5.09e+08</td>\n",
              "      <td>-4.174e+09</td>\n",
              "      <td>4.48e+08</td>\n",
              "      <td>3.91e+08</td>\n",
              "    </tr>\n",
              "    <tr>\n",
              "      <th>Discontinued Operations</th>\n",
              "      <td>None</td>\n",
              "      <td>None</td>\n",
              "      <td>None</td>\n",
              "      <td>None</td>\n",
              "    </tr>\n",
              "    <tr>\n",
              "      <th>Net Income From Continuing Ops</th>\n",
              "      <td>2.9146e+10</td>\n",
              "      <td>1.8485e+10</td>\n",
              "      <td>2.2112e+10</td>\n",
              "      <td>1.5934e+10</td>\n",
              "    </tr>\n",
              "    <tr>\n",
              "      <th>Net Income Applicable To Common Shares</th>\n",
              "      <td>2.9146e+10</td>\n",
              "      <td>1.8485e+10</td>\n",
              "      <td>2.2111e+10</td>\n",
              "      <td>1.592e+10</td>\n",
              "    </tr>\n",
              "  </tbody>\n",
              "</table>\n",
              "</div>"
            ],
            "text/plain": [
              "                                        2020-12-31  ...  2017-12-31\n",
              "Research Development                    1.8447e+10  ...   7.754e+09\n",
              "Effect Of Accounting Charges                  None  ...        None\n",
              "Income Before Tax                        3.318e+10  ...  2.0594e+10\n",
              "Minority Interest                             None  ...        None\n",
              "Net Income                              2.9146e+10  ...  1.5934e+10\n",
              "Selling General Administrative          1.8155e+10  ...   7.242e+09\n",
              "Gross Profit                            6.9273e+10  ...  3.5199e+10\n",
              "Ebit                                    3.2671e+10  ...  2.0203e+10\n",
              "Operating Income                        3.2671e+10  ...  2.0203e+10\n",
              "Other Operating Expenses                      None  ...        None\n",
              "Interest Expense                               NaN  ...      -6e+06\n",
              "Extraordinary Items                           None  ...        None\n",
              "Non Recurring                                 None  ...        None\n",
              "Other Items                                   None  ...        None\n",
              "Income Tax Expense                       4.034e+09  ...    4.66e+09\n",
              "Total Revenue                           8.5965e+10  ...  4.0653e+10\n",
              "Total Operating Expenses                5.3294e+10  ...   2.045e+10\n",
              "Cost Of Revenue                         1.6692e+10  ...   5.454e+09\n",
              "Total Other Income Expense Net            5.09e+08  ...    3.91e+08\n",
              "Discontinued Operations                       None  ...        None\n",
              "Net Income From Continuing Ops          2.9146e+10  ...  1.5934e+10\n",
              "Net Income Applicable To Common Shares  2.9146e+10  ...   1.592e+10\n",
              "\n",
              "[22 rows x 4 columns]"
            ]
          },
          "metadata": {
            "tags": []
          },
          "execution_count": 11
        }
      ]
    },
    {
      "cell_type": "code",
      "metadata": {
        "ExecuteTime": {
          "end_time": "2020-12-30T22:10:20.196645Z",
          "start_time": "2020-12-30T22:10:20.186246Z"
        },
        "id": "rqa5xYcpZ50k",
        "outputId": "e20b7d2f-831a-4438-d180-5e5eece16e67",
        "colab": {
          "base_uri": "https://localhost:8080/",
          "height": 698
        }
      },
      "source": [
        "ticker.quarterly_financials"
      ],
      "execution_count": 12,
      "outputs": [
        {
          "output_type": "execute_result",
          "data": {
            "text/html": [
              "<div>\n",
              "<style scoped>\n",
              "    .dataframe tbody tr th:only-of-type {\n",
              "        vertical-align: middle;\n",
              "    }\n",
              "\n",
              "    .dataframe tbody tr th {\n",
              "        vertical-align: top;\n",
              "    }\n",
              "\n",
              "    .dataframe thead th {\n",
              "        text-align: right;\n",
              "    }\n",
              "</style>\n",
              "<table border=\"1\" class=\"dataframe\">\n",
              "  <thead>\n",
              "    <tr style=\"text-align: right;\">\n",
              "      <th></th>\n",
              "      <th>2021-03-31</th>\n",
              "      <th>2020-12-31</th>\n",
              "      <th>2020-09-30</th>\n",
              "      <th>2020-06-30</th>\n",
              "    </tr>\n",
              "  </thead>\n",
              "  <tbody>\n",
              "    <tr>\n",
              "      <th>Research Development</th>\n",
              "      <td>5.197e+09</td>\n",
              "      <td>5.207e+09</td>\n",
              "      <td>4.763e+09</td>\n",
              "      <td>4.462e+09</td>\n",
              "    </tr>\n",
              "    <tr>\n",
              "      <th>Effect Of Accounting Charges</th>\n",
              "      <td>None</td>\n",
              "      <td>None</td>\n",
              "      <td>None</td>\n",
              "      <td>None</td>\n",
              "    </tr>\n",
              "    <tr>\n",
              "      <th>Income Before Tax</th>\n",
              "      <td>1.1503e+10</td>\n",
              "      <td>1.3055e+10</td>\n",
              "      <td>8.133e+09</td>\n",
              "      <td>6.131e+09</td>\n",
              "    </tr>\n",
              "    <tr>\n",
              "      <th>Minority Interest</th>\n",
              "      <td>None</td>\n",
              "      <td>None</td>\n",
              "      <td>None</td>\n",
              "      <td>None</td>\n",
              "    </tr>\n",
              "    <tr>\n",
              "      <th>Net Income</th>\n",
              "      <td>9.497e+09</td>\n",
              "      <td>1.1219e+10</td>\n",
              "      <td>7.846e+09</td>\n",
              "      <td>5.178e+09</td>\n",
              "    </tr>\n",
              "    <tr>\n",
              "      <th>Selling General Administrative</th>\n",
              "      <td>4.465e+09</td>\n",
              "      <td>4.88e+09</td>\n",
              "      <td>4.473e+09</td>\n",
              "      <td>4.433e+09</td>\n",
              "    </tr>\n",
              "    <tr>\n",
              "      <th>Gross Profit</th>\n",
              "      <td>2.104e+10</td>\n",
              "      <td>2.2862e+10</td>\n",
              "      <td>1.7276e+10</td>\n",
              "      <td>1.4858e+10</td>\n",
              "    </tr>\n",
              "    <tr>\n",
              "      <th>Ebit</th>\n",
              "      <td>1.1378e+10</td>\n",
              "      <td>1.2775e+10</td>\n",
              "      <td>8.04e+09</td>\n",
              "      <td>5.963e+09</td>\n",
              "    </tr>\n",
              "    <tr>\n",
              "      <th>Operating Income</th>\n",
              "      <td>1.1378e+10</td>\n",
              "      <td>1.2775e+10</td>\n",
              "      <td>8.04e+09</td>\n",
              "      <td>5.963e+09</td>\n",
              "    </tr>\n",
              "    <tr>\n",
              "      <th>Other Operating Expenses</th>\n",
              "      <td>None</td>\n",
              "      <td>None</td>\n",
              "      <td>None</td>\n",
              "      <td>None</td>\n",
              "    </tr>\n",
              "    <tr>\n",
              "      <th>Interest Expense</th>\n",
              "      <td>None</td>\n",
              "      <td>None</td>\n",
              "      <td>None</td>\n",
              "      <td>None</td>\n",
              "    </tr>\n",
              "    <tr>\n",
              "      <th>Extraordinary Items</th>\n",
              "      <td>None</td>\n",
              "      <td>None</td>\n",
              "      <td>None</td>\n",
              "      <td>None</td>\n",
              "    </tr>\n",
              "    <tr>\n",
              "      <th>Non Recurring</th>\n",
              "      <td>None</td>\n",
              "      <td>None</td>\n",
              "      <td>None</td>\n",
              "      <td>None</td>\n",
              "    </tr>\n",
              "    <tr>\n",
              "      <th>Other Items</th>\n",
              "      <td>None</td>\n",
              "      <td>None</td>\n",
              "      <td>None</td>\n",
              "      <td>None</td>\n",
              "    </tr>\n",
              "    <tr>\n",
              "      <th>Income Tax Expense</th>\n",
              "      <td>2.006e+09</td>\n",
              "      <td>1.836e+09</td>\n",
              "      <td>2.87e+08</td>\n",
              "      <td>9.53e+08</td>\n",
              "    </tr>\n",
              "    <tr>\n",
              "      <th>Total Revenue</th>\n",
              "      <td>2.6171e+10</td>\n",
              "      <td>2.8072e+10</td>\n",
              "      <td>2.147e+10</td>\n",
              "      <td>1.8687e+10</td>\n",
              "    </tr>\n",
              "    <tr>\n",
              "      <th>Total Operating Expenses</th>\n",
              "      <td>1.4793e+10</td>\n",
              "      <td>1.5297e+10</td>\n",
              "      <td>1.343e+10</td>\n",
              "      <td>1.2724e+10</td>\n",
              "    </tr>\n",
              "    <tr>\n",
              "      <th>Cost Of Revenue</th>\n",
              "      <td>5.131e+09</td>\n",
              "      <td>5.21e+09</td>\n",
              "      <td>4.194e+09</td>\n",
              "      <td>3.829e+09</td>\n",
              "    </tr>\n",
              "    <tr>\n",
              "      <th>Total Other Income Expense Net</th>\n",
              "      <td>1.25e+08</td>\n",
              "      <td>2.8e+08</td>\n",
              "      <td>9.3e+07</td>\n",
              "      <td>1.68e+08</td>\n",
              "    </tr>\n",
              "    <tr>\n",
              "      <th>Discontinued Operations</th>\n",
              "      <td>None</td>\n",
              "      <td>None</td>\n",
              "      <td>None</td>\n",
              "      <td>None</td>\n",
              "    </tr>\n",
              "    <tr>\n",
              "      <th>Net Income From Continuing Ops</th>\n",
              "      <td>9.497e+09</td>\n",
              "      <td>1.1219e+10</td>\n",
              "      <td>7.846e+09</td>\n",
              "      <td>5.178e+09</td>\n",
              "    </tr>\n",
              "    <tr>\n",
              "      <th>Net Income Applicable To Common Shares</th>\n",
              "      <td>9.497e+09</td>\n",
              "      <td>1.1219e+10</td>\n",
              "      <td>7.846e+09</td>\n",
              "      <td>5.178e+09</td>\n",
              "    </tr>\n",
              "  </tbody>\n",
              "</table>\n",
              "</div>"
            ],
            "text/plain": [
              "                                        2021-03-31  ...  2020-06-30\n",
              "Research Development                     5.197e+09  ...   4.462e+09\n",
              "Effect Of Accounting Charges                  None  ...        None\n",
              "Income Before Tax                       1.1503e+10  ...   6.131e+09\n",
              "Minority Interest                             None  ...        None\n",
              "Net Income                               9.497e+09  ...   5.178e+09\n",
              "Selling General Administrative           4.465e+09  ...   4.433e+09\n",
              "Gross Profit                             2.104e+10  ...  1.4858e+10\n",
              "Ebit                                    1.1378e+10  ...   5.963e+09\n",
              "Operating Income                        1.1378e+10  ...   5.963e+09\n",
              "Other Operating Expenses                      None  ...        None\n",
              "Interest Expense                              None  ...        None\n",
              "Extraordinary Items                           None  ...        None\n",
              "Non Recurring                                 None  ...        None\n",
              "Other Items                                   None  ...        None\n",
              "Income Tax Expense                       2.006e+09  ...    9.53e+08\n",
              "Total Revenue                           2.6171e+10  ...  1.8687e+10\n",
              "Total Operating Expenses                1.4793e+10  ...  1.2724e+10\n",
              "Cost Of Revenue                          5.131e+09  ...   3.829e+09\n",
              "Total Other Income Expense Net            1.25e+08  ...    1.68e+08\n",
              "Discontinued Operations                       None  ...        None\n",
              "Net Income From Continuing Ops           9.497e+09  ...   5.178e+09\n",
              "Net Income Applicable To Common Shares   9.497e+09  ...   5.178e+09\n",
              "\n",
              "[22 rows x 4 columns]"
            ]
          },
          "metadata": {
            "tags": []
          },
          "execution_count": 12
        }
      ]
    },
    {
      "cell_type": "markdown",
      "metadata": {
        "id": "lVXiDnYUZ50k"
      },
      "source": [
        "### Annual and Quarterly Balance Sheet"
      ]
    },
    {
      "cell_type": "code",
      "metadata": {
        "ExecuteTime": {
          "end_time": "2020-12-30T22:10:20.206470Z",
          "start_time": "2020-12-30T22:10:20.197694Z"
        },
        "id": "fl8xnE8nZ50k",
        "outputId": "4207dbce-07fe-4010-bba3-724dfc959f9a",
        "colab": {
          "base_uri": "https://localhost:8080/",
          "height": 0
        }
      },
      "source": [
        "ticker.balance_sheet"
      ],
      "execution_count": 13,
      "outputs": [
        {
          "output_type": "execute_result",
          "data": {
            "text/html": [
              "<div>\n",
              "<style scoped>\n",
              "    .dataframe tbody tr th:only-of-type {\n",
              "        vertical-align: middle;\n",
              "    }\n",
              "\n",
              "    .dataframe tbody tr th {\n",
              "        vertical-align: top;\n",
              "    }\n",
              "\n",
              "    .dataframe thead th {\n",
              "        text-align: right;\n",
              "    }\n",
              "</style>\n",
              "<table border=\"1\" class=\"dataframe\">\n",
              "  <thead>\n",
              "    <tr style=\"text-align: right;\">\n",
              "      <th></th>\n",
              "      <th>2020-12-31</th>\n",
              "      <th>2019-12-31</th>\n",
              "      <th>2018-12-31</th>\n",
              "      <th>2017-12-31</th>\n",
              "    </tr>\n",
              "  </thead>\n",
              "  <tbody>\n",
              "    <tr>\n",
              "      <th>Intangible Assets</th>\n",
              "      <td>6.230000e+08</td>\n",
              "      <td>8.940000e+08</td>\n",
              "      <td>1.294000e+09</td>\n",
              "      <td>1.884000e+09</td>\n",
              "    </tr>\n",
              "    <tr>\n",
              "      <th>Capital Surplus</th>\n",
              "      <td>5.001800e+10</td>\n",
              "      <td>4.585100e+10</td>\n",
              "      <td>4.290600e+10</td>\n",
              "      <td>4.058400e+10</td>\n",
              "    </tr>\n",
              "    <tr>\n",
              "      <th>Total Liab</th>\n",
              "      <td>3.102600e+10</td>\n",
              "      <td>3.232200e+10</td>\n",
              "      <td>1.320700e+10</td>\n",
              "      <td>1.017700e+10</td>\n",
              "    </tr>\n",
              "    <tr>\n",
              "      <th>Total Stockholder Equity</th>\n",
              "      <td>1.282900e+11</td>\n",
              "      <td>1.010540e+11</td>\n",
              "      <td>8.412700e+10</td>\n",
              "      <td>7.434700e+10</td>\n",
              "    </tr>\n",
              "    <tr>\n",
              "      <th>Other Current Liab</th>\n",
              "      <td>9.964000e+09</td>\n",
              "      <td>1.118600e+10</td>\n",
              "      <td>4.494000e+09</td>\n",
              "      <td>2.590000e+09</td>\n",
              "    </tr>\n",
              "    <tr>\n",
              "      <th>Total Assets</th>\n",
              "      <td>1.593160e+11</td>\n",
              "      <td>1.333760e+11</td>\n",
              "      <td>9.733400e+10</td>\n",
              "      <td>8.452400e+10</td>\n",
              "    </tr>\n",
              "    <tr>\n",
              "      <th>Other Current Assets</th>\n",
              "      <td>2.410000e+08</td>\n",
              "      <td>8.000000e+06</td>\n",
              "      <td>1.000000e+07</td>\n",
              "      <td>1.800000e+07</td>\n",
              "    </tr>\n",
              "    <tr>\n",
              "      <th>Retained Earnings</th>\n",
              "      <td>7.734500e+10</td>\n",
              "      <td>5.569200e+10</td>\n",
              "      <td>4.198100e+10</td>\n",
              "      <td>3.399000e+10</td>\n",
              "    </tr>\n",
              "    <tr>\n",
              "      <th>Other Liab</th>\n",
              "      <td>5.945000e+09</td>\n",
              "      <td>7.745000e+09</td>\n",
              "      <td>6.190000e+09</td>\n",
              "      <td>6.417000e+09</td>\n",
              "    </tr>\n",
              "    <tr>\n",
              "      <th>Good Will</th>\n",
              "      <td>1.905000e+10</td>\n",
              "      <td>1.871500e+10</td>\n",
              "      <td>1.830100e+10</td>\n",
              "      <td>1.822100e+10</td>\n",
              "    </tr>\n",
              "    <tr>\n",
              "      <th>Treasury Stock</th>\n",
              "      <td>9.270000e+08</td>\n",
              "      <td>-4.890000e+08</td>\n",
              "      <td>-7.600000e+08</td>\n",
              "      <td>-2.270000e+08</td>\n",
              "    </tr>\n",
              "    <tr>\n",
              "      <th>Other Assets</th>\n",
              "      <td>2.758000e+09</td>\n",
              "      <td>2.673000e+09</td>\n",
              "      <td>2.576000e+09</td>\n",
              "      <td>2.135000e+09</td>\n",
              "    </tr>\n",
              "    <tr>\n",
              "      <th>Cash</th>\n",
              "      <td>1.757600e+10</td>\n",
              "      <td>1.907900e+10</td>\n",
              "      <td>1.001900e+10</td>\n",
              "      <td>8.079000e+09</td>\n",
              "    </tr>\n",
              "    <tr>\n",
              "      <th>Total Current Liabilities</th>\n",
              "      <td>1.498100e+10</td>\n",
              "      <td>1.505300e+10</td>\n",
              "      <td>7.017000e+09</td>\n",
              "      <td>3.760000e+09</td>\n",
              "    </tr>\n",
              "    <tr>\n",
              "      <th>Other Stockholder Equity</th>\n",
              "      <td>9.270000e+08</td>\n",
              "      <td>-4.890000e+08</td>\n",
              "      <td>-7.600000e+08</td>\n",
              "      <td>-2.270000e+08</td>\n",
              "    </tr>\n",
              "    <tr>\n",
              "      <th>Property Plant Equipment</th>\n",
              "      <td>5.498100e+10</td>\n",
              "      <td>4.478300e+10</td>\n",
              "      <td>2.468300e+10</td>\n",
              "      <td>1.372100e+10</td>\n",
              "    </tr>\n",
              "    <tr>\n",
              "      <th>Total Current Assets</th>\n",
              "      <td>7.567000e+10</td>\n",
              "      <td>6.622500e+10</td>\n",
              "      <td>5.048000e+10</td>\n",
              "      <td>4.856300e+10</td>\n",
              "    </tr>\n",
              "    <tr>\n",
              "      <th>Long Term Investments</th>\n",
              "      <td>6.234000e+09</td>\n",
              "      <td>8.600000e+07</td>\n",
              "      <td>NaN</td>\n",
              "      <td>NaN</td>\n",
              "    </tr>\n",
              "    <tr>\n",
              "      <th>Net Tangible Assets</th>\n",
              "      <td>1.086170e+11</td>\n",
              "      <td>8.144500e+10</td>\n",
              "      <td>6.453200e+10</td>\n",
              "      <td>5.424200e+10</td>\n",
              "    </tr>\n",
              "    <tr>\n",
              "      <th>Short Term Investments</th>\n",
              "      <td>4.437800e+10</td>\n",
              "      <td>3.577600e+10</td>\n",
              "      <td>3.109500e+10</td>\n",
              "      <td>3.363200e+10</td>\n",
              "    </tr>\n",
              "    <tr>\n",
              "      <th>Net Receivables</th>\n",
              "      <td>1.133500e+10</td>\n",
              "      <td>9.518000e+09</td>\n",
              "      <td>7.587000e+09</td>\n",
              "      <td>5.832000e+09</td>\n",
              "    </tr>\n",
              "    <tr>\n",
              "      <th>Accounts Payable</th>\n",
              "      <td>1.331000e+09</td>\n",
              "      <td>1.363000e+09</td>\n",
              "      <td>8.200000e+08</td>\n",
              "      <td>3.800000e+08</td>\n",
              "    </tr>\n",
              "    <tr>\n",
              "      <th>Common Stock</th>\n",
              "      <td>NaN</td>\n",
              "      <td>NaN</td>\n",
              "      <td>4.290600e+10</td>\n",
              "      <td>NaN</td>\n",
              "    </tr>\n",
              "  </tbody>\n",
              "</table>\n",
              "</div>"
            ],
            "text/plain": [
              "                             2020-12-31  ...    2017-12-31\n",
              "Intangible Assets          6.230000e+08  ...  1.884000e+09\n",
              "Capital Surplus            5.001800e+10  ...  4.058400e+10\n",
              "Total Liab                 3.102600e+10  ...  1.017700e+10\n",
              "Total Stockholder Equity   1.282900e+11  ...  7.434700e+10\n",
              "Other Current Liab         9.964000e+09  ...  2.590000e+09\n",
              "Total Assets               1.593160e+11  ...  8.452400e+10\n",
              "Other Current Assets       2.410000e+08  ...  1.800000e+07\n",
              "Retained Earnings          7.734500e+10  ...  3.399000e+10\n",
              "Other Liab                 5.945000e+09  ...  6.417000e+09\n",
              "Good Will                  1.905000e+10  ...  1.822100e+10\n",
              "Treasury Stock             9.270000e+08  ... -2.270000e+08\n",
              "Other Assets               2.758000e+09  ...  2.135000e+09\n",
              "Cash                       1.757600e+10  ...  8.079000e+09\n",
              "Total Current Liabilities  1.498100e+10  ...  3.760000e+09\n",
              "Other Stockholder Equity   9.270000e+08  ... -2.270000e+08\n",
              "Property Plant Equipment   5.498100e+10  ...  1.372100e+10\n",
              "Total Current Assets       7.567000e+10  ...  4.856300e+10\n",
              "Long Term Investments      6.234000e+09  ...           NaN\n",
              "Net Tangible Assets        1.086170e+11  ...  5.424200e+10\n",
              "Short Term Investments     4.437800e+10  ...  3.363200e+10\n",
              "Net Receivables            1.133500e+10  ...  5.832000e+09\n",
              "Accounts Payable           1.331000e+09  ...  3.800000e+08\n",
              "Common Stock                        NaN  ...           NaN\n",
              "\n",
              "[23 rows x 4 columns]"
            ]
          },
          "metadata": {
            "tags": []
          },
          "execution_count": 13
        }
      ]
    },
    {
      "cell_type": "code",
      "metadata": {
        "ExecuteTime": {
          "end_time": "2020-12-30T22:10:20.230795Z",
          "start_time": "2020-12-30T22:10:20.207431Z"
        },
        "id": "9RqO98K9Z50k",
        "outputId": "bfd7e209-eddd-4ace-a429-335b5c835c39",
        "colab": {
          "base_uri": "https://localhost:8080/",
          "height": 0
        }
      },
      "source": [
        "ticker.quarterly_balance_sheet"
      ],
      "execution_count": 14,
      "outputs": [
        {
          "output_type": "execute_result",
          "data": {
            "text/html": [
              "<div>\n",
              "<style scoped>\n",
              "    .dataframe tbody tr th:only-of-type {\n",
              "        vertical-align: middle;\n",
              "    }\n",
              "\n",
              "    .dataframe tbody tr th {\n",
              "        vertical-align: top;\n",
              "    }\n",
              "\n",
              "    .dataframe thead th {\n",
              "        text-align: right;\n",
              "    }\n",
              "</style>\n",
              "<table border=\"1\" class=\"dataframe\">\n",
              "  <thead>\n",
              "    <tr style=\"text-align: right;\">\n",
              "      <th></th>\n",
              "      <th>2021-03-31</th>\n",
              "      <th>2020-12-31</th>\n",
              "      <th>2020-09-30</th>\n",
              "      <th>2020-06-30</th>\n",
              "    </tr>\n",
              "  </thead>\n",
              "  <tbody>\n",
              "    <tr>\n",
              "      <th>Intangible Assets</th>\n",
              "      <td>5.050000e+08</td>\n",
              "      <td>6.230000e+08</td>\n",
              "      <td>7.440000e+08</td>\n",
              "      <td>8.590000e+08</td>\n",
              "    </tr>\n",
              "    <tr>\n",
              "      <th>Capital Surplus</th>\n",
              "      <td>5.116000e+10</td>\n",
              "      <td>5.001800e+10</td>\n",
              "      <td>4.891000e+10</td>\n",
              "      <td>4.780500e+10</td>\n",
              "    </tr>\n",
              "    <tr>\n",
              "      <th>Total Liab</th>\n",
              "      <td>2.986600e+10</td>\n",
              "      <td>3.102600e+10</td>\n",
              "      <td>2.870600e+10</td>\n",
              "      <td>2.924400e+10</td>\n",
              "    </tr>\n",
              "    <tr>\n",
              "      <th>Total Stockholder Equity</th>\n",
              "      <td>1.336570e+11</td>\n",
              "      <td>1.282900e+11</td>\n",
              "      <td>1.177310e+11</td>\n",
              "      <td>1.104470e+11</td>\n",
              "    </tr>\n",
              "    <tr>\n",
              "      <th>Other Current Liab</th>\n",
              "      <td>1.388000e+09</td>\n",
              "      <td>9.964000e+09</td>\n",
              "      <td>1.829000e+09</td>\n",
              "      <td>9.930000e+08</td>\n",
              "    </tr>\n",
              "    <tr>\n",
              "      <th>Total Assets</th>\n",
              "      <td>1.635230e+11</td>\n",
              "      <td>1.593160e+11</td>\n",
              "      <td>1.464370e+11</td>\n",
              "      <td>1.396910e+11</td>\n",
              "    </tr>\n",
              "    <tr>\n",
              "      <th>Other Current Assets</th>\n",
              "      <td>2.570000e+08</td>\n",
              "      <td>2.410000e+08</td>\n",
              "      <td>2.220000e+08</td>\n",
              "      <td>3.080000e+08</td>\n",
              "    </tr>\n",
              "    <tr>\n",
              "      <th>Retained Earnings</th>\n",
              "      <td>8.234300e+10</td>\n",
              "      <td>7.734500e+10</td>\n",
              "      <td>6.851300e+10</td>\n",
              "      <td>6.278400e+10</td>\n",
              "    </tr>\n",
              "    <tr>\n",
              "      <th>Other Liab</th>\n",
              "      <td>6.101000e+09</td>\n",
              "      <td>5.945000e+09</td>\n",
              "      <td>6.655000e+09</td>\n",
              "      <td>7.879000e+09</td>\n",
              "    </tr>\n",
              "    <tr>\n",
              "      <th>Good Will</th>\n",
              "      <td>1.905600e+10</td>\n",
              "      <td>1.905000e+10</td>\n",
              "      <td>1.903100e+10</td>\n",
              "      <td>1.902900e+10</td>\n",
              "    </tr>\n",
              "    <tr>\n",
              "      <th>Treasury Stock</th>\n",
              "      <td>1.540000e+08</td>\n",
              "      <td>9.270000e+08</td>\n",
              "      <td>3.080000e+08</td>\n",
              "      <td>-1.420000e+08</td>\n",
              "    </tr>\n",
              "    <tr>\n",
              "      <th>Other Assets</th>\n",
              "      <td>2.376000e+09</td>\n",
              "      <td>2.758000e+09</td>\n",
              "      <td>2.969000e+09</td>\n",
              "      <td>3.238000e+09</td>\n",
              "    </tr>\n",
              "    <tr>\n",
              "      <th>Cash</th>\n",
              "      <td>1.951300e+10</td>\n",
              "      <td>1.757600e+10</td>\n",
              "      <td>1.161700e+10</td>\n",
              "      <td>2.104500e+10</td>\n",
              "    </tr>\n",
              "    <tr>\n",
              "      <th>Total Current Liabilities</th>\n",
              "      <td>1.271700e+10</td>\n",
              "      <td>1.498100e+10</td>\n",
              "      <td>1.194400e+10</td>\n",
              "      <td>1.130800e+10</td>\n",
              "    </tr>\n",
              "    <tr>\n",
              "      <th>Other Stockholder Equity</th>\n",
              "      <td>1.540000e+08</td>\n",
              "      <td>9.270000e+08</td>\n",
              "      <td>3.080000e+08</td>\n",
              "      <td>-1.420000e+08</td>\n",
              "    </tr>\n",
              "    <tr>\n",
              "      <th>Property Plant Equipment</th>\n",
              "      <td>5.792200e+10</td>\n",
              "      <td>5.498100e+10</td>\n",
              "      <td>5.173000e+10</td>\n",
              "      <td>4.843500e+10</td>\n",
              "    </tr>\n",
              "    <tr>\n",
              "      <th>Total Current Assets</th>\n",
              "      <td>7.732200e+10</td>\n",
              "      <td>7.567000e+10</td>\n",
              "      <td>6.579900e+10</td>\n",
              "      <td>6.813000e+10</td>\n",
              "    </tr>\n",
              "    <tr>\n",
              "      <th>Long Term Investments</th>\n",
              "      <td>6.342000e+09</td>\n",
              "      <td>6.234000e+09</td>\n",
              "      <td>6.164000e+09</td>\n",
              "      <td>NaN</td>\n",
              "    </tr>\n",
              "    <tr>\n",
              "      <th>Net Tangible Assets</th>\n",
              "      <td>1.140960e+11</td>\n",
              "      <td>1.086170e+11</td>\n",
              "      <td>9.795600e+10</td>\n",
              "      <td>9.055900e+10</td>\n",
              "    </tr>\n",
              "    <tr>\n",
              "      <th>Short Term Investments</th>\n",
              "      <td>4.470600e+10</td>\n",
              "      <td>4.437800e+10</td>\n",
              "      <td>4.400300e+10</td>\n",
              "      <td>3.719500e+10</td>\n",
              "    </tr>\n",
              "    <tr>\n",
              "      <th>Net Receivables</th>\n",
              "      <td>1.027600e+10</td>\n",
              "      <td>1.133500e+10</td>\n",
              "      <td>8.024000e+09</td>\n",
              "      <td>7.483000e+09</td>\n",
              "    </tr>\n",
              "    <tr>\n",
              "      <th>Accounts Payable</th>\n",
              "      <td>8.780000e+08</td>\n",
              "      <td>1.331000e+09</td>\n",
              "      <td>1.106000e+09</td>\n",
              "      <td>9.200000e+08</td>\n",
              "    </tr>\n",
              "  </tbody>\n",
              "</table>\n",
              "</div>"
            ],
            "text/plain": [
              "                             2021-03-31  ...    2020-06-30\n",
              "Intangible Assets          5.050000e+08  ...  8.590000e+08\n",
              "Capital Surplus            5.116000e+10  ...  4.780500e+10\n",
              "Total Liab                 2.986600e+10  ...  2.924400e+10\n",
              "Total Stockholder Equity   1.336570e+11  ...  1.104470e+11\n",
              "Other Current Liab         1.388000e+09  ...  9.930000e+08\n",
              "Total Assets               1.635230e+11  ...  1.396910e+11\n",
              "Other Current Assets       2.570000e+08  ...  3.080000e+08\n",
              "Retained Earnings          8.234300e+10  ...  6.278400e+10\n",
              "Other Liab                 6.101000e+09  ...  7.879000e+09\n",
              "Good Will                  1.905600e+10  ...  1.902900e+10\n",
              "Treasury Stock             1.540000e+08  ... -1.420000e+08\n",
              "Other Assets               2.376000e+09  ...  3.238000e+09\n",
              "Cash                       1.951300e+10  ...  2.104500e+10\n",
              "Total Current Liabilities  1.271700e+10  ...  1.130800e+10\n",
              "Other Stockholder Equity   1.540000e+08  ... -1.420000e+08\n",
              "Property Plant Equipment   5.792200e+10  ...  4.843500e+10\n",
              "Total Current Assets       7.732200e+10  ...  6.813000e+10\n",
              "Long Term Investments      6.342000e+09  ...           NaN\n",
              "Net Tangible Assets        1.140960e+11  ...  9.055900e+10\n",
              "Short Term Investments     4.470600e+10  ...  3.719500e+10\n",
              "Net Receivables            1.027600e+10  ...  7.483000e+09\n",
              "Accounts Payable           8.780000e+08  ...  9.200000e+08\n",
              "\n",
              "[22 rows x 4 columns]"
            ]
          },
          "metadata": {
            "tags": []
          },
          "execution_count": 14
        }
      ]
    },
    {
      "cell_type": "markdown",
      "metadata": {
        "id": "LQhasSEvZ50k"
      },
      "source": [
        "### Annual and Quarterly Cashflow Statement"
      ]
    },
    {
      "cell_type": "code",
      "metadata": {
        "ExecuteTime": {
          "end_time": "2020-12-30T22:10:20.253275Z",
          "start_time": "2020-12-30T22:10:20.231815Z"
        },
        "id": "voAnf0eyZ50l",
        "outputId": "447f71c1-bb1c-44df-b47b-d9d62f3aec08",
        "colab": {
          "base_uri": "https://localhost:8080/",
          "height": 0
        }
      },
      "source": [
        "ticker.cashflow"
      ],
      "execution_count": 15,
      "outputs": [
        {
          "output_type": "execute_result",
          "data": {
            "text/html": [
              "<div>\n",
              "<style scoped>\n",
              "    .dataframe tbody tr th:only-of-type {\n",
              "        vertical-align: middle;\n",
              "    }\n",
              "\n",
              "    .dataframe tbody tr th {\n",
              "        vertical-align: top;\n",
              "    }\n",
              "\n",
              "    .dataframe thead th {\n",
              "        text-align: right;\n",
              "    }\n",
              "</style>\n",
              "<table border=\"1\" class=\"dataframe\">\n",
              "  <thead>\n",
              "    <tr style=\"text-align: right;\">\n",
              "      <th></th>\n",
              "      <th>2020-12-31</th>\n",
              "      <th>2019-12-31</th>\n",
              "      <th>2018-12-31</th>\n",
              "      <th>2017-12-31</th>\n",
              "    </tr>\n",
              "  </thead>\n",
              "  <tbody>\n",
              "    <tr>\n",
              "      <th>Investments</th>\n",
              "      <td>-1.452000e+10</td>\n",
              "      <td>-4.254000e+09</td>\n",
              "      <td>2.449000e+09</td>\n",
              "      <td>-1.325000e+10</td>\n",
              "    </tr>\n",
              "    <tr>\n",
              "      <th>Change To Liabilities</th>\n",
              "      <td>9.100000e+07</td>\n",
              "      <td>2.360000e+08</td>\n",
              "      <td>2.740000e+08</td>\n",
              "      <td>4.700000e+07</td>\n",
              "    </tr>\n",
              "    <tr>\n",
              "      <th>Total Cashflows From Investing Activities</th>\n",
              "      <td>-3.005900e+10</td>\n",
              "      <td>-1.986400e+10</td>\n",
              "      <td>-1.160300e+10</td>\n",
              "      <td>-2.011800e+10</td>\n",
              "    </tr>\n",
              "    <tr>\n",
              "      <th>Net Borrowings</th>\n",
              "      <td>-5.800000e+08</td>\n",
              "      <td>-7.750000e+08</td>\n",
              "      <td>5.000000e+08</td>\n",
              "      <td>5.000000e+08</td>\n",
              "    </tr>\n",
              "    <tr>\n",
              "      <th>Total Cash From Financing Activities</th>\n",
              "      <td>-1.029200e+10</td>\n",
              "      <td>-7.299000e+09</td>\n",
              "      <td>-1.557200e+10</td>\n",
              "      <td>-5.235000e+09</td>\n",
              "    </tr>\n",
              "    <tr>\n",
              "      <th>Change To Operating Activities</th>\n",
              "      <td>-1.302000e+09</td>\n",
              "      <td>8.975000e+09</td>\n",
              "      <td>9.100000e+07</td>\n",
              "      <td>3.449000e+09</td>\n",
              "    </tr>\n",
              "    <tr>\n",
              "      <th>Net Income</th>\n",
              "      <td>2.914600e+10</td>\n",
              "      <td>1.848500e+10</td>\n",
              "      <td>2.211200e+10</td>\n",
              "      <td>1.593400e+10</td>\n",
              "    </tr>\n",
              "    <tr>\n",
              "      <th>Change In Cash</th>\n",
              "      <td>-1.325000e+09</td>\n",
              "      <td>9.155000e+09</td>\n",
              "      <td>1.920000e+09</td>\n",
              "      <td>-9.050000e+08</td>\n",
              "    </tr>\n",
              "    <tr>\n",
              "      <th>Repurchase Of Stock</th>\n",
              "      <td>-9.836000e+09</td>\n",
              "      <td>-6.539000e+09</td>\n",
              "      <td>-1.608700e+10</td>\n",
              "      <td>-5.222000e+09</td>\n",
              "    </tr>\n",
              "    <tr>\n",
              "      <th>Effect Of Exchange Rate</th>\n",
              "      <td>2.790000e+08</td>\n",
              "      <td>4.000000e+06</td>\n",
              "      <td>-1.790000e+08</td>\n",
              "      <td>2.320000e+08</td>\n",
              "    </tr>\n",
              "    <tr>\n",
              "      <th>Total Cash From Operating Activities</th>\n",
              "      <td>3.874700e+10</td>\n",
              "      <td>3.631400e+10</td>\n",
              "      <td>2.927400e+10</td>\n",
              "      <td>2.421600e+10</td>\n",
              "    </tr>\n",
              "    <tr>\n",
              "      <th>Depreciation</th>\n",
              "      <td>6.862000e+09</td>\n",
              "      <td>5.741000e+09</td>\n",
              "      <td>4.315000e+09</td>\n",
              "      <td>3.025000e+09</td>\n",
              "    </tr>\n",
              "    <tr>\n",
              "      <th>Other Cashflows From Investing Activities</th>\n",
              "      <td>-3.600000e+07</td>\n",
              "      <td>-3.600000e+07</td>\n",
              "      <td>-3.600000e+07</td>\n",
              "      <td>-1.300000e+07</td>\n",
              "    </tr>\n",
              "    <tr>\n",
              "      <th>Change To Account Receivables</th>\n",
              "      <td>-1.512000e+09</td>\n",
              "      <td>-1.961000e+09</td>\n",
              "      <td>-1.892000e+09</td>\n",
              "      <td>-1.609000e+09</td>\n",
              "    </tr>\n",
              "    <tr>\n",
              "      <th>Other Cashflows From Financing Activities</th>\n",
              "      <td>1.240000e+08</td>\n",
              "      <td>1.500000e+07</td>\n",
              "      <td>1.500000e+07</td>\n",
              "      <td>-1.300000e+07</td>\n",
              "    </tr>\n",
              "    <tr>\n",
              "      <th>Change To Netincome</th>\n",
              "      <td>5.462000e+09</td>\n",
              "      <td>4.838000e+09</td>\n",
              "      <td>4.374000e+09</td>\n",
              "      <td>3.370000e+09</td>\n",
              "    </tr>\n",
              "    <tr>\n",
              "      <th>Capital Expenditures</th>\n",
              "      <td>-1.511500e+10</td>\n",
              "      <td>-1.510200e+10</td>\n",
              "      <td>-1.391500e+10</td>\n",
              "      <td>-6.733000e+09</td>\n",
              "    </tr>\n",
              "  </tbody>\n",
              "</table>\n",
              "</div>"
            ],
            "text/plain": [
              "                                             2020-12-31  ...    2017-12-31\n",
              "Investments                               -1.452000e+10  ... -1.325000e+10\n",
              "Change To Liabilities                      9.100000e+07  ...  4.700000e+07\n",
              "Total Cashflows From Investing Activities -3.005900e+10  ... -2.011800e+10\n",
              "Net Borrowings                            -5.800000e+08  ...  5.000000e+08\n",
              "Total Cash From Financing Activities      -1.029200e+10  ... -5.235000e+09\n",
              "Change To Operating Activities            -1.302000e+09  ...  3.449000e+09\n",
              "Net Income                                 2.914600e+10  ...  1.593400e+10\n",
              "Change In Cash                            -1.325000e+09  ... -9.050000e+08\n",
              "Repurchase Of Stock                       -9.836000e+09  ... -5.222000e+09\n",
              "Effect Of Exchange Rate                    2.790000e+08  ...  2.320000e+08\n",
              "Total Cash From Operating Activities       3.874700e+10  ...  2.421600e+10\n",
              "Depreciation                               6.862000e+09  ...  3.025000e+09\n",
              "Other Cashflows From Investing Activities -3.600000e+07  ... -1.300000e+07\n",
              "Change To Account Receivables             -1.512000e+09  ... -1.609000e+09\n",
              "Other Cashflows From Financing Activities  1.240000e+08  ... -1.300000e+07\n",
              "Change To Netincome                        5.462000e+09  ...  3.370000e+09\n",
              "Capital Expenditures                      -1.511500e+10  ... -6.733000e+09\n",
              "\n",
              "[17 rows x 4 columns]"
            ]
          },
          "metadata": {
            "tags": []
          },
          "execution_count": 15
        }
      ]
    },
    {
      "cell_type": "code",
      "metadata": {
        "ExecuteTime": {
          "end_time": "2020-12-30T22:10:20.267617Z",
          "start_time": "2020-12-30T22:10:20.254020Z"
        },
        "id": "OzoMpLbeZ50l",
        "outputId": "c3fda9d3-7397-4737-fc5a-03deaad92afb",
        "colab": {
          "base_uri": "https://localhost:8080/",
          "height": 0
        }
      },
      "source": [
        "ticker.quarterly_cashflow"
      ],
      "execution_count": 16,
      "outputs": [
        {
          "output_type": "execute_result",
          "data": {
            "text/html": [
              "<div>\n",
              "<style scoped>\n",
              "    .dataframe tbody tr th:only-of-type {\n",
              "        vertical-align: middle;\n",
              "    }\n",
              "\n",
              "    .dataframe tbody tr th {\n",
              "        vertical-align: top;\n",
              "    }\n",
              "\n",
              "    .dataframe thead th {\n",
              "        text-align: right;\n",
              "    }\n",
              "</style>\n",
              "<table border=\"1\" class=\"dataframe\">\n",
              "  <thead>\n",
              "    <tr style=\"text-align: right;\">\n",
              "      <th></th>\n",
              "      <th>2021-03-31</th>\n",
              "      <th>2020-12-31</th>\n",
              "      <th>2020-09-30</th>\n",
              "      <th>2020-06-30</th>\n",
              "    </tr>\n",
              "  </thead>\n",
              "  <tbody>\n",
              "    <tr>\n",
              "      <th>Investments</th>\n",
              "      <td>-6.000000e+08</td>\n",
              "      <td>-5.290000e+08</td>\n",
              "      <td>-1.317700e+10</td>\n",
              "      <td>-3.380000e+08</td>\n",
              "    </tr>\n",
              "    <tr>\n",
              "      <th>Change To Liabilities</th>\n",
              "      <td>-2.440000e+08</td>\n",
              "      <td>-5.900000e+07</td>\n",
              "      <td>2.510000e+08</td>\n",
              "      <td>-4.100000e+07</td>\n",
              "    </tr>\n",
              "    <tr>\n",
              "      <th>Total Cashflows From Investing Activities</th>\n",
              "      <td>-4.874000e+09</td>\n",
              "      <td>-5.173000e+09</td>\n",
              "      <td>-1.659900e+10</td>\n",
              "      <td>-4.178000e+09</td>\n",
              "    </tr>\n",
              "    <tr>\n",
              "      <th>Net Borrowings</th>\n",
              "      <td>-2.010000e+08</td>\n",
              "      <td>-1.580000e+08</td>\n",
              "      <td>-1.960000e+08</td>\n",
              "      <td>-4.600000e+07</td>\n",
              "    </tr>\n",
              "    <tr>\n",
              "      <th>Total Cash From Financing Activities</th>\n",
              "      <td>-5.185000e+09</td>\n",
              "      <td>-3.207000e+09</td>\n",
              "      <td>-2.911000e+09</td>\n",
              "      <td>-2.152000e+09</td>\n",
              "    </tr>\n",
              "    <tr>\n",
              "      <th>Change To Operating Activities</th>\n",
              "      <td>-2.014000e+09</td>\n",
              "      <td>2.606000e+09</td>\n",
              "      <td>1.880000e+08</td>\n",
              "      <td>-4.794000e+09</td>\n",
              "    </tr>\n",
              "    <tr>\n",
              "      <th>Net Income</th>\n",
              "      <td>9.497000e+09</td>\n",
              "      <td>1.121900e+10</td>\n",
              "      <td>7.846000e+09</td>\n",
              "      <td>5.178000e+09</td>\n",
              "    </tr>\n",
              "    <tr>\n",
              "      <th>Change In Cash</th>\n",
              "      <td>1.937000e+09</td>\n",
              "      <td>5.975000e+09</td>\n",
              "      <td>-9.590000e+09</td>\n",
              "      <td>-2.358000e+09</td>\n",
              "    </tr>\n",
              "    <tr>\n",
              "      <th>Repurchase Of Stock</th>\n",
              "      <td>-5.016000e+09</td>\n",
              "      <td>-3.049000e+09</td>\n",
              "      <td>-2.725000e+09</td>\n",
              "      <td>-2.122000e+09</td>\n",
              "    </tr>\n",
              "    <tr>\n",
              "      <th>Effect Of Exchange Rate</th>\n",
              "      <td>-2.460000e+08</td>\n",
              "      <td>3.150000e+08</td>\n",
              "      <td>9.100000e+07</td>\n",
              "      <td>9.500000e+07</td>\n",
              "    </tr>\n",
              "    <tr>\n",
              "      <th>Total Cash From Operating Activities</th>\n",
              "      <td>1.224200e+10</td>\n",
              "      <td>1.404000e+10</td>\n",
              "      <td>9.829000e+09</td>\n",
              "      <td>3.877000e+09</td>\n",
              "    </tr>\n",
              "    <tr>\n",
              "      <th>Depreciation</th>\n",
              "      <td>1.972000e+09</td>\n",
              "      <td>1.863000e+09</td>\n",
              "      <td>1.698000e+09</td>\n",
              "      <td>1.704000e+09</td>\n",
              "    </tr>\n",
              "    <tr>\n",
              "      <th>Other Cashflows From Investing Activities</th>\n",
              "      <td>-2.000000e+06</td>\n",
              "      <td>-2.700000e+07</td>\n",
              "      <td>2.790000e+08</td>\n",
              "      <td>-2.460000e+08</td>\n",
              "    </tr>\n",
              "    <tr>\n",
              "      <th>Change To Account Receivables</th>\n",
              "      <td>8.490000e+08</td>\n",
              "      <td>-3.059000e+09</td>\n",
              "      <td>-3.770000e+08</td>\n",
              "      <td>-1.220000e+08</td>\n",
              "    </tr>\n",
              "    <tr>\n",
              "      <th>Other Cashflows From Financing Activities</th>\n",
              "      <td>3.200000e+07</td>\n",
              "      <td>3.200000e+07</td>\n",
              "      <td>1.000000e+07</td>\n",
              "      <td>1.600000e+07</td>\n",
              "    </tr>\n",
              "    <tr>\n",
              "      <th>Change To Netincome</th>\n",
              "      <td>2.182000e+09</td>\n",
              "      <td>1.470000e+09</td>\n",
              "      <td>2.230000e+08</td>\n",
              "      <td>1.951000e+09</td>\n",
              "    </tr>\n",
              "    <tr>\n",
              "      <th>Capital Expenditures</th>\n",
              "      <td>-4.272000e+09</td>\n",
              "      <td>-4.613000e+09</td>\n",
              "      <td>-3.689000e+09</td>\n",
              "      <td>-3.255000e+09</td>\n",
              "    </tr>\n",
              "  </tbody>\n",
              "</table>\n",
              "</div>"
            ],
            "text/plain": [
              "                                             2021-03-31  ...    2020-06-30\n",
              "Investments                               -6.000000e+08  ... -3.380000e+08\n",
              "Change To Liabilities                     -2.440000e+08  ... -4.100000e+07\n",
              "Total Cashflows From Investing Activities -4.874000e+09  ... -4.178000e+09\n",
              "Net Borrowings                            -2.010000e+08  ... -4.600000e+07\n",
              "Total Cash From Financing Activities      -5.185000e+09  ... -2.152000e+09\n",
              "Change To Operating Activities            -2.014000e+09  ... -4.794000e+09\n",
              "Net Income                                 9.497000e+09  ...  5.178000e+09\n",
              "Change In Cash                             1.937000e+09  ... -2.358000e+09\n",
              "Repurchase Of Stock                       -5.016000e+09  ... -2.122000e+09\n",
              "Effect Of Exchange Rate                   -2.460000e+08  ...  9.500000e+07\n",
              "Total Cash From Operating Activities       1.224200e+10  ...  3.877000e+09\n",
              "Depreciation                               1.972000e+09  ...  1.704000e+09\n",
              "Other Cashflows From Investing Activities -2.000000e+06  ... -2.460000e+08\n",
              "Change To Account Receivables              8.490000e+08  ... -1.220000e+08\n",
              "Other Cashflows From Financing Activities  3.200000e+07  ...  1.600000e+07\n",
              "Change To Netincome                        2.182000e+09  ...  1.951000e+09\n",
              "Capital Expenditures                      -4.272000e+09  ... -3.255000e+09\n",
              "\n",
              "[17 rows x 4 columns]"
            ]
          },
          "metadata": {
            "tags": []
          },
          "execution_count": 16
        }
      ]
    },
    {
      "cell_type": "code",
      "metadata": {
        "ExecuteTime": {
          "end_time": "2020-12-30T22:10:20.279600Z",
          "start_time": "2020-12-30T22:10:20.268571Z"
        },
        "id": "Lp6HndIGZ50l",
        "outputId": "0c2a483c-c032-4b7d-ce31-920baa9517a7",
        "colab": {
          "base_uri": "https://localhost:8080/",
          "height": 0
        }
      },
      "source": [
        "ticker.earnings"
      ],
      "execution_count": 17,
      "outputs": [
        {
          "output_type": "execute_result",
          "data": {
            "text/html": [
              "<div>\n",
              "<style scoped>\n",
              "    .dataframe tbody tr th:only-of-type {\n",
              "        vertical-align: middle;\n",
              "    }\n",
              "\n",
              "    .dataframe tbody tr th {\n",
              "        vertical-align: top;\n",
              "    }\n",
              "\n",
              "    .dataframe thead th {\n",
              "        text-align: right;\n",
              "    }\n",
              "</style>\n",
              "<table border=\"1\" class=\"dataframe\">\n",
              "  <thead>\n",
              "    <tr style=\"text-align: right;\">\n",
              "      <th></th>\n",
              "      <th>Revenue</th>\n",
              "      <th>Earnings</th>\n",
              "    </tr>\n",
              "    <tr>\n",
              "      <th>Year</th>\n",
              "      <th></th>\n",
              "      <th></th>\n",
              "    </tr>\n",
              "  </thead>\n",
              "  <tbody>\n",
              "    <tr>\n",
              "      <th>2017</th>\n",
              "      <td>40653000000</td>\n",
              "      <td>15934000000</td>\n",
              "    </tr>\n",
              "    <tr>\n",
              "      <th>2018</th>\n",
              "      <td>55838000000</td>\n",
              "      <td>22112000000</td>\n",
              "    </tr>\n",
              "    <tr>\n",
              "      <th>2019</th>\n",
              "      <td>70697000000</td>\n",
              "      <td>18485000000</td>\n",
              "    </tr>\n",
              "    <tr>\n",
              "      <th>2020</th>\n",
              "      <td>85965000000</td>\n",
              "      <td>29146000000</td>\n",
              "    </tr>\n",
              "  </tbody>\n",
              "</table>\n",
              "</div>"
            ],
            "text/plain": [
              "          Revenue     Earnings\n",
              "Year                          \n",
              "2017  40653000000  15934000000\n",
              "2018  55838000000  22112000000\n",
              "2019  70697000000  18485000000\n",
              "2020  85965000000  29146000000"
            ]
          },
          "metadata": {
            "tags": []
          },
          "execution_count": 17
        }
      ]
    },
    {
      "cell_type": "code",
      "metadata": {
        "ExecuteTime": {
          "end_time": "2020-12-30T22:10:20.291334Z",
          "start_time": "2020-12-30T22:10:20.280662Z"
        },
        "id": "2lk1FMyrZ50l",
        "outputId": "5aa7c30f-0d07-4190-f291-e5851be018b8",
        "colab": {
          "base_uri": "https://localhost:8080/",
          "height": 0
        }
      },
      "source": [
        "ticker.quarterly_earnings"
      ],
      "execution_count": 18,
      "outputs": [
        {
          "output_type": "execute_result",
          "data": {
            "text/html": [
              "<div>\n",
              "<style scoped>\n",
              "    .dataframe tbody tr th:only-of-type {\n",
              "        vertical-align: middle;\n",
              "    }\n",
              "\n",
              "    .dataframe tbody tr th {\n",
              "        vertical-align: top;\n",
              "    }\n",
              "\n",
              "    .dataframe thead th {\n",
              "        text-align: right;\n",
              "    }\n",
              "</style>\n",
              "<table border=\"1\" class=\"dataframe\">\n",
              "  <thead>\n",
              "    <tr style=\"text-align: right;\">\n",
              "      <th></th>\n",
              "      <th>Revenue</th>\n",
              "      <th>Earnings</th>\n",
              "    </tr>\n",
              "    <tr>\n",
              "      <th>Quarter</th>\n",
              "      <th></th>\n",
              "      <th></th>\n",
              "    </tr>\n",
              "  </thead>\n",
              "  <tbody>\n",
              "    <tr>\n",
              "      <th>2Q2020</th>\n",
              "      <td>18687000000</td>\n",
              "      <td>5178000000</td>\n",
              "    </tr>\n",
              "    <tr>\n",
              "      <th>3Q2020</th>\n",
              "      <td>21470000000</td>\n",
              "      <td>7846000000</td>\n",
              "    </tr>\n",
              "    <tr>\n",
              "      <th>4Q2020</th>\n",
              "      <td>28072000000</td>\n",
              "      <td>11219000000</td>\n",
              "    </tr>\n",
              "    <tr>\n",
              "      <th>1Q2021</th>\n",
              "      <td>26171000000</td>\n",
              "      <td>9497000000</td>\n",
              "    </tr>\n",
              "  </tbody>\n",
              "</table>\n",
              "</div>"
            ],
            "text/plain": [
              "             Revenue     Earnings\n",
              "Quarter                          \n",
              "2Q2020   18687000000   5178000000\n",
              "3Q2020   21470000000   7846000000\n",
              "4Q2020   28072000000  11219000000\n",
              "1Q2021   26171000000   9497000000"
            ]
          },
          "metadata": {
            "tags": []
          },
          "execution_count": 18
        }
      ]
    },
    {
      "cell_type": "markdown",
      "metadata": {
        "id": "4UPGfvRfZ50m"
      },
      "source": [
        "### Sustainability: Environmental, Social and Governance (ESG)"
      ]
    },
    {
      "cell_type": "code",
      "metadata": {
        "ExecuteTime": {
          "end_time": "2020-12-30T22:10:20.306584Z",
          "start_time": "2020-12-30T22:10:20.292531Z"
        },
        "id": "ym69ks_EZ50m",
        "outputId": "9ba0fd13-ac12-43a1-a368-13c3028f31ce",
        "colab": {
          "base_uri": "https://localhost:8080/",
          "height": 0
        }
      },
      "source": [
        "ticker.sustainability"
      ],
      "execution_count": 19,
      "outputs": [
        {
          "output_type": "execute_result",
          "data": {
            "text/html": [
              "<div>\n",
              "<style scoped>\n",
              "    .dataframe tbody tr th:only-of-type {\n",
              "        vertical-align: middle;\n",
              "    }\n",
              "\n",
              "    .dataframe tbody tr th {\n",
              "        vertical-align: top;\n",
              "    }\n",
              "\n",
              "    .dataframe thead th {\n",
              "        text-align: right;\n",
              "    }\n",
              "</style>\n",
              "<table border=\"1\" class=\"dataframe\">\n",
              "  <thead>\n",
              "    <tr style=\"text-align: right;\">\n",
              "      <th></th>\n",
              "      <th>Value</th>\n",
              "    </tr>\n",
              "    <tr>\n",
              "      <th>2021-5</th>\n",
              "      <th></th>\n",
              "    </tr>\n",
              "  </thead>\n",
              "  <tbody>\n",
              "    <tr>\n",
              "      <th>palmOil</th>\n",
              "      <td>False</td>\n",
              "    </tr>\n",
              "    <tr>\n",
              "      <th>controversialWeapons</th>\n",
              "      <td>False</td>\n",
              "    </tr>\n",
              "    <tr>\n",
              "      <th>gambling</th>\n",
              "      <td>False</td>\n",
              "    </tr>\n",
              "    <tr>\n",
              "      <th>socialScore</th>\n",
              "      <td>13.51</td>\n",
              "    </tr>\n",
              "    <tr>\n",
              "      <th>nuclear</th>\n",
              "      <td>False</td>\n",
              "    </tr>\n",
              "    <tr>\n",
              "      <th>furLeather</th>\n",
              "      <td>False</td>\n",
              "    </tr>\n",
              "    <tr>\n",
              "      <th>alcoholic</th>\n",
              "      <td>False</td>\n",
              "    </tr>\n",
              "    <tr>\n",
              "      <th>gmo</th>\n",
              "      <td>False</td>\n",
              "    </tr>\n",
              "    <tr>\n",
              "      <th>catholic</th>\n",
              "      <td>False</td>\n",
              "    </tr>\n",
              "    <tr>\n",
              "      <th>socialPercentile</th>\n",
              "      <td>None</td>\n",
              "    </tr>\n",
              "    <tr>\n",
              "      <th>peerCount</th>\n",
              "      <td>103</td>\n",
              "    </tr>\n",
              "    <tr>\n",
              "      <th>governanceScore</th>\n",
              "      <td>10.18</td>\n",
              "    </tr>\n",
              "    <tr>\n",
              "      <th>environmentPercentile</th>\n",
              "      <td>None</td>\n",
              "    </tr>\n",
              "    <tr>\n",
              "      <th>animalTesting</th>\n",
              "      <td>False</td>\n",
              "    </tr>\n",
              "    <tr>\n",
              "      <th>tobacco</th>\n",
              "      <td>False</td>\n",
              "    </tr>\n",
              "    <tr>\n",
              "      <th>totalEsg</th>\n",
              "      <td>24.78</td>\n",
              "    </tr>\n",
              "    <tr>\n",
              "      <th>highestControversy</th>\n",
              "      <td>4</td>\n",
              "    </tr>\n",
              "    <tr>\n",
              "      <th>esgPerformance</th>\n",
              "      <td>AVG_PERF</td>\n",
              "    </tr>\n",
              "    <tr>\n",
              "      <th>coal</th>\n",
              "      <td>False</td>\n",
              "    </tr>\n",
              "    <tr>\n",
              "      <th>pesticides</th>\n",
              "      <td>False</td>\n",
              "    </tr>\n",
              "    <tr>\n",
              "      <th>adult</th>\n",
              "      <td>False</td>\n",
              "    </tr>\n",
              "    <tr>\n",
              "      <th>percentile</th>\n",
              "      <td>38.48</td>\n",
              "    </tr>\n",
              "    <tr>\n",
              "      <th>peerGroup</th>\n",
              "      <td>Software &amp; Services</td>\n",
              "    </tr>\n",
              "    <tr>\n",
              "      <th>smallArms</th>\n",
              "      <td>False</td>\n",
              "    </tr>\n",
              "    <tr>\n",
              "      <th>environmentScore</th>\n",
              "      <td>1.09</td>\n",
              "    </tr>\n",
              "    <tr>\n",
              "      <th>governancePercentile</th>\n",
              "      <td>None</td>\n",
              "    </tr>\n",
              "    <tr>\n",
              "      <th>militaryContract</th>\n",
              "      <td>False</td>\n",
              "    </tr>\n",
              "  </tbody>\n",
              "</table>\n",
              "</div>"
            ],
            "text/plain": [
              "                                     Value\n",
              "2021-5                                    \n",
              "palmOil                              False\n",
              "controversialWeapons                 False\n",
              "gambling                             False\n",
              "socialScore                          13.51\n",
              "nuclear                              False\n",
              "furLeather                           False\n",
              "alcoholic                            False\n",
              "gmo                                  False\n",
              "catholic                             False\n",
              "socialPercentile                      None\n",
              "peerCount                              103\n",
              "governanceScore                      10.18\n",
              "environmentPercentile                 None\n",
              "animalTesting                        False\n",
              "tobacco                              False\n",
              "totalEsg                             24.78\n",
              "highestControversy                       4\n",
              "esgPerformance                    AVG_PERF\n",
              "coal                                 False\n",
              "pesticides                           False\n",
              "adult                                False\n",
              "percentile                           38.48\n",
              "peerGroup              Software & Services\n",
              "smallArms                            False\n",
              "environmentScore                      1.09\n",
              "governancePercentile                  None\n",
              "militaryContract                     False"
            ]
          },
          "metadata": {
            "tags": []
          },
          "execution_count": 19
        }
      ]
    },
    {
      "cell_type": "markdown",
      "metadata": {
        "id": "b0v3LqurZ50m"
      },
      "source": [
        "### Analyst Recommendations"
      ]
    },
    {
      "cell_type": "code",
      "metadata": {
        "ExecuteTime": {
          "end_time": "2020-12-30T22:10:20.322318Z",
          "start_time": "2020-12-30T22:10:20.307914Z"
        },
        "id": "QSzRFeQTZ50m",
        "outputId": "8c554336-03da-4519-c8ad-034d5bb35f5b",
        "colab": {
          "base_uri": "https://localhost:8080/"
        }
      },
      "source": [
        "ticker.recommendations.info()"
      ],
      "execution_count": 20,
      "outputs": [
        {
          "output_type": "stream",
          "text": [
            "<class 'pandas.core.frame.DataFrame'>\n",
            "DatetimeIndex: 551 entries, 2012-06-22 07:56:00 to 2021-05-25 12:27:57\n",
            "Data columns (total 4 columns):\n",
            " #   Column      Non-Null Count  Dtype \n",
            "---  ------      --------------  ----- \n",
            " 0   Firm        551 non-null    object\n",
            " 1   To Grade    551 non-null    object\n",
            " 2   From Grade  551 non-null    object\n",
            " 3   Action      551 non-null    object\n",
            "dtypes: object(4)\n",
            "memory usage: 21.5+ KB\n"
          ],
          "name": "stdout"
        }
      ]
    },
    {
      "cell_type": "code",
      "metadata": {
        "ExecuteTime": {
          "end_time": "2020-12-30T22:10:20.334167Z",
          "start_time": "2020-12-30T22:10:20.323193Z"
        },
        "id": "X6bE4VaSZ50m",
        "outputId": "02b33ebb-6ac1-449c-e855-697713c9622b",
        "colab": {
          "base_uri": "https://localhost:8080/",
          "height": 0
        }
      },
      "source": [
        "ticker.recommendations.tail(10)"
      ],
      "execution_count": 21,
      "outputs": [
        {
          "output_type": "execute_result",
          "data": {
            "text/html": [
              "<div>\n",
              "<style scoped>\n",
              "    .dataframe tbody tr th:only-of-type {\n",
              "        vertical-align: middle;\n",
              "    }\n",
              "\n",
              "    .dataframe tbody tr th {\n",
              "        vertical-align: top;\n",
              "    }\n",
              "\n",
              "    .dataframe thead th {\n",
              "        text-align: right;\n",
              "    }\n",
              "</style>\n",
              "<table border=\"1\" class=\"dataframe\">\n",
              "  <thead>\n",
              "    <tr style=\"text-align: right;\">\n",
              "      <th></th>\n",
              "      <th>Firm</th>\n",
              "      <th>To Grade</th>\n",
              "      <th>From Grade</th>\n",
              "      <th>Action</th>\n",
              "    </tr>\n",
              "    <tr>\n",
              "      <th>Date</th>\n",
              "      <th></th>\n",
              "      <th></th>\n",
              "      <th></th>\n",
              "      <th></th>\n",
              "    </tr>\n",
              "  </thead>\n",
              "  <tbody>\n",
              "    <tr>\n",
              "      <th>2021-04-29 12:35:13</th>\n",
              "      <td>Jefferies</td>\n",
              "      <td>Buy</td>\n",
              "      <td></td>\n",
              "      <td>main</td>\n",
              "    </tr>\n",
              "    <tr>\n",
              "      <th>2021-04-29 13:23:20</th>\n",
              "      <td>Canaccord Genuity</td>\n",
              "      <td>Buy</td>\n",
              "      <td></td>\n",
              "      <td>main</td>\n",
              "    </tr>\n",
              "    <tr>\n",
              "      <th>2021-04-29 13:26:38</th>\n",
              "      <td>Credit Suisse</td>\n",
              "      <td>Outperform</td>\n",
              "      <td></td>\n",
              "      <td>main</td>\n",
              "    </tr>\n",
              "    <tr>\n",
              "      <th>2021-04-29 13:42:23</th>\n",
              "      <td>Monness, Crespi, Hardt</td>\n",
              "      <td>Buy</td>\n",
              "      <td></td>\n",
              "      <td>main</td>\n",
              "    </tr>\n",
              "    <tr>\n",
              "      <th>2021-04-29 13:43:43</th>\n",
              "      <td>MKM Partners</td>\n",
              "      <td>Buy</td>\n",
              "      <td></td>\n",
              "      <td>main</td>\n",
              "    </tr>\n",
              "    <tr>\n",
              "      <th>2021-04-29 13:45:05</th>\n",
              "      <td>Evercore ISI Group</td>\n",
              "      <td>Outperform</td>\n",
              "      <td></td>\n",
              "      <td>main</td>\n",
              "    </tr>\n",
              "    <tr>\n",
              "      <th>2021-04-29 13:56:47</th>\n",
              "      <td>Barclays</td>\n",
              "      <td>Overweight</td>\n",
              "      <td></td>\n",
              "      <td>main</td>\n",
              "    </tr>\n",
              "    <tr>\n",
              "      <th>2021-04-29 16:38:54</th>\n",
              "      <td>Rosenblatt</td>\n",
              "      <td>Buy</td>\n",
              "      <td></td>\n",
              "      <td>main</td>\n",
              "    </tr>\n",
              "    <tr>\n",
              "      <th>2021-05-10 12:30:42</th>\n",
              "      <td>Citigroup</td>\n",
              "      <td>Neutral</td>\n",
              "      <td>Buy</td>\n",
              "      <td>down</td>\n",
              "    </tr>\n",
              "    <tr>\n",
              "      <th>2021-05-25 12:27:57</th>\n",
              "      <td>HSBC</td>\n",
              "      <td>Reduce</td>\n",
              "      <td></td>\n",
              "      <td>main</td>\n",
              "    </tr>\n",
              "  </tbody>\n",
              "</table>\n",
              "</div>"
            ],
            "text/plain": [
              "                                       Firm    To Grade From Grade Action\n",
              "Date                                                                     \n",
              "2021-04-29 12:35:13               Jefferies         Buy              main\n",
              "2021-04-29 13:23:20       Canaccord Genuity         Buy              main\n",
              "2021-04-29 13:26:38           Credit Suisse  Outperform              main\n",
              "2021-04-29 13:42:23  Monness, Crespi, Hardt         Buy              main\n",
              "2021-04-29 13:43:43            MKM Partners         Buy              main\n",
              "2021-04-29 13:45:05      Evercore ISI Group  Outperform              main\n",
              "2021-04-29 13:56:47                Barclays  Overweight              main\n",
              "2021-04-29 16:38:54              Rosenblatt         Buy              main\n",
              "2021-05-10 12:30:42               Citigroup     Neutral        Buy   down\n",
              "2021-05-25 12:27:57                    HSBC      Reduce              main"
            ]
          },
          "metadata": {
            "tags": []
          },
          "execution_count": 21
        }
      ]
    },
    {
      "cell_type": "markdown",
      "metadata": {
        "id": "iz_qYYRUZ50n"
      },
      "source": [
        "### Upcoming Events"
      ]
    },
    {
      "cell_type": "code",
      "metadata": {
        "ExecuteTime": {
          "end_time": "2020-12-30T22:10:20.347731Z",
          "start_time": "2020-12-30T22:10:20.334969Z"
        },
        "id": "R8zAghhrZ50n",
        "outputId": "fb8102a2-e664-4ed3-eee3-a22e5fdb166b",
        "colab": {
          "base_uri": "https://localhost:8080/",
          "height": 0
        }
      },
      "source": [
        "ticker.calendar"
      ],
      "execution_count": 22,
      "outputs": [
        {
          "output_type": "execute_result",
          "data": {
            "text/html": [
              "<div>\n",
              "<style scoped>\n",
              "    .dataframe tbody tr th:only-of-type {\n",
              "        vertical-align: middle;\n",
              "    }\n",
              "\n",
              "    .dataframe tbody tr th {\n",
              "        vertical-align: top;\n",
              "    }\n",
              "\n",
              "    .dataframe thead th {\n",
              "        text-align: right;\n",
              "    }\n",
              "</style>\n",
              "<table border=\"1\" class=\"dataframe\">\n",
              "  <thead>\n",
              "    <tr style=\"text-align: right;\">\n",
              "      <th></th>\n",
              "      <th>0</th>\n",
              "      <th>1</th>\n",
              "    </tr>\n",
              "  </thead>\n",
              "  <tbody>\n",
              "    <tr>\n",
              "      <th>Earnings Date</th>\n",
              "      <td>2021-07-28 00:00:00</td>\n",
              "      <td>2021-08-02 00:00:00</td>\n",
              "    </tr>\n",
              "    <tr>\n",
              "      <th>Earnings Average</th>\n",
              "      <td>3.02</td>\n",
              "      <td>3.02</td>\n",
              "    </tr>\n",
              "    <tr>\n",
              "      <th>Earnings Low</th>\n",
              "      <td>2.36</td>\n",
              "      <td>2.36</td>\n",
              "    </tr>\n",
              "    <tr>\n",
              "      <th>Earnings High</th>\n",
              "      <td>3.38</td>\n",
              "      <td>3.38</td>\n",
              "    </tr>\n",
              "    <tr>\n",
              "      <th>Revenue Average</th>\n",
              "      <td>27818100000</td>\n",
              "      <td>27818100000</td>\n",
              "    </tr>\n",
              "    <tr>\n",
              "      <th>Revenue Low</th>\n",
              "      <td>27046000000</td>\n",
              "      <td>27046000000</td>\n",
              "    </tr>\n",
              "    <tr>\n",
              "      <th>Revenue High</th>\n",
              "      <td>28399100000</td>\n",
              "      <td>28399100000</td>\n",
              "    </tr>\n",
              "  </tbody>\n",
              "</table>\n",
              "</div>"
            ],
            "text/plain": [
              "                                    0                    1\n",
              "Earnings Date     2021-07-28 00:00:00  2021-08-02 00:00:00\n",
              "Earnings Average                 3.02                 3.02\n",
              "Earnings Low                     2.36                 2.36\n",
              "Earnings High                    3.38                 3.38\n",
              "Revenue Average           27818100000          27818100000\n",
              "Revenue Low               27046000000          27046000000\n",
              "Revenue High              28399100000          28399100000"
            ]
          },
          "metadata": {
            "tags": []
          },
          "execution_count": 22
        }
      ]
    },
    {
      "cell_type": "markdown",
      "metadata": {
        "id": "x0QOGH-KZ50n"
      },
      "source": [
        "### Option Expiration Dates"
      ]
    },
    {
      "cell_type": "code",
      "metadata": {
        "ExecuteTime": {
          "end_time": "2020-12-30T22:10:20.509948Z",
          "start_time": "2020-12-30T22:10:20.348676Z"
        },
        "id": "if-ljkh5Z50n",
        "outputId": "a1f431ed-fcf3-4410-88b5-b6808fe6d460",
        "colab": {
          "base_uri": "https://localhost:8080/"
        }
      },
      "source": [
        "ticker.options"
      ],
      "execution_count": 23,
      "outputs": [
        {
          "output_type": "execute_result",
          "data": {
            "text/plain": [
              "('2021-06-04',\n",
              " '2021-06-11',\n",
              " '2021-06-18',\n",
              " '2021-06-25',\n",
              " '2021-07-02',\n",
              " '2021-07-09',\n",
              " '2021-07-16',\n",
              " '2021-08-20',\n",
              " '2021-09-17',\n",
              " '2021-10-15',\n",
              " '2021-11-19',\n",
              " '2021-12-17',\n",
              " '2022-01-21',\n",
              " '2022-02-18',\n",
              " '2022-03-18',\n",
              " '2022-06-17',\n",
              " '2022-09-16',\n",
              " '2023-01-20',\n",
              " '2023-06-16',\n",
              " '2026-02-21')"
            ]
          },
          "metadata": {
            "tags": []
          },
          "execution_count": 23
        }
      ]
    },
    {
      "cell_type": "code",
      "metadata": {
        "ExecuteTime": {
          "end_time": "2020-12-30T22:10:20.513149Z",
          "start_time": "2020-12-30T22:10:20.511181Z"
        },
        "id": "gfB6rj_XZ50n"
      },
      "source": [
        "expiration = ticker.options[0]"
      ],
      "execution_count": 24,
      "outputs": []
    },
    {
      "cell_type": "code",
      "metadata": {
        "ExecuteTime": {
          "end_time": "2020-12-30T22:10:20.930665Z",
          "start_time": "2020-12-30T22:10:20.514018Z"
        },
        "id": "T-LI5s2HZ50o"
      },
      "source": [
        "options = ticker.option_chain(expiration)"
      ],
      "execution_count": 25,
      "outputs": []
    },
    {
      "cell_type": "code",
      "metadata": {
        "ExecuteTime": {
          "end_time": "2020-12-30T22:10:20.954610Z",
          "start_time": "2020-12-30T22:10:20.938467Z"
        },
        "id": "CXBRXuppZ50o",
        "outputId": "89540891-a69d-412b-96b5-b467ce3ce135",
        "colab": {
          "base_uri": "https://localhost:8080/"
        }
      },
      "source": [
        "options.calls.info()"
      ],
      "execution_count": 26,
      "outputs": [
        {
          "output_type": "stream",
          "text": [
            "<class 'pandas.core.frame.DataFrame'>\n",
            "RangeIndex: 60 entries, 0 to 59\n",
            "Data columns (total 14 columns):\n",
            " #   Column             Non-Null Count  Dtype         \n",
            "---  ------             --------------  -----         \n",
            " 0   contractSymbol     60 non-null     object        \n",
            " 1   lastTradeDate      60 non-null     datetime64[ns]\n",
            " 2   strike             60 non-null     float64       \n",
            " 3   lastPrice          60 non-null     float64       \n",
            " 4   bid                60 non-null     float64       \n",
            " 5   ask                60 non-null     float64       \n",
            " 6   change             60 non-null     float64       \n",
            " 7   percentChange      60 non-null     float64       \n",
            " 8   volume             53 non-null     float64       \n",
            " 9   openInterest       60 non-null     int64         \n",
            " 10  impliedVolatility  60 non-null     float64       \n",
            " 11  inTheMoney         60 non-null     bool          \n",
            " 12  contractSize       60 non-null     object        \n",
            " 13  currency           60 non-null     object        \n",
            "dtypes: bool(1), datetime64[ns](1), float64(8), int64(1), object(3)\n",
            "memory usage: 6.3+ KB\n"
          ],
          "name": "stdout"
        }
      ]
    },
    {
      "cell_type": "code",
      "metadata": {
        "ExecuteTime": {
          "end_time": "2020-12-30T22:10:20.974092Z",
          "start_time": "2020-12-30T22:10:20.956269Z"
        },
        "id": "ZGdBJTjyZ50o",
        "outputId": "0693b12c-7d1d-4615-fa23-c78c4f298181",
        "colab": {
          "base_uri": "https://localhost:8080/",
          "height": 195
        }
      },
      "source": [
        "options.calls.head()"
      ],
      "execution_count": 27,
      "outputs": [
        {
          "output_type": "execute_result",
          "data": {
            "text/html": [
              "<div>\n",
              "<style scoped>\n",
              "    .dataframe tbody tr th:only-of-type {\n",
              "        vertical-align: middle;\n",
              "    }\n",
              "\n",
              "    .dataframe tbody tr th {\n",
              "        vertical-align: top;\n",
              "    }\n",
              "\n",
              "    .dataframe thead th {\n",
              "        text-align: right;\n",
              "    }\n",
              "</style>\n",
              "<table border=\"1\" class=\"dataframe\">\n",
              "  <thead>\n",
              "    <tr style=\"text-align: right;\">\n",
              "      <th></th>\n",
              "      <th>contractSymbol</th>\n",
              "      <th>lastTradeDate</th>\n",
              "      <th>strike</th>\n",
              "      <th>lastPrice</th>\n",
              "      <th>bid</th>\n",
              "      <th>ask</th>\n",
              "      <th>change</th>\n",
              "      <th>percentChange</th>\n",
              "      <th>volume</th>\n",
              "      <th>openInterest</th>\n",
              "      <th>impliedVolatility</th>\n",
              "      <th>inTheMoney</th>\n",
              "      <th>contractSize</th>\n",
              "      <th>currency</th>\n",
              "    </tr>\n",
              "  </thead>\n",
              "  <tbody>\n",
              "    <tr>\n",
              "      <th>0</th>\n",
              "      <td>FB210604C00185000</td>\n",
              "      <td>2021-05-20 16:18:27</td>\n",
              "      <td>185.0</td>\n",
              "      <td>132.40</td>\n",
              "      <td>141.7</td>\n",
              "      <td>146.25</td>\n",
              "      <td>0.0</td>\n",
              "      <td>0.0</td>\n",
              "      <td>2.0</td>\n",
              "      <td>0</td>\n",
              "      <td>2.414066</td>\n",
              "      <td>True</td>\n",
              "      <td>REGULAR</td>\n",
              "      <td>USD</td>\n",
              "    </tr>\n",
              "    <tr>\n",
              "      <th>1</th>\n",
              "      <td>FB210604C00195000</td>\n",
              "      <td>2021-05-17 04:14:02</td>\n",
              "      <td>195.0</td>\n",
              "      <td>109.90</td>\n",
              "      <td>131.7</td>\n",
              "      <td>136.25</td>\n",
              "      <td>0.0</td>\n",
              "      <td>0.0</td>\n",
              "      <td>NaN</td>\n",
              "      <td>2</td>\n",
              "      <td>2.214848</td>\n",
              "      <td>True</td>\n",
              "      <td>REGULAR</td>\n",
              "      <td>USD</td>\n",
              "    </tr>\n",
              "    <tr>\n",
              "      <th>2</th>\n",
              "      <td>FB210604C00200000</td>\n",
              "      <td>2021-05-27 14:01:38</td>\n",
              "      <td>200.0</td>\n",
              "      <td>126.60</td>\n",
              "      <td>126.7</td>\n",
              "      <td>131.25</td>\n",
              "      <td>0.0</td>\n",
              "      <td>0.0</td>\n",
              "      <td>2.0</td>\n",
              "      <td>8</td>\n",
              "      <td>2.117192</td>\n",
              "      <td>True</td>\n",
              "      <td>REGULAR</td>\n",
              "      <td>USD</td>\n",
              "    </tr>\n",
              "    <tr>\n",
              "      <th>3</th>\n",
              "      <td>FB210604C00215000</td>\n",
              "      <td>2021-05-17 04:14:02</td>\n",
              "      <td>215.0</td>\n",
              "      <td>98.13</td>\n",
              "      <td>111.7</td>\n",
              "      <td>116.25</td>\n",
              "      <td>0.0</td>\n",
              "      <td>0.0</td>\n",
              "      <td>NaN</td>\n",
              "      <td>7</td>\n",
              "      <td>1.837891</td>\n",
              "      <td>True</td>\n",
              "      <td>REGULAR</td>\n",
              "      <td>USD</td>\n",
              "    </tr>\n",
              "    <tr>\n",
              "      <th>4</th>\n",
              "      <td>FB210604C00220000</td>\n",
              "      <td>2021-05-20 15:41:30</td>\n",
              "      <td>220.0</td>\n",
              "      <td>97.52</td>\n",
              "      <td>106.7</td>\n",
              "      <td>111.25</td>\n",
              "      <td>0.0</td>\n",
              "      <td>0.0</td>\n",
              "      <td>1.0</td>\n",
              "      <td>0</td>\n",
              "      <td>1.750001</td>\n",
              "      <td>True</td>\n",
              "      <td>REGULAR</td>\n",
              "      <td>USD</td>\n",
              "    </tr>\n",
              "  </tbody>\n",
              "</table>\n",
              "</div>"
            ],
            "text/plain": [
              "      contractSymbol       lastTradeDate  ...  contractSize  currency\n",
              "0  FB210604C00185000 2021-05-20 16:18:27  ...       REGULAR       USD\n",
              "1  FB210604C00195000 2021-05-17 04:14:02  ...       REGULAR       USD\n",
              "2  FB210604C00200000 2021-05-27 14:01:38  ...       REGULAR       USD\n",
              "3  FB210604C00215000 2021-05-17 04:14:02  ...       REGULAR       USD\n",
              "4  FB210604C00220000 2021-05-20 15:41:30  ...       REGULAR       USD\n",
              "\n",
              "[5 rows x 14 columns]"
            ]
          },
          "metadata": {
            "tags": []
          },
          "execution_count": 27
        }
      ]
    },
    {
      "cell_type": "code",
      "metadata": {
        "ExecuteTime": {
          "end_time": "2020-12-30T22:10:20.990394Z",
          "start_time": "2020-12-30T22:10:20.975343Z"
        },
        "id": "KF6MsTpFZ50o",
        "outputId": "fc0034e6-debe-4b42-e1e0-c7a0bcd4af20",
        "colab": {
          "base_uri": "https://localhost:8080/"
        }
      },
      "source": [
        "options.puts.info()"
      ],
      "execution_count": 28,
      "outputs": [
        {
          "output_type": "stream",
          "text": [
            "<class 'pandas.core.frame.DataFrame'>\n",
            "RangeIndex: 65 entries, 0 to 64\n",
            "Data columns (total 14 columns):\n",
            " #   Column             Non-Null Count  Dtype         \n",
            "---  ------             --------------  -----         \n",
            " 0   contractSymbol     65 non-null     object        \n",
            " 1   lastTradeDate      65 non-null     datetime64[ns]\n",
            " 2   strike             65 non-null     float64       \n",
            " 3   lastPrice          65 non-null     float64       \n",
            " 4   bid                63 non-null     float64       \n",
            " 5   ask                65 non-null     float64       \n",
            " 6   change             65 non-null     float64       \n",
            " 7   percentChange      65 non-null     float64       \n",
            " 8   volume             54 non-null     float64       \n",
            " 9   openInterest       64 non-null     float64       \n",
            " 10  impliedVolatility  65 non-null     float64       \n",
            " 11  inTheMoney         65 non-null     bool          \n",
            " 12  contractSize       65 non-null     object        \n",
            " 13  currency           65 non-null     object        \n",
            "dtypes: bool(1), datetime64[ns](1), float64(9), object(3)\n",
            "memory usage: 6.8+ KB\n"
          ],
          "name": "stdout"
        }
      ]
    },
    {
      "cell_type": "markdown",
      "metadata": {
        "id": "rlMVhqzGZ50o"
      },
      "source": [
        "## Data Download with proxy server"
      ]
    },
    {
      "cell_type": "markdown",
      "metadata": {
        "id": "af9oWpCzZ50p"
      },
      "source": [
        "You can use a proxy server to avoid having your IP blacklisted as illustrated below (but need an actual PROXY_SERVER)."
      ]
    },
    {
      "cell_type": "code",
      "metadata": {
        "ExecuteTime": {
          "end_time": "2020-12-30T22:10:20.998688Z",
          "start_time": "2020-12-30T22:10:20.991430Z"
        },
        "id": "TazOlsvKZ50p"
      },
      "source": [
        "PROXY_SERVER = 'PROXY_SERVER'"
      ],
      "execution_count": 29,
      "outputs": []
    },
    {
      "cell_type": "markdown",
      "metadata": {
        "id": "rtrby8-WZ50p"
      },
      "source": [
        "The following will only work with proper PROXY_SERVER..."
      ]
    },
    {
      "cell_type": "code",
      "metadata": {
        "ExecuteTime": {
          "end_time": "2020-12-30T22:10:21.007009Z",
          "start_time": "2020-12-30T22:10:20.999596Z"
        },
        "id": "F1TpYqnmZ50p"
      },
      "source": [
        "# msft = yf.Ticker(\"MSFT\")\n",
        "\n",
        "# msft.history(proxy=PROXY_SERVER)\n",
        "# msft.get_actions(proxy=PROXY_SERVER)\n",
        "# msft.get_dividends(proxy=PROXY_SERVER)\n",
        "# msft.get_splits(proxy=PROXY_SERVER)\n",
        "# msft.get_balance_sheet(proxy=PROXY_SERVER)\n",
        "# msft.get_cashflow(proxy=PROXY_SERVER)\n",
        "# msgt.option_chain(proxy=PROXY_SERVER)"
      ],
      "execution_count": 30,
      "outputs": []
    },
    {
      "cell_type": "markdown",
      "metadata": {
        "id": "kRoAwc95Z50p"
      },
      "source": [
        "## Downloading multiple symbols"
      ]
    },
    {
      "cell_type": "code",
      "metadata": {
        "ExecuteTime": {
          "end_time": "2020-12-30T22:10:21.023516Z",
          "start_time": "2020-12-30T22:10:21.007945Z"
        },
        "id": "nwuNAHk_Z50p"
      },
      "source": [
        "tickers = yf.Tickers('msft aapl goog')"
      ],
      "execution_count": 37,
      "outputs": []
    },
    {
      "cell_type": "code",
      "metadata": {
        "ExecuteTime": {
          "end_time": "2020-12-30T22:10:21.027641Z",
          "start_time": "2020-12-30T22:10:21.024445Z"
        },
        "id": "WgyTiVBrZ50q",
        "outputId": "3daa5faa-5e35-4cce-ce26-eadf6a60534f",
        "colab": {
          "base_uri": "https://localhost:8080/"
        }
      },
      "source": [
        "tickers"
      ],
      "execution_count": 38,
      "outputs": [
        {
          "output_type": "execute_result",
          "data": {
            "text/plain": [
              "yfinance.Tickers object <MSFT,AAPL,GOOG>"
            ]
          },
          "metadata": {
            "tags": []
          },
          "execution_count": 38
        }
      ]
    },
    {
      "cell_type": "code",
      "metadata": {
        "ExecuteTime": {
          "end_time": "2020-12-30T22:10:22.222298Z",
          "start_time": "2020-12-30T22:10:21.028540Z"
        },
        "id": "4i80lkIvZ50q",
        "outputId": "8f605a1f-dadc-4a62-c517-37dc56520af8",
        "colab": {
          "base_uri": "https://localhost:8080/",
          "height": 162
        }
      },
      "source": [
        "#pd.Series(tickers.tickers.MSFT.info)"
      ],
      "execution_count": 36,
      "outputs": [
        {
          "output_type": "error",
          "ename": "AttributeError",
          "evalue": "ignored",
          "traceback": [
            "\u001b[0;31m---------------------------------------------------------------------------\u001b[0m",
            "\u001b[0;31mAttributeError\u001b[0m                            Traceback (most recent call last)",
            "\u001b[0;32m<ipython-input-36-d50569de1c2c>\u001b[0m in \u001b[0;36m<module>\u001b[0;34m()\u001b[0m\n\u001b[0;32m----> 1\u001b[0;31m \u001b[0mpd\u001b[0m\u001b[0;34m.\u001b[0m\u001b[0mSeries\u001b[0m\u001b[0;34m(\u001b[0m\u001b[0mtickers\u001b[0m\u001b[0;34m.\u001b[0m\u001b[0mtickers\u001b[0m\u001b[0;34m.\u001b[0m\u001b[0mMSFT\u001b[0m\u001b[0;34m.\u001b[0m\u001b[0minfo\u001b[0m\u001b[0;34m)\u001b[0m\u001b[0;34m\u001b[0m\u001b[0;34m\u001b[0m\u001b[0m\n\u001b[0m",
            "\u001b[0;31mAttributeError\u001b[0m: 'dict' object has no attribute 'MSFT'"
          ]
        }
      ]
    },
    {
      "cell_type": "code",
      "metadata": {
        "ExecuteTime": {
          "end_time": "2020-12-30T22:10:22.609960Z",
          "start_time": "2020-12-30T22:10:22.223131Z"
        },
        "id": "gi3GnrkhZ50q",
        "outputId": "1d47a63f-ce9d-4ac1-8d25-b35f1a96d525",
        "colab": {
          "base_uri": "https://localhost:8080/",
          "height": 162
        }
      },
      "source": [
        "#tickers.tickers.AAPL.history(period=\"1mo\")"
      ],
      "execution_count": 39,
      "outputs": [
        {
          "output_type": "error",
          "ename": "AttributeError",
          "evalue": "ignored",
          "traceback": [
            "\u001b[0;31m---------------------------------------------------------------------------\u001b[0m",
            "\u001b[0;31mAttributeError\u001b[0m                            Traceback (most recent call last)",
            "\u001b[0;32m<ipython-input-39-77f0ac628327>\u001b[0m in \u001b[0;36m<module>\u001b[0;34m()\u001b[0m\n\u001b[0;32m----> 1\u001b[0;31m \u001b[0mtickers\u001b[0m\u001b[0;34m.\u001b[0m\u001b[0mtickers\u001b[0m\u001b[0;34m.\u001b[0m\u001b[0mAAPL\u001b[0m\u001b[0;34m.\u001b[0m\u001b[0mhistory\u001b[0m\u001b[0;34m(\u001b[0m\u001b[0mperiod\u001b[0m\u001b[0;34m=\u001b[0m\u001b[0;34m\"1mo\"\u001b[0m\u001b[0;34m)\u001b[0m\u001b[0;34m\u001b[0m\u001b[0;34m\u001b[0m\u001b[0m\n\u001b[0m",
            "\u001b[0;31mAttributeError\u001b[0m: 'dict' object has no attribute 'AAPL'"
          ]
        }
      ]
    },
    {
      "cell_type": "code",
      "metadata": {
        "ExecuteTime": {
          "end_time": "2020-12-30T22:10:23.079278Z",
          "start_time": "2020-12-30T22:10:22.611171Z"
        },
        "id": "whA2QGrkZ50q",
        "outputId": "e6b55cee-8da5-402b-a2d4-227f286fd9dd",
        "colab": {
          "base_uri": "https://localhost:8080/",
          "height": 448
        }
      },
      "source": [
        "tickers.history(period='1mo').stack(-1)"
      ],
      "execution_count": 40,
      "outputs": [
        {
          "output_type": "stream",
          "text": [
            "[*********************100%***********************]  3 of 3 completed\n"
          ],
          "name": "stdout"
        },
        {
          "output_type": "execute_result",
          "data": {
            "text/html": [
              "<div>\n",
              "<style scoped>\n",
              "    .dataframe tbody tr th:only-of-type {\n",
              "        vertical-align: middle;\n",
              "    }\n",
              "\n",
              "    .dataframe tbody tr th {\n",
              "        vertical-align: top;\n",
              "    }\n",
              "\n",
              "    .dataframe thead th {\n",
              "        text-align: right;\n",
              "    }\n",
              "</style>\n",
              "<table border=\"1\" class=\"dataframe\">\n",
              "  <thead>\n",
              "    <tr style=\"text-align: right;\">\n",
              "      <th></th>\n",
              "      <th></th>\n",
              "      <th>Close</th>\n",
              "      <th>Dividends</th>\n",
              "      <th>High</th>\n",
              "      <th>Low</th>\n",
              "      <th>Open</th>\n",
              "      <th>Stock Splits</th>\n",
              "      <th>Volume</th>\n",
              "    </tr>\n",
              "    <tr>\n",
              "      <th>Date</th>\n",
              "      <th></th>\n",
              "      <th></th>\n",
              "      <th></th>\n",
              "      <th></th>\n",
              "      <th></th>\n",
              "      <th></th>\n",
              "      <th></th>\n",
              "      <th></th>\n",
              "    </tr>\n",
              "  </thead>\n",
              "  <tbody>\n",
              "    <tr>\n",
              "      <th rowspan=\"3\" valign=\"top\">2021-04-29</th>\n",
              "      <th>AAPL</th>\n",
              "      <td>133.253662</td>\n",
              "      <td>0.0</td>\n",
              "      <td>136.837586</td>\n",
              "      <td>132.225410</td>\n",
              "      <td>136.238598</td>\n",
              "      <td>0</td>\n",
              "      <td>151101000</td>\n",
              "    </tr>\n",
              "    <tr>\n",
              "      <th>GOOG</th>\n",
              "      <td>2429.889893</td>\n",
              "      <td>0.0</td>\n",
              "      <td>2436.520020</td>\n",
              "      <td>2402.280029</td>\n",
              "      <td>2410.330078</td>\n",
              "      <td>0</td>\n",
              "      <td>1977700</td>\n",
              "    </tr>\n",
              "    <tr>\n",
              "      <th>MSFT</th>\n",
              "      <td>251.928268</td>\n",
              "      <td>0.0</td>\n",
              "      <td>255.510009</td>\n",
              "      <td>248.426360</td>\n",
              "      <td>254.871484</td>\n",
              "      <td>0</td>\n",
              "      <td>40589000</td>\n",
              "    </tr>\n",
              "    <tr>\n",
              "      <th rowspan=\"2\" valign=\"top\">2021-04-30</th>\n",
              "      <th>AAPL</th>\n",
              "      <td>131.237091</td>\n",
              "      <td>0.0</td>\n",
              "      <td>133.333521</td>\n",
              "      <td>130.847753</td>\n",
              "      <td>131.556541</td>\n",
              "      <td>0</td>\n",
              "      <td>109713200</td>\n",
              "    </tr>\n",
              "    <tr>\n",
              "      <th>GOOG</th>\n",
              "      <td>2410.120117</td>\n",
              "      <td>0.0</td>\n",
              "      <td>2427.139893</td>\n",
              "      <td>2402.159912</td>\n",
              "      <td>2404.489990</td>\n",
              "      <td>0</td>\n",
              "      <td>1956700</td>\n",
              "    </tr>\n",
              "    <tr>\n",
              "      <th>...</th>\n",
              "      <th>...</th>\n",
              "      <td>...</td>\n",
              "      <td>...</td>\n",
              "      <td>...</td>\n",
              "      <td>...</td>\n",
              "      <td>...</td>\n",
              "      <td>...</td>\n",
              "      <td>...</td>\n",
              "    </tr>\n",
              "    <tr>\n",
              "      <th rowspan=\"2\" valign=\"top\">2021-05-27</th>\n",
              "      <th>GOOG</th>\n",
              "      <td>2402.510010</td>\n",
              "      <td>0.0</td>\n",
              "      <td>2440.000000</td>\n",
              "      <td>2402.000000</td>\n",
              "      <td>2436.939941</td>\n",
              "      <td>0</td>\n",
              "      <td>1948100</td>\n",
              "    </tr>\n",
              "    <tr>\n",
              "      <th>MSFT</th>\n",
              "      <td>249.309998</td>\n",
              "      <td>0.0</td>\n",
              "      <td>251.479996</td>\n",
              "      <td>249.250000</td>\n",
              "      <td>251.169998</td>\n",
              "      <td>0</td>\n",
              "      <td>24426200</td>\n",
              "    </tr>\n",
              "    <tr>\n",
              "      <th rowspan=\"3\" valign=\"top\">2021-05-28</th>\n",
              "      <th>AAPL</th>\n",
              "      <td>124.610001</td>\n",
              "      <td>0.0</td>\n",
              "      <td>125.800003</td>\n",
              "      <td>124.550003</td>\n",
              "      <td>125.570000</td>\n",
              "      <td>0</td>\n",
              "      <td>71232700</td>\n",
              "    </tr>\n",
              "    <tr>\n",
              "      <th>GOOG</th>\n",
              "      <td>2411.560059</td>\n",
              "      <td>0.0</td>\n",
              "      <td>2428.139893</td>\n",
              "      <td>2407.689941</td>\n",
              "      <td>2421.959961</td>\n",
              "      <td>0</td>\n",
              "      <td>1205000</td>\n",
              "    </tr>\n",
              "    <tr>\n",
              "      <th>MSFT</th>\n",
              "      <td>249.679993</td>\n",
              "      <td>0.0</td>\n",
              "      <td>252.080002</td>\n",
              "      <td>249.559998</td>\n",
              "      <td>251.000000</td>\n",
              "      <td>0</td>\n",
              "      <td>18270200</td>\n",
              "    </tr>\n",
              "  </tbody>\n",
              "</table>\n",
              "<p>66 rows × 7 columns</p>\n",
              "</div>"
            ],
            "text/plain": [
              "                       Close  Dividends  ...  Stock Splits     Volume\n",
              "Date                                     ...                         \n",
              "2021-04-29 AAPL   133.253662        0.0  ...             0  151101000\n",
              "           GOOG  2429.889893        0.0  ...             0    1977700\n",
              "           MSFT   251.928268        0.0  ...             0   40589000\n",
              "2021-04-30 AAPL   131.237091        0.0  ...             0  109713200\n",
              "           GOOG  2410.120117        0.0  ...             0    1956700\n",
              "...                      ...        ...  ...           ...        ...\n",
              "2021-05-27 GOOG  2402.510010        0.0  ...             0    1948100\n",
              "           MSFT   249.309998        0.0  ...             0   24426200\n",
              "2021-05-28 AAPL   124.610001        0.0  ...             0   71232700\n",
              "           GOOG  2411.560059        0.0  ...             0    1205000\n",
              "           MSFT   249.679993        0.0  ...             0   18270200\n",
              "\n",
              "[66 rows x 7 columns]"
            ]
          },
          "metadata": {
            "tags": []
          },
          "execution_count": 40
        }
      ]
    },
    {
      "cell_type": "code",
      "metadata": {
        "ExecuteTime": {
          "end_time": "2020-12-30T22:10:23.280307Z",
          "start_time": "2020-12-30T22:10:23.080251Z"
        },
        "id": "3lzIhB36Z50q",
        "outputId": "ae18245d-4c29-413d-a468-de7771e1ac62",
        "colab": {
          "base_uri": "https://localhost:8080/"
        }
      },
      "source": [
        "data = yf.download(\"SPY AAPL\", start=\"2020-01-01\", end=\"2020-01-05\")"
      ],
      "execution_count": 41,
      "outputs": [
        {
          "output_type": "stream",
          "text": [
            "[*********************100%***********************]  2 of 2 completed\n"
          ],
          "name": "stdout"
        }
      ]
    },
    {
      "cell_type": "code",
      "metadata": {
        "ExecuteTime": {
          "end_time": "2020-12-30T22:10:23.290789Z",
          "start_time": "2020-12-30T22:10:23.281500Z"
        },
        "id": "yOU1fNMoZ50r",
        "outputId": "66d1332e-bad1-4c03-d633-5c15ea4de3c0",
        "colab": {
          "base_uri": "https://localhost:8080/"
        }
      },
      "source": [
        "data.info()"
      ],
      "execution_count": 43,
      "outputs": [
        {
          "output_type": "stream",
          "text": [
            "<class 'pandas.core.frame.DataFrame'>\n",
            "DatetimeIndex: 2 entries, 2020-01-02 to 2020-01-03\n",
            "Data columns (total 12 columns):\n",
            " #   Column             Non-Null Count  Dtype  \n",
            "---  ------             --------------  -----  \n",
            " 0   (Adj Close, AAPL)  2 non-null      float64\n",
            " 1   (Adj Close, SPY)   2 non-null      float64\n",
            " 2   (Close, AAPL)      2 non-null      float64\n",
            " 3   (Close, SPY)       2 non-null      float64\n",
            " 4   (High, AAPL)       2 non-null      float64\n",
            " 5   (High, SPY)        2 non-null      float64\n",
            " 6   (Low, AAPL)        2 non-null      float64\n",
            " 7   (Low, SPY)         2 non-null      float64\n",
            " 8   (Open, AAPL)       2 non-null      float64\n",
            " 9   (Open, SPY)        2 non-null      float64\n",
            " 10  (Volume, AAPL)     2 non-null      int64  \n",
            " 11  (Volume, SPY)      2 non-null      int64  \n",
            "dtypes: float64(10), int64(2)\n",
            "memory usage: 208.0 bytes\n"
          ],
          "name": "stdout"
        }
      ]
    },
    {
      "cell_type": "code",
      "metadata": {
        "ExecuteTime": {
          "end_time": "2020-12-30T22:10:23.890433Z",
          "start_time": "2020-12-30T22:10:23.292190Z"
        },
        "id": "jK4ffu9AZ50r",
        "outputId": "4db9e51b-cc3a-43f9-e1a0-4e00991a962d",
        "colab": {
          "base_uri": "https://localhost:8080/"
        }
      },
      "source": [
        "data = yf.download(\n",
        "        tickers = \"SPY AAPL MSFT\", # list or string\n",
        "\n",
        "        # use \"period\" instead of start/end\n",
        "        # valid periods: 1d,5d,1mo,3mo,6mo,1y,2y,5y,10y,ytd,max\n",
        "        # (optional, default is '1mo')\n",
        "        period = \"5d\",\n",
        "\n",
        "        # fetch data by interval (including intraday if period < 60 days)\n",
        "        # valid intervals: 1m,2m,5m,15m,30m,60m,90m,1h,1d,5d,1wk,1mo,3mo\n",
        "        # (optional, default is '1d')\n",
        "        interval = \"1m\",\n",
        "\n",
        "        # group by ticker (to access via data['SPY'])\n",
        "        # (optional, default is 'column')\n",
        "        group_by = 'ticker',\n",
        "\n",
        "        # adjust all OHLC automatically\n",
        "        # (optional, default is False)\n",
        "        auto_adjust = True,\n",
        "\n",
        "        # download pre/post regular market hours data\n",
        "        # (optional, default is False)\n",
        "        prepost = True,\n",
        "\n",
        "        # use threads for mass downloading? (True/False/Integer)\n",
        "        # (optional, default is True)\n",
        "        threads = True,\n",
        "\n",
        "        # proxy URL scheme use use when downloading?\n",
        "        # (optional, default is None)\n",
        "        proxy = None\n",
        "    )"
      ],
      "execution_count": 44,
      "outputs": [
        {
          "output_type": "stream",
          "text": [
            "[*********************100%***********************]  3 of 3 completed\n"
          ],
          "name": "stdout"
        }
      ]
    },
    {
      "cell_type": "code",
      "metadata": {
        "ExecuteTime": {
          "end_time": "2020-12-30T22:10:23.905366Z",
          "start_time": "2020-12-30T22:10:23.891377Z"
        },
        "id": "I6Hfp2JoZ50r",
        "outputId": "50e591fc-77c7-4f7c-c15b-ab1d6441b3c4",
        "colab": {
          "base_uri": "https://localhost:8080/"
        }
      },
      "source": [
        "data.info()"
      ],
      "execution_count": 45,
      "outputs": [
        {
          "output_type": "stream",
          "text": [
            "<class 'pandas.core.frame.DataFrame'>\n",
            "DatetimeIndex: 4742 entries, 2021-05-24 04:00:00-04:00 to 2021-05-28 19:59:00-04:00\n",
            "Data columns (total 15 columns):\n",
            " #   Column          Non-Null Count  Dtype  \n",
            "---  ------          --------------  -----  \n",
            " 0   (AAPL, Open)    4709 non-null   float64\n",
            " 1   (AAPL, High)    4709 non-null   float64\n",
            " 2   (AAPL, Low)     4709 non-null   float64\n",
            " 3   (AAPL, Close)   4709 non-null   float64\n",
            " 4   (AAPL, Volume)  4709 non-null   float64\n",
            " 5   (SPY, Open)     4448 non-null   float64\n",
            " 6   (SPY, High)     4448 non-null   float64\n",
            " 7   (SPY, Low)      4448 non-null   float64\n",
            " 8   (SPY, Close)    4448 non-null   float64\n",
            " 9   (SPY, Volume)   4448 non-null   float64\n",
            " 10  (MSFT, Open)    4085 non-null   float64\n",
            " 11  (MSFT, High)    4085 non-null   float64\n",
            " 12  (MSFT, Low)     4085 non-null   float64\n",
            " 13  (MSFT, Close)   4085 non-null   float64\n",
            " 14  (MSFT, Volume)  4085 non-null   float64\n",
            "dtypes: float64(15)\n",
            "memory usage: 592.8 KB\n"
          ],
          "name": "stdout"
        }
      ]
    },
    {
      "cell_type": "code",
      "metadata": {
        "ExecuteTime": {
          "end_time": "2020-12-30T22:10:24.352264Z",
          "start_time": "2020-12-30T22:10:23.906522Z"
        },
        "id": "kk1x7vrOZ50s",
        "outputId": "47c2d3fe-04ee-4a2b-c143-caf553f0e943",
        "colab": {
          "base_uri": "https://localhost:8080/"
        }
      },
      "source": [
        "from pandas_datareader import data as pdr\n",
        "\n",
        "import yfinance as yf\n",
        "yf.pdr_override()\n",
        "\n",
        "# download dataframe\n",
        "data = pdr.get_data_yahoo('SPY',\n",
        "                          start='2017-01-01',\n",
        "                          end='2019-04-30',\n",
        "                          auto_adjust=False)"
      ],
      "execution_count": 46,
      "outputs": [
        {
          "output_type": "stream",
          "text": [
            "\r[*********************100%***********************]  1 of 1 completed\n"
          ],
          "name": "stdout"
        }
      ]
    },
    {
      "cell_type": "code",
      "metadata": {
        "ExecuteTime": {
          "end_time": "2020-12-30T22:10:24.362899Z",
          "start_time": "2020-12-30T22:10:24.354134Z"
        },
        "id": "D68uEPsfZ50s",
        "outputId": "55896762-603c-47b2-90cd-8b0604837e10",
        "colab": {
          "base_uri": "https://localhost:8080/",
          "height": 225
        }
      },
      "source": [
        "# auto_adjust = True\n",
        "data.tail()"
      ],
      "execution_count": 47,
      "outputs": [
        {
          "output_type": "execute_result",
          "data": {
            "text/html": [
              "<div>\n",
              "<style scoped>\n",
              "    .dataframe tbody tr th:only-of-type {\n",
              "        vertical-align: middle;\n",
              "    }\n",
              "\n",
              "    .dataframe tbody tr th {\n",
              "        vertical-align: top;\n",
              "    }\n",
              "\n",
              "    .dataframe thead th {\n",
              "        text-align: right;\n",
              "    }\n",
              "</style>\n",
              "<table border=\"1\" class=\"dataframe\">\n",
              "  <thead>\n",
              "    <tr style=\"text-align: right;\">\n",
              "      <th></th>\n",
              "      <th>Open</th>\n",
              "      <th>High</th>\n",
              "      <th>Low</th>\n",
              "      <th>Close</th>\n",
              "      <th>Adj Close</th>\n",
              "      <th>Volume</th>\n",
              "    </tr>\n",
              "    <tr>\n",
              "      <th>Date</th>\n",
              "      <th></th>\n",
              "      <th></th>\n",
              "      <th></th>\n",
              "      <th></th>\n",
              "      <th></th>\n",
              "      <th></th>\n",
              "    </tr>\n",
              "  </thead>\n",
              "  <tbody>\n",
              "    <tr>\n",
              "      <th>2019-04-23</th>\n",
              "      <td>290.679993</td>\n",
              "      <td>293.140015</td>\n",
              "      <td>290.420013</td>\n",
              "      <td>292.880005</td>\n",
              "      <td>282.485352</td>\n",
              "      <td>52246600</td>\n",
              "    </tr>\n",
              "    <tr>\n",
              "      <th>2019-04-24</th>\n",
              "      <td>292.790009</td>\n",
              "      <td>293.160004</td>\n",
              "      <td>292.070007</td>\n",
              "      <td>292.230011</td>\n",
              "      <td>281.858429</td>\n",
              "      <td>50392900</td>\n",
              "    </tr>\n",
              "    <tr>\n",
              "      <th>2019-04-25</th>\n",
              "      <td>292.119995</td>\n",
              "      <td>292.779999</td>\n",
              "      <td>290.730011</td>\n",
              "      <td>292.049988</td>\n",
              "      <td>281.684845</td>\n",
              "      <td>57770900</td>\n",
              "    </tr>\n",
              "    <tr>\n",
              "      <th>2019-04-26</th>\n",
              "      <td>292.100006</td>\n",
              "      <td>293.489990</td>\n",
              "      <td>291.239990</td>\n",
              "      <td>293.410004</td>\n",
              "      <td>282.996582</td>\n",
              "      <td>50916400</td>\n",
              "    </tr>\n",
              "    <tr>\n",
              "      <th>2019-04-29</th>\n",
              "      <td>293.510010</td>\n",
              "      <td>294.450012</td>\n",
              "      <td>293.410004</td>\n",
              "      <td>293.869995</td>\n",
              "      <td>283.440216</td>\n",
              "      <td>57197700</td>\n",
              "    </tr>\n",
              "  </tbody>\n",
              "</table>\n",
              "</div>"
            ],
            "text/plain": [
              "                  Open        High  ...   Adj Close    Volume\n",
              "Date                                ...                      \n",
              "2019-04-23  290.679993  293.140015  ...  282.485352  52246600\n",
              "2019-04-24  292.790009  293.160004  ...  281.858429  50392900\n",
              "2019-04-25  292.119995  292.779999  ...  281.684845  57770900\n",
              "2019-04-26  292.100006  293.489990  ...  282.996582  50916400\n",
              "2019-04-29  293.510010  294.450012  ...  283.440216  57197700\n",
              "\n",
              "[5 rows x 6 columns]"
            ]
          },
          "metadata": {
            "tags": []
          },
          "execution_count": 47
        }
      ]
    },
    {
      "cell_type": "code",
      "metadata": {
        "ExecuteTime": {
          "end_time": "2020-12-30T22:10:24.380357Z",
          "start_time": "2020-12-30T22:10:24.364065Z"
        },
        "id": "Q--D5TmKZ50s",
        "outputId": "d58fbae0-1f05-4a27-b6ca-4bbc876d645e",
        "colab": {
          "base_uri": "https://localhost:8080/",
          "height": 225
        }
      },
      "source": [
        "# auto_adjust = False\n",
        "data.tail()"
      ],
      "execution_count": 48,
      "outputs": [
        {
          "output_type": "execute_result",
          "data": {
            "text/html": [
              "<div>\n",
              "<style scoped>\n",
              "    .dataframe tbody tr th:only-of-type {\n",
              "        vertical-align: middle;\n",
              "    }\n",
              "\n",
              "    .dataframe tbody tr th {\n",
              "        vertical-align: top;\n",
              "    }\n",
              "\n",
              "    .dataframe thead th {\n",
              "        text-align: right;\n",
              "    }\n",
              "</style>\n",
              "<table border=\"1\" class=\"dataframe\">\n",
              "  <thead>\n",
              "    <tr style=\"text-align: right;\">\n",
              "      <th></th>\n",
              "      <th>Open</th>\n",
              "      <th>High</th>\n",
              "      <th>Low</th>\n",
              "      <th>Close</th>\n",
              "      <th>Adj Close</th>\n",
              "      <th>Volume</th>\n",
              "    </tr>\n",
              "    <tr>\n",
              "      <th>Date</th>\n",
              "      <th></th>\n",
              "      <th></th>\n",
              "      <th></th>\n",
              "      <th></th>\n",
              "      <th></th>\n",
              "      <th></th>\n",
              "    </tr>\n",
              "  </thead>\n",
              "  <tbody>\n",
              "    <tr>\n",
              "      <th>2019-04-23</th>\n",
              "      <td>290.679993</td>\n",
              "      <td>293.140015</td>\n",
              "      <td>290.420013</td>\n",
              "      <td>292.880005</td>\n",
              "      <td>282.485352</td>\n",
              "      <td>52246600</td>\n",
              "    </tr>\n",
              "    <tr>\n",
              "      <th>2019-04-24</th>\n",
              "      <td>292.790009</td>\n",
              "      <td>293.160004</td>\n",
              "      <td>292.070007</td>\n",
              "      <td>292.230011</td>\n",
              "      <td>281.858429</td>\n",
              "      <td>50392900</td>\n",
              "    </tr>\n",
              "    <tr>\n",
              "      <th>2019-04-25</th>\n",
              "      <td>292.119995</td>\n",
              "      <td>292.779999</td>\n",
              "      <td>290.730011</td>\n",
              "      <td>292.049988</td>\n",
              "      <td>281.684845</td>\n",
              "      <td>57770900</td>\n",
              "    </tr>\n",
              "    <tr>\n",
              "      <th>2019-04-26</th>\n",
              "      <td>292.100006</td>\n",
              "      <td>293.489990</td>\n",
              "      <td>291.239990</td>\n",
              "      <td>293.410004</td>\n",
              "      <td>282.996582</td>\n",
              "      <td>50916400</td>\n",
              "    </tr>\n",
              "    <tr>\n",
              "      <th>2019-04-29</th>\n",
              "      <td>293.510010</td>\n",
              "      <td>294.450012</td>\n",
              "      <td>293.410004</td>\n",
              "      <td>293.869995</td>\n",
              "      <td>283.440216</td>\n",
              "      <td>57197700</td>\n",
              "    </tr>\n",
              "  </tbody>\n",
              "</table>\n",
              "</div>"
            ],
            "text/plain": [
              "                  Open        High  ...   Adj Close    Volume\n",
              "Date                                ...                      \n",
              "2019-04-23  290.679993  293.140015  ...  282.485352  52246600\n",
              "2019-04-24  292.790009  293.160004  ...  281.858429  50392900\n",
              "2019-04-25  292.119995  292.779999  ...  281.684845  57770900\n",
              "2019-04-26  292.100006  293.489990  ...  282.996582  50916400\n",
              "2019-04-29  293.510010  294.450012  ...  283.440216  57197700\n",
              "\n",
              "[5 rows x 6 columns]"
            ]
          },
          "metadata": {
            "tags": []
          },
          "execution_count": 48
        }
      ]
    },
    {
      "cell_type": "code",
      "metadata": {
        "id": "jVbtF_S3Z50s"
      },
      "source": [
        ""
      ],
      "execution_count": 48,
      "outputs": []
    }
  ]
}