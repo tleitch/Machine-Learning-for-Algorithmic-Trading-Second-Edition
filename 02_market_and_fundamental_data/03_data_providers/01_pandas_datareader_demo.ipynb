{
  "nbformat": 4,
  "nbformat_minor": 0,
  "metadata": {
    "kernelspec": {
      "display_name": "Python [conda env:ml4t] *",
      "language": "python",
      "name": "conda-env-ml4t-py"
    },
    "language_info": {
      "codemirror_mode": {
        "name": "ipython",
        "version": 3
      },
      "file_extension": ".py",
      "mimetype": "text/x-python",
      "name": "python",
      "nbconvert_exporter": "python",
      "pygments_lexer": "ipython3",
      "version": "3.8.5"
    },
    "toc": {
      "base_numbering": 1,
      "nav_menu": {},
      "number_sections": true,
      "sideBar": true,
      "skip_h1_title": true,
      "title_cell": "Table of Contents",
      "title_sidebar": "Contents",
      "toc_cell": false,
      "toc_position": {},
      "toc_section_display": true,
      "toc_window_display": true
    },
    "colab": {
      "name": "01_pandas_datareader_demo.ipynb",
      "provenance": [],
      "include_colab_link": true
    }
  },
  "cells": [
    {
      "cell_type": "markdown",
      "metadata": {
        "id": "view-in-github",
        "colab_type": "text"
      },
      "source": [
        "<a href=\"https://colab.research.google.com/github/tleitch/Machine-Learning-for-Algorithmic-Trading-Second-Edition/blob/master/02_market_and_fundamental_data/03_data_providers/01_pandas_datareader_demo.ipynb\" target=\"_parent\"><img src=\"https://colab.research.google.com/assets/colab-badge.svg\" alt=\"Open In Colab\"/></a>"
      ]
    },
    {
      "cell_type": "markdown",
      "metadata": {
        "id": "KXrlDvwBZhNE"
      },
      "source": [
        "# Remote data access using pandas"
      ]
    },
    {
      "cell_type": "markdown",
      "metadata": {
        "id": "JD61ZQhLZhNG"
      },
      "source": [
        "The pandas library enables access to data displayed on websites using the `read_html()` function and access to the API endpoints of various data providers through the related `pandas-datareader` library."
      ]
    },
    {
      "cell_type": "markdown",
      "metadata": {
        "id": "SwZKL7HeZhNG"
      },
      "source": [
        "## Imports & Settings"
      ]
    },
    {
      "cell_type": "code",
      "metadata": {
        "ExecuteTime": {
          "end_time": "2021-02-23T04:36:41.124896Z",
          "start_time": "2021-02-23T04:36:41.123096Z"
        },
        "id": "1o9i_ZHcZhNH"
      },
      "source": [
        "import warnings\n",
        "warnings.filterwarnings('ignore')"
      ],
      "execution_count": 34,
      "outputs": []
    },
    {
      "cell_type": "code",
      "metadata": {
        "ExecuteTime": {
          "end_time": "2021-02-23T04:36:41.822087Z",
          "start_time": "2021-02-23T04:36:41.267751Z"
        },
        "id": "cXrqULPSZhNH",
        "colab": {
          "base_uri": "https://localhost:8080/"
        },
        "outputId": "e6cc4192-25f0-4dd5-8ed9-57e20689d642"
      },
      "source": [
        "!pip install mplfinance\n",
        "%matplotlib inline\n",
        "import os\n",
        "from datetime import datetime\n",
        "import pandas as pd\n",
        "import pandas_datareader.data as web\n",
        "import matplotlib.pyplot as plt\n",
        "import mplfinance as mpf\n",
        "import seaborn as sns"
      ],
      "execution_count": 35,
      "outputs": [
        {
          "output_type": "stream",
          "text": [
            "Requirement already satisfied: mplfinance in /usr/local/lib/python3.7/dist-packages (0.12.7a17)\n",
            "Requirement already satisfied: matplotlib in /usr/local/lib/python3.7/dist-packages (from mplfinance) (3.2.2)\n",
            "Requirement already satisfied: pandas in /usr/local/lib/python3.7/dist-packages (from mplfinance) (1.1.5)\n",
            "Requirement already satisfied: cycler>=0.10 in /usr/local/lib/python3.7/dist-packages (from matplotlib->mplfinance) (0.10.0)\n",
            "Requirement already satisfied: pyparsing!=2.0.4,!=2.1.2,!=2.1.6,>=2.0.1 in /usr/local/lib/python3.7/dist-packages (from matplotlib->mplfinance) (2.4.7)\n",
            "Requirement already satisfied: numpy>=1.11 in /usr/local/lib/python3.7/dist-packages (from matplotlib->mplfinance) (1.19.5)\n",
            "Requirement already satisfied: python-dateutil>=2.1 in /usr/local/lib/python3.7/dist-packages (from matplotlib->mplfinance) (2.8.1)\n",
            "Requirement already satisfied: kiwisolver>=1.0.1 in /usr/local/lib/python3.7/dist-packages (from matplotlib->mplfinance) (1.3.1)\n",
            "Requirement already satisfied: pytz>=2017.2 in /usr/local/lib/python3.7/dist-packages (from pandas->mplfinance) (2018.9)\n",
            "Requirement already satisfied: six in /usr/local/lib/python3.7/dist-packages (from cycler>=0.10->matplotlib->mplfinance) (1.15.0)\n"
          ],
          "name": "stdout"
        }
      ]
    },
    {
      "cell_type": "markdown",
      "metadata": {
        "id": "b45l_2P9ZhNI"
      },
      "source": [
        "## Download html table with SP500 constituents"
      ]
    },
    {
      "cell_type": "markdown",
      "metadata": {
        "id": "nxPhlao5ZhNI"
      },
      "source": [
        "The download of the content of one or more html tables works as follows, for instance for the constituents of the S&P500 index from Wikipedia"
      ]
    },
    {
      "cell_type": "code",
      "metadata": {
        "ExecuteTime": {
          "end_time": "2021-02-23T04:36:45.937804Z",
          "start_time": "2021-02-23T04:36:45.527493Z"
        },
        "id": "1wvFjWleZhNI"
      },
      "source": [
        "sp_url = 'https://en.wikipedia.org/wiki/List_of_S%26P_500_companies'\n",
        "sp500_constituents = pd.read_html(sp_url, header=0)[0]"
      ],
      "execution_count": 36,
      "outputs": []
    },
    {
      "cell_type": "code",
      "metadata": {
        "ExecuteTime": {
          "end_time": "2021-02-23T04:36:45.949932Z",
          "start_time": "2021-02-23T04:36:45.941702Z"
        },
        "scrolled": true,
        "id": "ziXpWs9HZhNI",
        "colab": {
          "base_uri": "https://localhost:8080/"
        },
        "outputId": "ab4633eb-7110-4fc6-a025-1a82f42d5453"
      },
      "source": [
        "sp500_constituents.info()"
      ],
      "execution_count": 37,
      "outputs": [
        {
          "output_type": "stream",
          "text": [
            "<class 'pandas.core.frame.DataFrame'>\n",
            "RangeIndex: 505 entries, 0 to 504\n",
            "Data columns (total 9 columns):\n",
            " #   Column                 Non-Null Count  Dtype \n",
            "---  ------                 --------------  ----- \n",
            " 0   Symbol                 505 non-null    object\n",
            " 1   Security               505 non-null    object\n",
            " 2   SEC filings            505 non-null    object\n",
            " 3   GICS Sector            505 non-null    object\n",
            " 4   GICS Sub-Industry      505 non-null    object\n",
            " 5   Headquarters Location  505 non-null    object\n",
            " 6   Date first added       453 non-null    object\n",
            " 7   CIK                    505 non-null    int64 \n",
            " 8   Founded                505 non-null    object\n",
            "dtypes: int64(1), object(8)\n",
            "memory usage: 35.6+ KB\n"
          ],
          "name": "stdout"
        }
      ]
    },
    {
      "cell_type": "code",
      "metadata": {
        "ExecuteTime": {
          "end_time": "2021-02-23T04:36:45.966881Z",
          "start_time": "2021-02-23T04:36:45.951514Z"
        },
        "id": "jbTbmkocZhNK",
        "colab": {
          "base_uri": "https://localhost:8080/",
          "height": 195
        },
        "outputId": "7ff3cc65-b6fe-4f48-ed59-66491c2df2f0"
      },
      "source": [
        "sp500_constituents.head()"
      ],
      "execution_count": 38,
      "outputs": [
        {
          "output_type": "execute_result",
          "data": {
            "text/html": [
              "<div>\n",
              "<style scoped>\n",
              "    .dataframe tbody tr th:only-of-type {\n",
              "        vertical-align: middle;\n",
              "    }\n",
              "\n",
              "    .dataframe tbody tr th {\n",
              "        vertical-align: top;\n",
              "    }\n",
              "\n",
              "    .dataframe thead th {\n",
              "        text-align: right;\n",
              "    }\n",
              "</style>\n",
              "<table border=\"1\" class=\"dataframe\">\n",
              "  <thead>\n",
              "    <tr style=\"text-align: right;\">\n",
              "      <th></th>\n",
              "      <th>Symbol</th>\n",
              "      <th>Security</th>\n",
              "      <th>SEC filings</th>\n",
              "      <th>GICS Sector</th>\n",
              "      <th>GICS Sub-Industry</th>\n",
              "      <th>Headquarters Location</th>\n",
              "      <th>Date first added</th>\n",
              "      <th>CIK</th>\n",
              "      <th>Founded</th>\n",
              "    </tr>\n",
              "  </thead>\n",
              "  <tbody>\n",
              "    <tr>\n",
              "      <th>0</th>\n",
              "      <td>MMM</td>\n",
              "      <td>3M Company</td>\n",
              "      <td>reports</td>\n",
              "      <td>Industrials</td>\n",
              "      <td>Industrial Conglomerates</td>\n",
              "      <td>St. Paul, Minnesota</td>\n",
              "      <td>1976-08-09</td>\n",
              "      <td>66740</td>\n",
              "      <td>1902</td>\n",
              "    </tr>\n",
              "    <tr>\n",
              "      <th>1</th>\n",
              "      <td>ABT</td>\n",
              "      <td>Abbott Laboratories</td>\n",
              "      <td>reports</td>\n",
              "      <td>Health Care</td>\n",
              "      <td>Health Care Equipment</td>\n",
              "      <td>North Chicago, Illinois</td>\n",
              "      <td>1964-03-31</td>\n",
              "      <td>1800</td>\n",
              "      <td>1888</td>\n",
              "    </tr>\n",
              "    <tr>\n",
              "      <th>2</th>\n",
              "      <td>ABBV</td>\n",
              "      <td>AbbVie Inc.</td>\n",
              "      <td>reports</td>\n",
              "      <td>Health Care</td>\n",
              "      <td>Pharmaceuticals</td>\n",
              "      <td>North Chicago, Illinois</td>\n",
              "      <td>2012-12-31</td>\n",
              "      <td>1551152</td>\n",
              "      <td>2013 (1888)</td>\n",
              "    </tr>\n",
              "    <tr>\n",
              "      <th>3</th>\n",
              "      <td>ABMD</td>\n",
              "      <td>Abiomed</td>\n",
              "      <td>reports</td>\n",
              "      <td>Health Care</td>\n",
              "      <td>Health Care Equipment</td>\n",
              "      <td>Danvers, Massachusetts</td>\n",
              "      <td>2018-05-31</td>\n",
              "      <td>815094</td>\n",
              "      <td>1981</td>\n",
              "    </tr>\n",
              "    <tr>\n",
              "      <th>4</th>\n",
              "      <td>ACN</td>\n",
              "      <td>Accenture</td>\n",
              "      <td>reports</td>\n",
              "      <td>Information Technology</td>\n",
              "      <td>IT Consulting &amp; Other Services</td>\n",
              "      <td>Dublin, Ireland</td>\n",
              "      <td>2011-07-06</td>\n",
              "      <td>1467373</td>\n",
              "      <td>1989</td>\n",
              "    </tr>\n",
              "  </tbody>\n",
              "</table>\n",
              "</div>"
            ],
            "text/plain": [
              "  Symbol             Security  ...      CIK      Founded\n",
              "0    MMM           3M Company  ...    66740         1902\n",
              "1    ABT  Abbott Laboratories  ...     1800         1888\n",
              "2   ABBV          AbbVie Inc.  ...  1551152  2013 (1888)\n",
              "3   ABMD              Abiomed  ...   815094         1981\n",
              "4    ACN            Accenture  ...  1467373         1989\n",
              "\n",
              "[5 rows x 9 columns]"
            ]
          },
          "metadata": {
            "tags": []
          },
          "execution_count": 38
        }
      ]
    },
    {
      "cell_type": "markdown",
      "metadata": {
        "id": "JKgpfh8lZhNK"
      },
      "source": [
        "## pandas-datareader for Market Data"
      ]
    },
    {
      "cell_type": "markdown",
      "metadata": {
        "id": "vgqpjRZhZhNK"
      },
      "source": [
        "`pandas` used to facilitate access to data providers' APIs directly, but this functionality has moved to the related pandas-datareader library. The stability of the APIs varies with provider policies, and as of June 2o18 at version 0.7, the following sources are available"
      ]
    },
    {
      "cell_type": "markdown",
      "metadata": {
        "id": "GMZD34fTZhNL"
      },
      "source": [
        "See [documentation](https://pandas-datareader.readthedocs.io/en/latest/); functionality frequently changes as underlying provider APIs evolve."
      ]
    },
    {
      "cell_type": "markdown",
      "metadata": {
        "id": "w_7kNw09ZhNL"
      },
      "source": [
        "### Yahoo Finance"
      ]
    },
    {
      "cell_type": "code",
      "metadata": {
        "ExecuteTime": {
          "end_time": "2021-02-23T04:36:46.535356Z",
          "start_time": "2021-02-23T04:36:45.968045Z"
        },
        "id": "GiAVgOH-ZhNL",
        "colab": {
          "base_uri": "https://localhost:8080/"
        },
        "outputId": "82da67e9-dc29-4cd4-a76d-7b4087dd4863"
      },
      "source": [
        "start = '2014'\n",
        "end = datetime(2017, 5, 24)\n",
        "\n",
        "yahoo= web.DataReader('FB', 'yahoo', start=start, end=end)\n",
        "yahoo.info()"
      ],
      "execution_count": 39,
      "outputs": [
        {
          "output_type": "stream",
          "text": [
            "<class 'pandas.core.frame.DataFrame'>\n",
            "DatetimeIndex: 855 entries, 2014-01-02 to 2017-05-24\n",
            "Data columns (total 6 columns):\n",
            " #   Column     Non-Null Count  Dtype  \n",
            "---  ------     --------------  -----  \n",
            " 0   High       855 non-null    float64\n",
            " 1   Low        855 non-null    float64\n",
            " 2   Open       855 non-null    float64\n",
            " 3   Close      855 non-null    float64\n",
            " 4   Volume     855 non-null    int64  \n",
            " 5   Adj Close  855 non-null    float64\n",
            "dtypes: float64(5), int64(1)\n",
            "memory usage: 46.8 KB\n"
          ],
          "name": "stdout"
        }
      ]
    },
    {
      "cell_type": "code",
      "metadata": {
        "ExecuteTime": {
          "end_time": "2021-02-23T04:36:46.695297Z",
          "start_time": "2021-02-23T04:36:46.536332Z"
        },
        "id": "RLRvMXkWZhNL",
        "colab": {
          "base_uri": "https://localhost:8080/",
          "height": 541
        },
        "outputId": "e6de0e72-6c5a-42cf-dcee-aa22307c269d"
      },
      "source": [
        "mpf.plot(yahoo.drop('Adj Close', axis=1), type='candle')\n",
        "plt.tight_layout()"
      ],
      "execution_count": 40,
      "outputs": [
        {
          "output_type": "display_data",
          "data": {
            "image/png": "[encoded data removed]",
            "text/plain": [
              "<Figure size 800x575 with 2 Axes>"
            ]
          },
          "metadata": {
            "tags": []
          }
        },
        {
          "output_type": "display_data",
          "data": {
            "text/plain": [
              "<Figure size 640x480 with 0 Axes>"
            ]
          },
          "metadata": {
            "tags": []
          }
        }
      ]
    },
    {
      "cell_type": "markdown",
      "metadata": {
        "id": "-RB4JAZ4ZhNM"
      },
      "source": [
        "### IEX"
      ]
    },
    {
      "cell_type": "markdown",
      "metadata": {
        "id": "sy-P0aZtZhNM"
      },
      "source": [
        "IEX is an alternative exchange started in response to the HFT controversy and portrayed in Michael Lewis' controversial Flash Boys. It aims to slow down the speed of trading to create a more level playing field and has been growing rapidly since launch in 2016 while still small with a market share of around 2.5% in June 2018."
      ]
    },
    {
      "cell_type": "markdown",
      "metadata": {
        "id": "jNE-gCWkZhNM"
      },
      "source": [
        "> **Note:** IEX now requires an [API](https://iexcloud.io/) key after registration for (free) account that you can store as environment variable and retrieve as illustrated below, or pass directly via keyword argument to `pandas_datareader`."
      ]
    },
    {
      "cell_type": "code",
      "metadata": {
        "ExecuteTime": {
          "end_time": "2021-02-23T04:36:46.698081Z",
          "start_time": "2021-02-23T04:36:46.696234Z"
        },
        "id": "RmDfTbtvZhNM"
      },
      "source": [
        "#IEX_API_KEY=os.getenv('IEX_API_KEY')"
      ],
      "execution_count": 41,
      "outputs": []
    },
    {
      "cell_type": "code",
      "metadata": {
        "ExecuteTime": {
          "end_time": "2021-02-23T04:36:48.119608Z",
          "start_time": "2021-02-23T04:36:46.699375Z"
        },
        "id": "ZYa653bcZhNN",
        "colab": {
          "base_uri": "https://localhost:8080/",
          "height": 354
        },
        "outputId": "f7fe9b3d-feb7-4a03-d811-3b3e2c5c5ad8"
      },
      "source": [
        "start = datetime(2015, 2, 9)\n",
        "# end = datetime(2017, 5, 24)\n",
        "\n",
        "iex = web.DataReader('FB', 'iex', start, api_key=\"\")\n",
        "iex.info()"
      ],
      "execution_count": 42,
      "outputs": [
        {
          "output_type": "error",
          "ename": "ValueError",
          "evalue": "ignored",
          "traceback": [
            "\u001b[0;31m---------------------------------------------------------------------------\u001b[0m",
            "\u001b[0;31mValueError\u001b[0m                                Traceback (most recent call last)",
            "\u001b[0;32m<ipython-input-42-9f199b2fdbac>\u001b[0m in \u001b[0;36m<module>\u001b[0;34m()\u001b[0m\n\u001b[1;32m      2\u001b[0m \u001b[0;31m# end = datetime(2017, 5, 24)\u001b[0m\u001b[0;34m\u001b[0m\u001b[0;34m\u001b[0m\u001b[0;34m\u001b[0m\u001b[0m\n\u001b[1;32m      3\u001b[0m \u001b[0;34m\u001b[0m\u001b[0m\n\u001b[0;32m----> 4\u001b[0;31m \u001b[0miex\u001b[0m \u001b[0;34m=\u001b[0m \u001b[0mweb\u001b[0m\u001b[0;34m.\u001b[0m\u001b[0mDataReader\u001b[0m\u001b[0;34m(\u001b[0m\u001b[0;34m'FB'\u001b[0m\u001b[0;34m,\u001b[0m \u001b[0;34m'iex'\u001b[0m\u001b[0;34m,\u001b[0m \u001b[0mstart\u001b[0m\u001b[0;34m,\u001b[0m \u001b[0mapi_key\u001b[0m\u001b[0;34m=\u001b[0m\u001b[0;34m\"\"\u001b[0m\u001b[0;34m)\u001b[0m\u001b[0;34m\u001b[0m\u001b[0;34m\u001b[0m\u001b[0m\n\u001b[0m\u001b[1;32m      5\u001b[0m \u001b[0miex\u001b[0m\u001b[0;34m.\u001b[0m\u001b[0minfo\u001b[0m\u001b[0;34m(\u001b[0m\u001b[0;34m)\u001b[0m\u001b[0;34m\u001b[0m\u001b[0;34m\u001b[0m\u001b[0m\n",
            "\u001b[0;32m/usr/local/lib/python3.7/dist-packages/pandas/util/_decorators.py\u001b[0m in \u001b[0;36mwrapper\u001b[0;34m(*args, **kwargs)\u001b[0m\n\u001b[1;32m    197\u001b[0m                 \u001b[0;32melse\u001b[0m\u001b[0;34m:\u001b[0m\u001b[0;34m\u001b[0m\u001b[0;34m\u001b[0m\u001b[0m\n\u001b[1;32m    198\u001b[0m                     \u001b[0mkwargs\u001b[0m\u001b[0;34m[\u001b[0m\u001b[0mnew_arg_name\u001b[0m\u001b[0;34m]\u001b[0m \u001b[0;34m=\u001b[0m \u001b[0mnew_arg_value\u001b[0m\u001b[0;34m\u001b[0m\u001b[0;34m\u001b[0m\u001b[0m\n\u001b[0;32m--> 199\u001b[0;31m             \u001b[0;32mreturn\u001b[0m \u001b[0mfunc\u001b[0m\u001b[0;34m(\u001b[0m\u001b[0;34m*\u001b[0m\u001b[0margs\u001b[0m\u001b[0;34m,\u001b[0m \u001b[0;34m**\u001b[0m\u001b[0mkwargs\u001b[0m\u001b[0;34m)\u001b[0m\u001b[0;34m\u001b[0m\u001b[0;34m\u001b[0m\u001b[0m\n\u001b[0m\u001b[1;32m    200\u001b[0m \u001b[0;34m\u001b[0m\u001b[0m\n\u001b[1;32m    201\u001b[0m         \u001b[0;32mreturn\u001b[0m \u001b[0mcast\u001b[0m\u001b[0;34m(\u001b[0m\u001b[0mF\u001b[0m\u001b[0;34m,\u001b[0m \u001b[0mwrapper\u001b[0m\u001b[0;34m)\u001b[0m\u001b[0;34m\u001b[0m\u001b[0;34m\u001b[0m\u001b[0m\n",
            "\u001b[0;32m/usr/local/lib/python3.7/dist-packages/pandas_datareader/data.py\u001b[0m in \u001b[0;36mDataReader\u001b[0;34m(name, data_source, start, end, retry_count, pause, session, api_key)\u001b[0m\n\u001b[1;32m    394\u001b[0m             \u001b[0mretry_count\u001b[0m\u001b[0;34m=\u001b[0m\u001b[0mretry_count\u001b[0m\u001b[0;34m,\u001b[0m\u001b[0;34m\u001b[0m\u001b[0;34m\u001b[0m\u001b[0m\n\u001b[1;32m    395\u001b[0m             \u001b[0mpause\u001b[0m\u001b[0;34m=\u001b[0m\u001b[0mpause\u001b[0m\u001b[0;34m,\u001b[0m\u001b[0;34m\u001b[0m\u001b[0;34m\u001b[0m\u001b[0m\n\u001b[0;32m--> 396\u001b[0;31m             \u001b[0msession\u001b[0m\u001b[0;34m=\u001b[0m\u001b[0msession\u001b[0m\u001b[0;34m,\u001b[0m\u001b[0;34m\u001b[0m\u001b[0;34m\u001b[0m\u001b[0m\n\u001b[0m\u001b[1;32m    397\u001b[0m         ).read()\n\u001b[1;32m    398\u001b[0m \u001b[0;34m\u001b[0m\u001b[0m\n",
            "\u001b[0;32m/usr/local/lib/python3.7/dist-packages/pandas_datareader/iex/daily.py\u001b[0m in \u001b[0;36m__init__\u001b[0;34m(self, symbols, start, end, retry_count, pause, session, chunksize, api_key)\u001b[0m\n\u001b[1;32m     62\u001b[0m         \u001b[0;32mif\u001b[0m \u001b[0;32mnot\u001b[0m \u001b[0mapi_key\u001b[0m \u001b[0;32mor\u001b[0m \u001b[0;32mnot\u001b[0m \u001b[0misinstance\u001b[0m\u001b[0;34m(\u001b[0m\u001b[0mapi_key\u001b[0m\u001b[0;34m,\u001b[0m \u001b[0mstr\u001b[0m\u001b[0;34m)\u001b[0m\u001b[0;34m:\u001b[0m\u001b[0;34m\u001b[0m\u001b[0;34m\u001b[0m\u001b[0m\n\u001b[1;32m     63\u001b[0m             raise ValueError(\n\u001b[0;32m---> 64\u001b[0;31m                 \u001b[0;34m\"The IEX Cloud API key must be provided either \"\u001b[0m\u001b[0;34m\u001b[0m\u001b[0;34m\u001b[0m\u001b[0m\n\u001b[0m\u001b[1;32m     65\u001b[0m                 \u001b[0;34m\"through the api_key variable or through the \"\u001b[0m\u001b[0;34m\u001b[0m\u001b[0;34m\u001b[0m\u001b[0m\n\u001b[1;32m     66\u001b[0m                 \u001b[0;34m\" environment variable IEX_API_KEY\"\u001b[0m\u001b[0;34m\u001b[0m\u001b[0;34m\u001b[0m\u001b[0m\n",
            "\u001b[0;31mValueError\u001b[0m: The IEX Cloud API key must be provided either through the api_key variable or through the  environment variable IEX_API_KEY"
          ]
        }
      ]
    },
    {
      "cell_type": "code",
      "metadata": {
        "ExecuteTime": {
          "end_time": "2021-02-23T04:36:48.133390Z",
          "start_time": "2021-02-23T04:36:48.122277Z"
        },
        "id": "ODOVwtzYZhNN"
      },
      "source": [
        "iex.tail()"
      ],
      "execution_count": null,
      "outputs": []
    },
    {
      "cell_type": "code",
      "metadata": {
        "ExecuteTime": {
          "end_time": "2021-02-23T04:36:48.275043Z",
          "start_time": "2021-02-23T04:36:48.136118Z"
        },
        "id": "PnLhGwcaZhNN"
      },
      "source": [
        "sns.set_style('whitegrid')\n",
        "iex.close.plot(figsize=(14, 5))\n",
        "sns.despine()"
      ],
      "execution_count": null,
      "outputs": []
    },
    {
      "cell_type": "markdown",
      "metadata": {
        "id": "JUpqMl39ZhNP"
      },
      "source": [
        "#### Book Data\n",
        "\n",
        "In addition to historical EOD price and volume data, IEX provides real-time depth of book quotations that offer an aggregated size of orders by price and side. This service also includes last trade price and size information.\n",
        "\n",
        "DEEP is used to receive real-time depth of book quotations direct from IEX. The depth of book quotations received via DEEP provide an aggregated size of resting displayed orders at a price and side, and do not indicate the size or number of individual orders at any price level. Non-displayed orders and non-displayed portions of reserve orders are not represented in DEEP.\n",
        "\n",
        "DEEP also provides last trade price and size information. Trades resulting from either displayed or non-displayed orders matching on IEX will be reported. Routed executions will not be reported."
      ]
    },
    {
      "cell_type": "markdown",
      "metadata": {
        "id": "EHpqfCXGZhNQ"
      },
      "source": [
        "Only works on trading days."
      ]
    },
    {
      "cell_type": "code",
      "metadata": {
        "ExecuteTime": {
          "end_time": "2021-02-23T04:36:48.482101Z",
          "start_time": "2021-02-23T04:36:48.275981Z"
        },
        "id": "zd8Ov5AwZhNQ"
      },
      "source": [
        "book = web.get_iex_book('AAPL')"
      ],
      "execution_count": null,
      "outputs": []
    },
    {
      "cell_type": "code",
      "metadata": {
        "ExecuteTime": {
          "end_time": "2021-02-23T04:36:48.486712Z",
          "start_time": "2021-02-23T04:36:48.483507Z"
        },
        "id": "iTu315PiZhNQ"
      },
      "source": [
        "list(book.keys())"
      ],
      "execution_count": null,
      "outputs": []
    },
    {
      "cell_type": "code",
      "metadata": {
        "ExecuteTime": {
          "end_time": "2021-02-23T04:36:48.499105Z",
          "start_time": "2021-02-23T04:36:48.488047Z"
        },
        "id": "4WHh3IigZhNQ"
      },
      "source": [
        "orders = pd.concat([pd.DataFrame(book[side]).assign(side=side) for side in ['bids', 'asks']])\n",
        "orders.head()"
      ],
      "execution_count": null,
      "outputs": []
    },
    {
      "cell_type": "code",
      "metadata": {
        "ExecuteTime": {
          "end_time": "2021-02-23T04:36:48.524610Z",
          "start_time": "2021-02-23T04:36:48.500486Z"
        },
        "id": "2YugH3SUZhNQ"
      },
      "source": [
        "for key in book.keys():\n",
        "    try:\n",
        "        print(f'\\n{key}')\n",
        "        print(pd.DataFrame(book[key]))\n",
        "    except:\n",
        "        print(book[key])"
      ],
      "execution_count": null,
      "outputs": []
    },
    {
      "cell_type": "code",
      "metadata": {
        "ExecuteTime": {
          "end_time": "2021-02-23T04:36:48.534789Z",
          "start_time": "2021-02-23T04:36:48.525826Z"
        },
        "id": "shVvEL-eZhNR"
      },
      "source": [
        "pd.DataFrame(book['trades']).head()"
      ],
      "execution_count": null,
      "outputs": []
    },
    {
      "cell_type": "markdown",
      "metadata": {
        "id": "QEl5q4UjZhNR"
      },
      "source": [
        "### Quandl"
      ]
    },
    {
      "cell_type": "markdown",
      "metadata": {
        "id": "ioTyw9AYZhNR"
      },
      "source": [
        "Obtain Quandl [API Key](https://www.quandl.com/tools/api) and store in environment variable as `QUANDL_API_KEY`."
      ]
    },
    {
      "cell_type": "code",
      "metadata": {
        "ExecuteTime": {
          "end_time": "2021-02-23T04:36:49.223603Z",
          "start_time": "2021-02-23T04:36:48.535939Z"
        },
        "id": "EvIYUzPjZhNR"
      },
      "source": [
        "symbol = 'FB.US'\n",
        "\n",
        "#quandl = web.DataReader(symbol, 'quandl', '2015-01-01')\n",
        "#quandl.info()"
      ],
      "execution_count": null,
      "outputs": []
    },
    {
      "cell_type": "markdown",
      "metadata": {
        "id": "ZaSvcdZyZhNR"
      },
      "source": [
        "### FRED"
      ]
    },
    {
      "cell_type": "code",
      "metadata": {
        "ExecuteTime": {
          "end_time": "2021-02-23T04:36:49.389817Z",
          "start_time": "2021-02-23T04:36:49.224612Z"
        },
        "id": "53PVw-9xZhNS",
        "colab": {
          "base_uri": "https://localhost:8080/"
        },
        "outputId": "b90fcd42-ca87-4678-c858-03d560ab70da"
      },
      "source": [
        "start = datetime(2010, 1, 1)\n",
        "\n",
        "end = datetime(2013, 1, 27)\n",
        "\n",
        "gdp = web.DataReader('GDP', 'fred', start, end)\n",
        "\n",
        "gdp.info()"
      ],
      "execution_count": 43,
      "outputs": [
        {
          "output_type": "stream",
          "text": [
            "<class 'pandas.core.frame.DataFrame'>\n",
            "DatetimeIndex: 13 entries, 2010-01-01 to 2013-01-01\n",
            "Data columns (total 1 columns):\n",
            " #   Column  Non-Null Count  Dtype  \n",
            "---  ------  --------------  -----  \n",
            " 0   GDP     13 non-null     float64\n",
            "dtypes: float64(1)\n",
            "memory usage: 208.0 bytes\n"
          ],
          "name": "stdout"
        }
      ]
    },
    {
      "cell_type": "code",
      "metadata": {
        "ExecuteTime": {
          "end_time": "2021-02-23T04:36:50.004503Z",
          "start_time": "2021-02-23T04:36:49.390862Z"
        },
        "id": "NZ4_AZcwZhNS"
      },
      "source": [
        "inflation = web.DataReader(['CPIAUCSL', 'CPILFESL'], 'fred', start, end)\n",
        "inflation.info()"
      ],
      "execution_count": null,
      "outputs": []
    },
    {
      "cell_type": "markdown",
      "metadata": {
        "id": "JMeoBHsdZhNS"
      },
      "source": [
        "### Fama/French"
      ]
    },
    {
      "cell_type": "code",
      "metadata": {
        "ExecuteTime": {
          "end_time": "2021-02-23T04:36:50.515533Z",
          "start_time": "2021-02-23T04:36:50.005740Z"
        },
        "id": "UMMENOu0ZhNS"
      },
      "source": [
        "from pandas_datareader.famafrench import get_available_datasets\n",
        "get_available_datasets()"
      ],
      "execution_count": null,
      "outputs": []
    },
    {
      "cell_type": "code",
      "metadata": {
        "ExecuteTime": {
          "end_time": "2021-02-23T04:36:50.904251Z",
          "start_time": "2021-02-23T04:36:50.516593Z"
        },
        "id": "J2M-6qHwZhNS"
      },
      "source": [
        "ds = web.DataReader('5_Industry_Portfolios', 'famafrench')\n",
        "print(ds['DESCR'])"
      ],
      "execution_count": null,
      "outputs": []
    },
    {
      "cell_type": "markdown",
      "metadata": {
        "id": "K2HAY-oZZhNT"
      },
      "source": [
        "### World Bank"
      ]
    },
    {
      "cell_type": "code",
      "metadata": {
        "ExecuteTime": {
          "end_time": "2021-02-23T04:36:56.629830Z",
          "start_time": "2021-02-23T04:36:50.905260Z"
        },
        "id": "m3wEENCJZhNT"
      },
      "source": [
        "from pandas_datareader import wb\n",
        "gdp_variables = wb.search('gdp.*capita.*const')\n",
        "gdp_variables.head()"
      ],
      "execution_count": null,
      "outputs": []
    },
    {
      "cell_type": "code",
      "metadata": {
        "ExecuteTime": {
          "end_time": "2021-02-23T04:36:57.146688Z",
          "start_time": "2021-02-23T04:36:56.631607Z"
        },
        "id": "w4XnIohdZhNT"
      },
      "source": [
        "wb_data = wb.download(indicator='NY.GDP.PCAP.KD', \n",
        "                      country=['US', 'CA', 'MX'], \n",
        "                      start=1990, \n",
        "                      end=2019)\n",
        "wb_data.head()"
      ],
      "execution_count": null,
      "outputs": []
    },
    {
      "cell_type": "markdown",
      "metadata": {
        "id": "DNVUZ1M7ZhNT"
      },
      "source": [
        "### OECD"
      ]
    },
    {
      "cell_type": "code",
      "metadata": {
        "ExecuteTime": {
          "end_time": "2021-02-23T04:37:02.128793Z",
          "start_time": "2021-02-23T04:36:57.147865Z"
        },
        "id": "Aw_lvcBzZhNU"
      },
      "source": [
        "df = web.DataReader('TUD', 'oecd', start='2010', end='2019')\n",
        "df[['Japan', 'United States']]"
      ],
      "execution_count": null,
      "outputs": []
    },
    {
      "cell_type": "markdown",
      "metadata": {
        "id": "t4uK7TdGZhNU"
      },
      "source": [
        "\n",
        "\n",
        "### Stooq"
      ]
    },
    {
      "cell_type": "markdown",
      "metadata": {
        "id": "E_fHglnVZhNU"
      },
      "source": [
        "Google finance stopped providing common index data download. The Stooq site had this data for download for a while but is currently broken, awaiting release of [fix](https://github.com/pydata/pandas-datareader/issues/594)"
      ]
    },
    {
      "cell_type": "code",
      "metadata": {
        "ExecuteTime": {
          "end_time": "2021-02-23T04:37:03.460307Z",
          "start_time": "2021-02-23T04:37:02.130619Z"
        },
        "id": "z9Q33-y5ZhNU"
      },
      "source": [
        "index_url = 'https://stooq.com/t/'\n",
        "ix = pd.read_html(index_url)\n",
        "len(ix)"
      ],
      "execution_count": null,
      "outputs": []
    },
    {
      "cell_type": "code",
      "metadata": {
        "ExecuteTime": {
          "end_time": "2021-02-23T04:37:04.441008Z",
          "start_time": "2021-02-23T04:37:03.461330Z"
        },
        "id": "uEdUH1ezZhNU"
      },
      "source": [
        "sp500_stooq = web.DataReader('^SPX', 'stooq')\n",
        "sp500_stooq.info()"
      ],
      "execution_count": null,
      "outputs": []
    },
    {
      "cell_type": "code",
      "metadata": {
        "ExecuteTime": {
          "end_time": "2021-02-23T04:37:04.448907Z",
          "start_time": "2021-02-23T04:37:04.441995Z"
        },
        "id": "HCc47H8eZhNV"
      },
      "source": [
        "sp500_stooq.head()"
      ],
      "execution_count": null,
      "outputs": []
    },
    {
      "cell_type": "code",
      "metadata": {
        "ExecuteTime": {
          "end_time": "2021-02-23T04:37:04.631004Z",
          "start_time": "2021-02-23T04:37:04.450111Z"
        },
        "id": "Wwj-pKzwZhNV"
      },
      "source": [
        "sp500_stooq.Close.plot(figsize=(14,4))\n",
        "sns.despine()\n",
        "plt.tight_layout()"
      ],
      "execution_count": null,
      "outputs": []
    },
    {
      "cell_type": "markdown",
      "metadata": {
        "id": "CrAs69p1ZhNV"
      },
      "source": [
        "### NASDAQ Symbols"
      ]
    },
    {
      "cell_type": "code",
      "metadata": {
        "ExecuteTime": {
          "end_time": "2021-02-23T04:37:05.927531Z",
          "start_time": "2021-02-23T04:37:04.631969Z"
        },
        "id": "LAl-EjFtZhNV"
      },
      "source": [
        "from pandas_datareader.nasdaq_trader import get_nasdaq_symbols\n",
        "symbols = get_nasdaq_symbols()\n",
        "symbols.info()"
      ],
      "execution_count": null,
      "outputs": []
    },
    {
      "cell_type": "markdown",
      "metadata": {
        "id": "4yqEil3yZhNV"
      },
      "source": [
        "### Tiingo"
      ]
    },
    {
      "cell_type": "markdown",
      "metadata": {
        "id": "11JZKTz3ZhNW"
      },
      "source": [
        "Requires [signing up](https://api.tiingo.com/) and storing API key in environment"
      ]
    },
    {
      "cell_type": "code",
      "metadata": {
        "ExecuteTime": {
          "end_time": "2021-02-23T04:37:06.345107Z",
          "start_time": "2021-02-23T04:37:05.928725Z"
        },
        "id": "cWETdsuEZhNW"
      },
      "source": [
        "df = web.get_data_tiingo('GOOG', api_key=os.getenv('TIINGO_API_KEY'))"
      ],
      "execution_count": null,
      "outputs": []
    },
    {
      "cell_type": "code",
      "metadata": {
        "ExecuteTime": {
          "end_time": "2021-02-23T04:37:06.354168Z",
          "start_time": "2021-02-23T04:37:06.346088Z"
        },
        "id": "_axIm6PqZhNW"
      },
      "source": [
        "df.info()"
      ],
      "execution_count": null,
      "outputs": []
    }
  ]
}